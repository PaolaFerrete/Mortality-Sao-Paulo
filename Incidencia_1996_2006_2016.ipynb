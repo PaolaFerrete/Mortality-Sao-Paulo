{
  "nbformat": 4,
  "nbformat_minor": 0,
  "metadata": {
    "colab": {
      "name": "Incidencia_1996-2006-2016.ipynb",
      "provenance": [],
      "collapsed_sections": [],
      "authorship_tag": "ABX9TyOiulwaAFkAoHDSQnDcSNHh",
      "include_colab_link": true
    },
    "kernelspec": {
      "name": "python3",
      "display_name": "Python 3"
    }
  },
  "cells": [
    {
      "cell_type": "markdown",
      "metadata": {
        "id": "view-in-github",
        "colab_type": "text"
      },
      "source": [
        "<a href=\"https://colab.research.google.com/github/PaolaFerrete/Mortality_S-o-Paulo/blob/main/Incidencia_1996_2006_2016.ipynb\" target=\"_parent\"><img src=\"https://colab.research.google.com/assets/colab-badge.svg\" alt=\"Open In Colab\"/></a>"
      ]
    },
    {
      "cell_type": "code",
      "metadata": {
        "id": "IcLXguSMAHYP"
      },
      "source": [
        "#importar bibliotecas\r\n",
        "import pandas as pd\r\n",
        "import numpy as np"
      ],
      "execution_count": 5,
      "outputs": []
    },
    {
      "cell_type": "code",
      "metadata": {
        "colab": {
          "base_uri": "https://localhost:8080/"
        },
        "id": "AP_bVuJpAjWz",
        "outputId": "73d63d64-9327-42ce-bbc0-40aea9f522d9"
      },
      "source": [
        "#Conectar com Google Drive\r\n",
        "from google.colab import drive\r\n",
        "drive.mount('/content/drive')"
      ],
      "execution_count": 2,
      "outputs": [
        {
          "output_type": "stream",
          "text": [
            "Mounted at /content/drive\n"
          ],
          "name": "stdout"
        }
      ]
    },
    {
      "cell_type": "markdown",
      "metadata": {
        "id": "SL8TvCJcCgNX"
      },
      "source": [
        "**Informação Referente à CE_1996**\r\n",
        "**Mortalidade Geral**\r\n",
        "\r\n",
        "Óbitos Residentes MSP por Causas Específicas e Sexo\r\n",
        "\r\n",
        "Período: 1996\r\n",
        "\r\n",
        "Fonte: Sistema de Informações sobre Mortalidade - SIM/PRO-AIM-CEInfo-SMS-SP"
      ]
    },
    {
      "cell_type": "code",
      "metadata": {
        "colab": {
          "base_uri": "https://localhost:8080/",
          "height": 407
        },
        "id": "4YN0KCgYA6Rd",
        "outputId": "f6849301-7343-4acf-ff25-e1b5cef561b5"
      },
      "source": [
        "#importar arquivo xlsx\r\n",
        "Causas_esp_1996 = pd.read_excel('/content/drive/MyDrive/Projetos Python/Geografia da Mortalidade /Incidencia_Causas_Especificas/Total_Causas_Especificas_1996_xlsx.xlsx')\r\n",
        "Causas_esp_1996 #backup"
      ],
      "execution_count": 118,
      "outputs": [
        {
          "output_type": "execute_result",
          "data": {
            "text/html": [
              "<div>\n",
              "<style scoped>\n",
              "    .dataframe tbody tr th:only-of-type {\n",
              "        vertical-align: middle;\n",
              "    }\n",
              "\n",
              "    .dataframe tbody tr th {\n",
              "        vertical-align: top;\n",
              "    }\n",
              "\n",
              "    .dataframe thead th {\n",
              "        text-align: right;\n",
              "    }\n",
              "</style>\n",
              "<table border=\"1\" class=\"dataframe\">\n",
              "  <thead>\n",
              "    <tr style=\"text-align: right;\">\n",
              "      <th></th>\n",
              "      <th>Mortalidade Geral</th>\n",
              "      <th>Unnamed: 1</th>\n",
              "      <th>Unnamed: 2</th>\n",
              "      <th>Unnamed: 3</th>\n",
              "      <th>Unnamed: 4</th>\n",
              "    </tr>\n",
              "  </thead>\n",
              "  <tbody>\n",
              "    <tr>\n",
              "      <th>0</th>\n",
              "      <td>Óbitos Residentes MSP por Causas específicas e...</td>\n",
              "      <td>NaN</td>\n",
              "      <td>NaN</td>\n",
              "      <td>NaN</td>\n",
              "      <td>NaN</td>\n",
              "    </tr>\n",
              "    <tr>\n",
              "      <th>1</th>\n",
              "      <td>Período:1996</td>\n",
              "      <td>NaN</td>\n",
              "      <td>NaN</td>\n",
              "      <td>NaN</td>\n",
              "      <td>NaN</td>\n",
              "    </tr>\n",
              "    <tr>\n",
              "      <th>2</th>\n",
              "      <td>Causas específicas</td>\n",
              "      <td>Masculino</td>\n",
              "      <td>Feminino</td>\n",
              "      <td>Ignorado</td>\n",
              "      <td>Total</td>\n",
              "    </tr>\n",
              "    <tr>\n",
              "      <th>3</th>\n",
              "      <td>Doencas infec intest</td>\n",
              "      <td>166</td>\n",
              "      <td>124</td>\n",
              "      <td>-</td>\n",
              "      <td>290</td>\n",
              "    </tr>\n",
              "    <tr>\n",
              "      <th>4</th>\n",
              "      <td>Tuberculose</td>\n",
              "      <td>478</td>\n",
              "      <td>170</td>\n",
              "      <td>-</td>\n",
              "      <td>648</td>\n",
              "    </tr>\n",
              "    <tr>\n",
              "      <th>...</th>\n",
              "      <td>...</td>\n",
              "      <td>...</td>\n",
              "      <td>...</td>\n",
              "      <td>...</td>\n",
              "      <td>...</td>\n",
              "    </tr>\n",
              "    <tr>\n",
              "      <th>71</th>\n",
              "      <td>Notas:</td>\n",
              "      <td>NaN</td>\n",
              "      <td>NaN</td>\n",
              "      <td>NaN</td>\n",
              "      <td>NaN</td>\n",
              "    </tr>\n",
              "    <tr>\n",
              "      <th>72</th>\n",
              "      <td>1. Para tabulações de proporções, o campo refe...</td>\n",
              "      <td>NaN</td>\n",
              "      <td>NaN</td>\n",
              "      <td>NaN</td>\n",
              "      <td>NaN</td>\n",
              "    </tr>\n",
              "    <tr>\n",
              "      <th>73</th>\n",
              "      <td>2. Os coeficientes de mortalidade podem ser ta...</td>\n",
              "      <td>NaN</td>\n",
              "      <td>NaN</td>\n",
              "      <td>NaN</td>\n",
              "      <td>NaN</td>\n",
              "    </tr>\n",
              "    <tr>\n",
              "      <th>74</th>\n",
              "      <td>3. Os coeficientes de mortalidade por homicídi...</td>\n",
              "      <td>NaN</td>\n",
              "      <td>NaN</td>\n",
              "      <td>NaN</td>\n",
              "      <td>NaN</td>\n",
              "    </tr>\n",
              "    <tr>\n",
              "      <th>75</th>\n",
              "      <td>4. A partir de 2005, os óbitos por acidentes d...</td>\n",
              "      <td>NaN</td>\n",
              "      <td>NaN</td>\n",
              "      <td>NaN</td>\n",
              "      <td>NaN</td>\n",
              "    </tr>\n",
              "  </tbody>\n",
              "</table>\n",
              "<p>76 rows × 5 columns</p>\n",
              "</div>"
            ],
            "text/plain": [
              "                                    Mortalidade Geral  ... Unnamed: 4\n",
              "0   Óbitos Residentes MSP por Causas específicas e...  ...        NaN\n",
              "1                                        Período:1996  ...        NaN\n",
              "2                                  Causas específicas  ...      Total\n",
              "3                                Doencas infec intest  ...        290\n",
              "4                                         Tuberculose  ...        648\n",
              "..                                                ...  ...        ...\n",
              "71                                             Notas:  ...        NaN\n",
              "72  1. Para tabulações de proporções, o campo refe...  ...        NaN\n",
              "73  2. Os coeficientes de mortalidade podem ser ta...  ...        NaN\n",
              "74  3. Os coeficientes de mortalidade por homicídi...  ...        NaN\n",
              "75  4. A partir de 2005, os óbitos por acidentes d...  ...        NaN\n",
              "\n",
              "[76 rows x 5 columns]"
            ]
          },
          "metadata": {
            "tags": []
          },
          "execution_count": 118
        }
      ]
    },
    {
      "cell_type": "code",
      "metadata": {
        "colab": {
          "base_uri": "https://localhost:8080/",
          "height": 407
        },
        "id": "EdbkVpMQW8ND",
        "outputId": "03c5f4ed-0c9e-443e-939c-b0fab1ae0825"
      },
      "source": [
        "#Transformar o arquivo xlxs em DataFrame\r\n",
        "CE_1996 = pd.DataFrame(Causas_esp_1996)\r\n",
        "#CE_1996.shape\r\n",
        "CE_1996"
      ],
      "execution_count": 138,
      "outputs": [
        {
          "output_type": "execute_result",
          "data": {
            "text/html": [
              "<div>\n",
              "<style scoped>\n",
              "    .dataframe tbody tr th:only-of-type {\n",
              "        vertical-align: middle;\n",
              "    }\n",
              "\n",
              "    .dataframe tbody tr th {\n",
              "        vertical-align: top;\n",
              "    }\n",
              "\n",
              "    .dataframe thead th {\n",
              "        text-align: right;\n",
              "    }\n",
              "</style>\n",
              "<table border=\"1\" class=\"dataframe\">\n",
              "  <thead>\n",
              "    <tr style=\"text-align: right;\">\n",
              "      <th></th>\n",
              "      <th>Mortalidade Geral</th>\n",
              "      <th>Unnamed: 1</th>\n",
              "      <th>Unnamed: 2</th>\n",
              "      <th>Unnamed: 3</th>\n",
              "      <th>Unnamed: 4</th>\n",
              "    </tr>\n",
              "  </thead>\n",
              "  <tbody>\n",
              "    <tr>\n",
              "      <th>0</th>\n",
              "      <td>Óbitos Residentes MSP por Causas específicas e...</td>\n",
              "      <td>NaN</td>\n",
              "      <td>NaN</td>\n",
              "      <td>NaN</td>\n",
              "      <td>NaN</td>\n",
              "    </tr>\n",
              "    <tr>\n",
              "      <th>1</th>\n",
              "      <td>Período:1996</td>\n",
              "      <td>NaN</td>\n",
              "      <td>NaN</td>\n",
              "      <td>NaN</td>\n",
              "      <td>NaN</td>\n",
              "    </tr>\n",
              "    <tr>\n",
              "      <th>2</th>\n",
              "      <td>Causas específicas</td>\n",
              "      <td>Masculino</td>\n",
              "      <td>Feminino</td>\n",
              "      <td>Ignorado</td>\n",
              "      <td>Total</td>\n",
              "    </tr>\n",
              "    <tr>\n",
              "      <th>3</th>\n",
              "      <td>Doencas infec intest</td>\n",
              "      <td>166</td>\n",
              "      <td>124</td>\n",
              "      <td>-</td>\n",
              "      <td>290</td>\n",
              "    </tr>\n",
              "    <tr>\n",
              "      <th>4</th>\n",
              "      <td>Tuberculose</td>\n",
              "      <td>478</td>\n",
              "      <td>170</td>\n",
              "      <td>-</td>\n",
              "      <td>648</td>\n",
              "    </tr>\n",
              "    <tr>\n",
              "      <th>...</th>\n",
              "      <td>...</td>\n",
              "      <td>...</td>\n",
              "      <td>...</td>\n",
              "      <td>...</td>\n",
              "      <td>...</td>\n",
              "    </tr>\n",
              "    <tr>\n",
              "      <th>71</th>\n",
              "      <td>Notas:</td>\n",
              "      <td>NaN</td>\n",
              "      <td>NaN</td>\n",
              "      <td>NaN</td>\n",
              "      <td>NaN</td>\n",
              "    </tr>\n",
              "    <tr>\n",
              "      <th>72</th>\n",
              "      <td>1. Para tabulações de proporções, o campo refe...</td>\n",
              "      <td>NaN</td>\n",
              "      <td>NaN</td>\n",
              "      <td>NaN</td>\n",
              "      <td>NaN</td>\n",
              "    </tr>\n",
              "    <tr>\n",
              "      <th>73</th>\n",
              "      <td>2. Os coeficientes de mortalidade podem ser ta...</td>\n",
              "      <td>NaN</td>\n",
              "      <td>NaN</td>\n",
              "      <td>NaN</td>\n",
              "      <td>NaN</td>\n",
              "    </tr>\n",
              "    <tr>\n",
              "      <th>74</th>\n",
              "      <td>3. Os coeficientes de mortalidade por homicídi...</td>\n",
              "      <td>NaN</td>\n",
              "      <td>NaN</td>\n",
              "      <td>NaN</td>\n",
              "      <td>NaN</td>\n",
              "    </tr>\n",
              "    <tr>\n",
              "      <th>75</th>\n",
              "      <td>4. A partir de 2005, os óbitos por acidentes d...</td>\n",
              "      <td>NaN</td>\n",
              "      <td>NaN</td>\n",
              "      <td>NaN</td>\n",
              "      <td>NaN</td>\n",
              "    </tr>\n",
              "  </tbody>\n",
              "</table>\n",
              "<p>76 rows × 5 columns</p>\n",
              "</div>"
            ],
            "text/plain": [
              "                                    Mortalidade Geral  ... Unnamed: 4\n",
              "0   Óbitos Residentes MSP por Causas específicas e...  ...        NaN\n",
              "1                                        Período:1996  ...        NaN\n",
              "2                                  Causas específicas  ...      Total\n",
              "3                                Doencas infec intest  ...        290\n",
              "4                                         Tuberculose  ...        648\n",
              "..                                                ...  ...        ...\n",
              "71                                             Notas:  ...        NaN\n",
              "72  1. Para tabulações de proporções, o campo refe...  ...        NaN\n",
              "73  2. Os coeficientes de mortalidade podem ser ta...  ...        NaN\n",
              "74  3. Os coeficientes de mortalidade por homicídi...  ...        NaN\n",
              "75  4. A partir de 2005, os óbitos por acidentes d...  ...        NaN\n",
              "\n",
              "[76 rows x 5 columns]"
            ]
          },
          "metadata": {
            "tags": []
          },
          "execution_count": 138
        }
      ]
    },
    {
      "cell_type": "code",
      "metadata": {
        "colab": {
          "base_uri": "https://localhost:8080/",
          "height": 407
        },
        "id": "TCgzJo7gDRgF",
        "outputId": "f3c1d887-c7f0-45e2-fb6b-a2ca7eb0eda2"
      },
      "source": [
        "#Apagar linhas \r\n",
        "CE_1996 = CE_1996.drop([0,1,2,68,69,70,71,72,73,74,75])\r\n",
        "CE_1996"
      ],
      "execution_count": 139,
      "outputs": [
        {
          "output_type": "execute_result",
          "data": {
            "text/html": [
              "<div>\n",
              "<style scoped>\n",
              "    .dataframe tbody tr th:only-of-type {\n",
              "        vertical-align: middle;\n",
              "    }\n",
              "\n",
              "    .dataframe tbody tr th {\n",
              "        vertical-align: top;\n",
              "    }\n",
              "\n",
              "    .dataframe thead th {\n",
              "        text-align: right;\n",
              "    }\n",
              "</style>\n",
              "<table border=\"1\" class=\"dataframe\">\n",
              "  <thead>\n",
              "    <tr style=\"text-align: right;\">\n",
              "      <th></th>\n",
              "      <th>Mortalidade Geral</th>\n",
              "      <th>Unnamed: 1</th>\n",
              "      <th>Unnamed: 2</th>\n",
              "      <th>Unnamed: 3</th>\n",
              "      <th>Unnamed: 4</th>\n",
              "    </tr>\n",
              "  </thead>\n",
              "  <tbody>\n",
              "    <tr>\n",
              "      <th>3</th>\n",
              "      <td>Doencas infec intest</td>\n",
              "      <td>166</td>\n",
              "      <td>124</td>\n",
              "      <td>-</td>\n",
              "      <td>290</td>\n",
              "    </tr>\n",
              "    <tr>\n",
              "      <th>4</th>\n",
              "      <td>Tuberculose</td>\n",
              "      <td>478</td>\n",
              "      <td>170</td>\n",
              "      <td>-</td>\n",
              "      <td>648</td>\n",
              "    </tr>\n",
              "    <tr>\n",
              "      <th>5</th>\n",
              "      <td>Infec menigocóccica</td>\n",
              "      <td>58</td>\n",
              "      <td>51</td>\n",
              "      <td>1</td>\n",
              "      <td>110</td>\n",
              "    </tr>\n",
              "    <tr>\n",
              "      <th>6</th>\n",
              "      <td>Septicemia</td>\n",
              "      <td>194</td>\n",
              "      <td>185</td>\n",
              "      <td>-</td>\n",
              "      <td>379</td>\n",
              "    </tr>\n",
              "    <tr>\n",
              "      <th>7</th>\n",
              "      <td>Aids</td>\n",
              "      <td>2051</td>\n",
              "      <td>721</td>\n",
              "      <td>-</td>\n",
              "      <td>2772</td>\n",
              "    </tr>\n",
              "    <tr>\n",
              "      <th>...</th>\n",
              "      <td>...</td>\n",
              "      <td>...</td>\n",
              "      <td>...</td>\n",
              "      <td>...</td>\n",
              "      <td>...</td>\n",
              "    </tr>\n",
              "    <tr>\n",
              "      <th>63</th>\n",
              "      <td>Demais acidentes</td>\n",
              "      <td>391</td>\n",
              "      <td>129</td>\n",
              "      <td>1</td>\n",
              "      <td>521</td>\n",
              "    </tr>\n",
              "    <tr>\n",
              "      <th>64</th>\n",
              "      <td>Suicídios</td>\n",
              "      <td>378</td>\n",
              "      <td>135</td>\n",
              "      <td>-</td>\n",
              "      <td>513</td>\n",
              "    </tr>\n",
              "    <tr>\n",
              "      <th>65</th>\n",
              "      <td>Homicídios</td>\n",
              "      <td>4495</td>\n",
              "      <td>357</td>\n",
              "      <td>3</td>\n",
              "      <td>4855</td>\n",
              "    </tr>\n",
              "    <tr>\n",
              "      <th>66</th>\n",
              "      <td>Lesões intenc indeterminada</td>\n",
              "      <td>387</td>\n",
              "      <td>59</td>\n",
              "      <td>2</td>\n",
              "      <td>448</td>\n",
              "    </tr>\n",
              "    <tr>\n",
              "      <th>67</th>\n",
              "      <td>Demais causas externas</td>\n",
              "      <td>34</td>\n",
              "      <td>36</td>\n",
              "      <td>-</td>\n",
              "      <td>70</td>\n",
              "    </tr>\n",
              "  </tbody>\n",
              "</table>\n",
              "<p>65 rows × 5 columns</p>\n",
              "</div>"
            ],
            "text/plain": [
              "              Mortalidade Geral Unnamed: 1 Unnamed: 2 Unnamed: 3 Unnamed: 4\n",
              "3          Doencas infec intest        166        124          -        290\n",
              "4                   Tuberculose        478        170          -        648\n",
              "5           Infec menigocóccica         58         51          1        110\n",
              "6                    Septicemia        194        185          -        379\n",
              "7                          Aids       2051        721          -       2772\n",
              "..                          ...        ...        ...        ...        ...\n",
              "63             Demais acidentes        391        129          1        521\n",
              "64                    Suicídios        378        135          -        513\n",
              "65                   Homicídios       4495        357          3       4855\n",
              "66  Lesões intenc indeterminada        387         59          2        448\n",
              "67       Demais causas externas         34         36          -         70\n",
              "\n",
              "[65 rows x 5 columns]"
            ]
          },
          "metadata": {
            "tags": []
          },
          "execution_count": 139
        }
      ]
    },
    {
      "cell_type": "code",
      "metadata": {
        "colab": {
          "base_uri": "https://localhost:8080/",
          "height": 407
        },
        "id": "f0WhT41lcu9H",
        "outputId": "631bee7b-da42-40d3-9e3b-740ef2a3ec1f"
      },
      "source": [
        "#Renomear Colunas\r\n",
        "CE_1996.set_axis(['Mortalidade_Geral', 'Masculino', 'Feminino', 'Ignorado', 'Total'],\r\n",
        "                 axis='columns', inplace=True)\r\n",
        "#Renomear Index\r\n",
        "ind = [np.arange(65)]\r\n",
        "CE_1996.index = ind\r\n",
        "CE_1996"
      ],
      "execution_count": 141,
      "outputs": [
        {
          "output_type": "execute_result",
          "data": {
            "text/html": [
              "<div>\n",
              "<style scoped>\n",
              "    .dataframe tbody tr th:only-of-type {\n",
              "        vertical-align: middle;\n",
              "    }\n",
              "\n",
              "    .dataframe tbody tr th {\n",
              "        vertical-align: top;\n",
              "    }\n",
              "\n",
              "    .dataframe thead th {\n",
              "        text-align: right;\n",
              "    }\n",
              "</style>\n",
              "<table border=\"1\" class=\"dataframe\">\n",
              "  <thead>\n",
              "    <tr style=\"text-align: right;\">\n",
              "      <th></th>\n",
              "      <th>Mortalidade_Geral</th>\n",
              "      <th>Masculino</th>\n",
              "      <th>Feminino</th>\n",
              "      <th>Ignorado</th>\n",
              "      <th>Total</th>\n",
              "    </tr>\n",
              "  </thead>\n",
              "  <tbody>\n",
              "    <tr>\n",
              "      <th>0</th>\n",
              "      <td>Doencas infec intest</td>\n",
              "      <td>166</td>\n",
              "      <td>124</td>\n",
              "      <td>-</td>\n",
              "      <td>290</td>\n",
              "    </tr>\n",
              "    <tr>\n",
              "      <th>1</th>\n",
              "      <td>Tuberculose</td>\n",
              "      <td>478</td>\n",
              "      <td>170</td>\n",
              "      <td>-</td>\n",
              "      <td>648</td>\n",
              "    </tr>\n",
              "    <tr>\n",
              "      <th>2</th>\n",
              "      <td>Infec menigocóccica</td>\n",
              "      <td>58</td>\n",
              "      <td>51</td>\n",
              "      <td>1</td>\n",
              "      <td>110</td>\n",
              "    </tr>\n",
              "    <tr>\n",
              "      <th>3</th>\n",
              "      <td>Septicemia</td>\n",
              "      <td>194</td>\n",
              "      <td>185</td>\n",
              "      <td>-</td>\n",
              "      <td>379</td>\n",
              "    </tr>\n",
              "    <tr>\n",
              "      <th>4</th>\n",
              "      <td>Aids</td>\n",
              "      <td>2051</td>\n",
              "      <td>721</td>\n",
              "      <td>-</td>\n",
              "      <td>2772</td>\n",
              "    </tr>\n",
              "    <tr>\n",
              "      <th>...</th>\n",
              "      <td>...</td>\n",
              "      <td>...</td>\n",
              "      <td>...</td>\n",
              "      <td>...</td>\n",
              "      <td>...</td>\n",
              "    </tr>\n",
              "    <tr>\n",
              "      <th>60</th>\n",
              "      <td>Demais acidentes</td>\n",
              "      <td>391</td>\n",
              "      <td>129</td>\n",
              "      <td>1</td>\n",
              "      <td>521</td>\n",
              "    </tr>\n",
              "    <tr>\n",
              "      <th>61</th>\n",
              "      <td>Suicídios</td>\n",
              "      <td>378</td>\n",
              "      <td>135</td>\n",
              "      <td>-</td>\n",
              "      <td>513</td>\n",
              "    </tr>\n",
              "    <tr>\n",
              "      <th>62</th>\n",
              "      <td>Homicídios</td>\n",
              "      <td>4495</td>\n",
              "      <td>357</td>\n",
              "      <td>3</td>\n",
              "      <td>4855</td>\n",
              "    </tr>\n",
              "    <tr>\n",
              "      <th>63</th>\n",
              "      <td>Lesões intenc indeterminada</td>\n",
              "      <td>387</td>\n",
              "      <td>59</td>\n",
              "      <td>2</td>\n",
              "      <td>448</td>\n",
              "    </tr>\n",
              "    <tr>\n",
              "      <th>64</th>\n",
              "      <td>Demais causas externas</td>\n",
              "      <td>34</td>\n",
              "      <td>36</td>\n",
              "      <td>-</td>\n",
              "      <td>70</td>\n",
              "    </tr>\n",
              "  </tbody>\n",
              "</table>\n",
              "<p>65 rows × 5 columns</p>\n",
              "</div>"
            ],
            "text/plain": [
              "              Mortalidade_Geral Masculino Feminino Ignorado Total\n",
              "0          Doencas infec intest       166      124        -   290\n",
              "1                   Tuberculose       478      170        -   648\n",
              "2           Infec menigocóccica        58       51        1   110\n",
              "3                    Septicemia       194      185        -   379\n",
              "4                          Aids      2051      721        -  2772\n",
              "..                          ...       ...      ...      ...   ...\n",
              "60             Demais acidentes       391      129        1   521\n",
              "61                    Suicídios       378      135        -   513\n",
              "62                   Homicídios      4495      357        3  4855\n",
              "63  Lesões intenc indeterminada       387       59        2   448\n",
              "64       Demais causas externas        34       36        -    70\n",
              "\n",
              "[65 rows x 5 columns]"
            ]
          },
          "metadata": {
            "tags": []
          },
          "execution_count": 141
        }
      ]
    },
    {
      "cell_type": "code",
      "metadata": {
        "colab": {
          "base_uri": "https://localhost:8080/"
        },
        "id": "frAQRdwgtJix",
        "outputId": "5ac4fea1-93d8-419d-89df-5a7ba57e01da"
      },
      "source": [
        "#Conferindo o tipo dos dados\r\n",
        "CE_1996.dtypes\r\n",
        "#CE_1996.info()"
      ],
      "execution_count": 142,
      "outputs": [
        {
          "output_type": "execute_result",
          "data": {
            "text/plain": [
              "Mortalidade_Geral    object\n",
              "Masculino            object\n",
              "Feminino             object\n",
              "Ignorado             object\n",
              "Total                object\n",
              "dtype: object"
            ]
          },
          "metadata": {
            "tags": []
          },
          "execution_count": 142
        }
      ]
    },
    {
      "cell_type": "code",
      "metadata": {
        "colab": {
          "base_uri": "https://localhost:8080/"
        },
        "id": "mI7UZGGVhd8E",
        "outputId": "b0563b36-5473-4691-902d-3e10028c451d"
      },
      "source": [
        "#Substituir os valores '-' por 0\r\n",
        "CE_1996 = CE_1996.replace('-',0)\r\n",
        "print(CE_1996)"
      ],
      "execution_count": 143,
      "outputs": [
        {
          "output_type": "stream",
          "text": [
            "              Mortalidade_Geral  Masculino  Feminino  Ignorado  Total\n",
            "0          Doencas infec intest        166       124         0    290\n",
            "1                   Tuberculose        478       170         0    648\n",
            "2           Infec menigocóccica         58        51         1    110\n",
            "3                    Septicemia        194       185         0    379\n",
            "4                          Aids       2051       721         0   2772\n",
            "..                          ...        ...       ...       ...    ...\n",
            "60             Demais acidentes        391       129         1    521\n",
            "61                    Suicídios        378       135         0    513\n",
            "62                   Homicídios       4495       357         3   4855\n",
            "63  Lesões intenc indeterminada        387        59         2    448\n",
            "64       Demais causas externas         34        36         0     70\n",
            "\n",
            "[65 rows x 5 columns]\n"
          ],
          "name": "stdout"
        }
      ]
    },
    {
      "cell_type": "code",
      "metadata": {
        "colab": {
          "base_uri": "https://localhost:8080/"
        },
        "id": "RlXGq4KttRc9",
        "outputId": "3de2a80f-cc1d-4595-a72c-50cc892865d6"
      },
      "source": [
        "#Alterar o tipo de dados para inteiro\r\n",
        "for i in CE_1996:\r\n",
        "  if i not in 'Mortalidade_Geral':\r\n",
        "    CE_1996[i].astype('int64')\r\n",
        "CE_1996.dtypes"
      ],
      "execution_count": 144,
      "outputs": [
        {
          "output_type": "execute_result",
          "data": {
            "text/plain": [
              "Mortalidade_Geral    object\n",
              "Masculino             int64\n",
              "Feminino              int64\n",
              "Ignorado              int64\n",
              "Total                 int64\n",
              "dtype: object"
            ]
          },
          "metadata": {
            "tags": []
          },
          "execution_count": 144
        }
      ]
    },
    {
      "cell_type": "code",
      "metadata": {
        "colab": {
          "base_uri": "https://localhost:8080/",
          "height": 287
        },
        "id": "ocyyXzgLvlHt",
        "outputId": "a62ffdf3-04a4-4483-e901-cc84ef70889b"
      },
      "source": [
        "CE_1996.describe()"
      ],
      "execution_count": 145,
      "outputs": [
        {
          "output_type": "execute_result",
          "data": {
            "text/html": [
              "<div>\n",
              "<style scoped>\n",
              "    .dataframe tbody tr th:only-of-type {\n",
              "        vertical-align: middle;\n",
              "    }\n",
              "\n",
              "    .dataframe tbody tr th {\n",
              "        vertical-align: top;\n",
              "    }\n",
              "\n",
              "    .dataframe thead th {\n",
              "        text-align: right;\n",
              "    }\n",
              "</style>\n",
              "<table border=\"1\" class=\"dataframe\">\n",
              "  <thead>\n",
              "    <tr style=\"text-align: right;\">\n",
              "      <th></th>\n",
              "      <th>Masculino</th>\n",
              "      <th>Feminino</th>\n",
              "      <th>Ignorado</th>\n",
              "      <th>Total</th>\n",
              "    </tr>\n",
              "  </thead>\n",
              "  <tbody>\n",
              "    <tr>\n",
              "      <th>count</th>\n",
              "      <td>65.000000</td>\n",
              "      <td>65.000000</td>\n",
              "      <td>65.000000</td>\n",
              "      <td>65.000000</td>\n",
              "    </tr>\n",
              "    <tr>\n",
              "      <th>mean</th>\n",
              "      <td>519.507692</td>\n",
              "      <td>348.830769</td>\n",
              "      <td>0.553846</td>\n",
              "      <td>868.892308</td>\n",
              "    </tr>\n",
              "    <tr>\n",
              "      <th>std</th>\n",
              "      <td>900.772691</td>\n",
              "      <td>601.997497</td>\n",
              "      <td>2.318612</td>\n",
              "      <td>1411.639717</td>\n",
              "    </tr>\n",
              "    <tr>\n",
              "      <th>min</th>\n",
              "      <td>0.000000</td>\n",
              "      <td>0.000000</td>\n",
              "      <td>0.000000</td>\n",
              "      <td>26.000000</td>\n",
              "    </tr>\n",
              "    <tr>\n",
              "      <th>25%</th>\n",
              "      <td>79.000000</td>\n",
              "      <td>86.000000</td>\n",
              "      <td>0.000000</td>\n",
              "      <td>251.000000</td>\n",
              "    </tr>\n",
              "    <tr>\n",
              "      <th>50%</th>\n",
              "      <td>218.000000</td>\n",
              "      <td>147.000000</td>\n",
              "      <td>0.000000</td>\n",
              "      <td>361.000000</td>\n",
              "    </tr>\n",
              "    <tr>\n",
              "      <th>75%</th>\n",
              "      <td>485.000000</td>\n",
              "      <td>311.000000</td>\n",
              "      <td>0.000000</td>\n",
              "      <td>648.000000</td>\n",
              "    </tr>\n",
              "    <tr>\n",
              "      <th>max</th>\n",
              "      <td>4729.000000</td>\n",
              "      <td>3587.000000</td>\n",
              "      <td>18.000000</td>\n",
              "      <td>8316.000000</td>\n",
              "    </tr>\n",
              "  </tbody>\n",
              "</table>\n",
              "</div>"
            ],
            "text/plain": [
              "         Masculino     Feminino   Ignorado        Total\n",
              "count    65.000000    65.000000  65.000000    65.000000\n",
              "mean    519.507692   348.830769   0.553846   868.892308\n",
              "std     900.772691   601.997497   2.318612  1411.639717\n",
              "min       0.000000     0.000000   0.000000    26.000000\n",
              "25%      79.000000    86.000000   0.000000   251.000000\n",
              "50%     218.000000   147.000000   0.000000   361.000000\n",
              "75%     485.000000   311.000000   0.000000   648.000000\n",
              "max    4729.000000  3587.000000  18.000000  8316.000000"
            ]
          },
          "metadata": {
            "tags": []
          },
          "execution_count": 145
        }
      ]
    },
    {
      "cell_type": "code",
      "metadata": {
        "colab": {
          "base_uri": "https://localhost:8080/",
          "height": 407
        },
        "id": "eR4Hf04AuzUu",
        "outputId": "088f1730-6b12-4053-ba61-8e0c121e1cf0"
      },
      "source": [
        "Total_CE = pd.DataFrame(CE_1996, columns=['Mortalidade_Geral','Total', 'Ano'])\r\n",
        "Total_CE['Ano'] = 1996\r\n",
        "Total_CE"
      ],
      "execution_count": 146,
      "outputs": [
        {
          "output_type": "execute_result",
          "data": {
            "text/html": [
              "<div>\n",
              "<style scoped>\n",
              "    .dataframe tbody tr th:only-of-type {\n",
              "        vertical-align: middle;\n",
              "    }\n",
              "\n",
              "    .dataframe tbody tr th {\n",
              "        vertical-align: top;\n",
              "    }\n",
              "\n",
              "    .dataframe thead th {\n",
              "        text-align: right;\n",
              "    }\n",
              "</style>\n",
              "<table border=\"1\" class=\"dataframe\">\n",
              "  <thead>\n",
              "    <tr style=\"text-align: right;\">\n",
              "      <th></th>\n",
              "      <th>Mortalidade_Geral</th>\n",
              "      <th>Total</th>\n",
              "      <th>Ano</th>\n",
              "    </tr>\n",
              "  </thead>\n",
              "  <tbody>\n",
              "    <tr>\n",
              "      <th>0</th>\n",
              "      <td>Doencas infec intest</td>\n",
              "      <td>290</td>\n",
              "      <td>1996</td>\n",
              "    </tr>\n",
              "    <tr>\n",
              "      <th>1</th>\n",
              "      <td>Tuberculose</td>\n",
              "      <td>648</td>\n",
              "      <td>1996</td>\n",
              "    </tr>\n",
              "    <tr>\n",
              "      <th>2</th>\n",
              "      <td>Infec menigocóccica</td>\n",
              "      <td>110</td>\n",
              "      <td>1996</td>\n",
              "    </tr>\n",
              "    <tr>\n",
              "      <th>3</th>\n",
              "      <td>Septicemia</td>\n",
              "      <td>379</td>\n",
              "      <td>1996</td>\n",
              "    </tr>\n",
              "    <tr>\n",
              "      <th>4</th>\n",
              "      <td>Aids</td>\n",
              "      <td>2772</td>\n",
              "      <td>1996</td>\n",
              "    </tr>\n",
              "    <tr>\n",
              "      <th>...</th>\n",
              "      <td>...</td>\n",
              "      <td>...</td>\n",
              "      <td>...</td>\n",
              "    </tr>\n",
              "    <tr>\n",
              "      <th>60</th>\n",
              "      <td>Demais acidentes</td>\n",
              "      <td>521</td>\n",
              "      <td>1996</td>\n",
              "    </tr>\n",
              "    <tr>\n",
              "      <th>61</th>\n",
              "      <td>Suicídios</td>\n",
              "      <td>513</td>\n",
              "      <td>1996</td>\n",
              "    </tr>\n",
              "    <tr>\n",
              "      <th>62</th>\n",
              "      <td>Homicídios</td>\n",
              "      <td>4855</td>\n",
              "      <td>1996</td>\n",
              "    </tr>\n",
              "    <tr>\n",
              "      <th>63</th>\n",
              "      <td>Lesões intenc indeterminada</td>\n",
              "      <td>448</td>\n",
              "      <td>1996</td>\n",
              "    </tr>\n",
              "    <tr>\n",
              "      <th>64</th>\n",
              "      <td>Demais causas externas</td>\n",
              "      <td>70</td>\n",
              "      <td>1996</td>\n",
              "    </tr>\n",
              "  </tbody>\n",
              "</table>\n",
              "<p>65 rows × 3 columns</p>\n",
              "</div>"
            ],
            "text/plain": [
              "              Mortalidade_Geral  Total   Ano\n",
              "0          Doencas infec intest    290  1996\n",
              "1                   Tuberculose    648  1996\n",
              "2           Infec menigocóccica    110  1996\n",
              "3                    Septicemia    379  1996\n",
              "4                          Aids   2772  1996\n",
              "..                          ...    ...   ...\n",
              "60             Demais acidentes    521  1996\n",
              "61                    Suicídios    513  1996\n",
              "62                   Homicídios   4855  1996\n",
              "63  Lesões intenc indeterminada    448  1996\n",
              "64       Demais causas externas     70  1996\n",
              "\n",
              "[65 rows x 3 columns]"
            ]
          },
          "metadata": {
            "tags": []
          },
          "execution_count": 146
        }
      ]
    },
    {
      "cell_type": "code",
      "metadata": {
        "colab": {
          "base_uri": "https://localhost:8080/"
        },
        "id": "HVQ54Yri2Wmg",
        "outputId": "4a1bf1ee-3f84-4c46-ede4-39e29d0d1d54"
      },
      "source": [
        "lin = CE_1996.loc[2]\r\n",
        "print(lin)"
      ],
      "execution_count": 158,
      "outputs": [
        {
          "output_type": "stream",
          "text": [
            "     Mortalidade_Geral  Masculino  Feminino  Ignorado  Total\n",
            "2  Infec menigocóccica         58        51         1    110\n"
          ],
          "name": "stdout"
        }
      ]
    },
    {
      "cell_type": "code",
      "metadata": {
        "colab": {
          "base_uri": "https://localhost:8080/"
        },
        "id": "Gvp6rXUSv_fy",
        "outputId": "9b93faa2-d448-4d51-e59b-35e674ace80d"
      },
      "source": [
        "#Função do Maior Valor\r\n",
        "def Maior_valor(df,columns='False'):\r\n",
        "  if columns == 'Feminino':\r\n",
        "    indx = df[columns].idxmax()\r\n",
        "    linf = df.loc[indx]\r\n",
        "    return print(linf)\r\n",
        "  elif columns == 'Masculino':\r\n",
        "    indx = df[columns].idxmax()\r\n",
        "    linm = df.loc[indx]\r\n",
        "    return print(linm)\r\n",
        "  elif columns == 'Ignorado':\r\n",
        "    indx = df[columns].idxmax()\r\n",
        "    lini = df.loc[indx]\r\n",
        "    return print(lini)\r\n",
        "  elif columns == 'Total':\r\n",
        "    indx = df[columns].idxmax()\r\n",
        "    lint = df.loc[indx]\r\n",
        "    return print(lint)\r\n",
        "  else:\r\n",
        "    indx = df['Total'].idxmax()\r\n",
        "    lint = df.loc[indx]\r\n",
        "    return print(lint)\r\n",
        "\r\n",
        "Maior_valor(CE_1996)\r\n",
        " "
      ],
      "execution_count": 181,
      "outputs": [
        {
          "output_type": "stream",
          "text": [
            "Mortalidade_Geral    Doenças isquêmicas coração\n",
            "Masculino                                  4729\n",
            "Feminino                                   3587\n",
            "Ignorado                                      0\n",
            "Total                                      8316\n",
            "Name: (32,), dtype: object\n"
          ],
          "name": "stdout"
        }
      ]
    }
  ]
}