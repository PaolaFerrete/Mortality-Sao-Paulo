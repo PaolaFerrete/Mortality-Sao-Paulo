{
  "nbformat": 4,
  "nbformat_minor": 0,
  "metadata": {
    "colab": {
      "name": "Incidencia_1996-2006-2016.ipynb",
      "provenance": [],
      "collapsed_sections": [],
      "toc_visible": true,
      "authorship_tag": "ABX9TyPj+Yy6nSaFpaFc2hNEayMx",
      "include_colab_link": true
    },
    "kernelspec": {
      "name": "python3",
      "display_name": "Python 3"
    }
  },
  "cells": [
    {
      "cell_type": "markdown",
      "metadata": {
        "id": "view-in-github",
        "colab_type": "text"
      },
      "source": [
        "<a href=\"https://colab.research.google.com/github/PaolaFerrete/Mortality-Sao-Paulo/blob/main/Incidencia_1996_2006_2016.ipynb\" target=\"_parent\"><img src=\"https://colab.research.google.com/assets/colab-badge.svg\" alt=\"Open In Colab\"/></a>"
      ]
    },
    {
      "cell_type": "markdown",
      "metadata": {
        "id": "JZTrohl180pA"
      },
      "source": [
        "# **Incidências das cinco principais causa de morte no município de São Paulo para os anos de 1996, 2006 e 2016**"
      ]
    },
    {
      "cell_type": "code",
      "metadata": {
        "id": "IcLXguSMAHYP"
      },
      "source": [
        "#importar bibliotecas\r\n",
        "import pandas as pd\r\n",
        "import numpy as np"
      ],
      "execution_count": null,
      "outputs": []
    },
    {
      "cell_type": "code",
      "metadata": {
        "id": "AP_bVuJpAjWz",
        "colab": {
          "base_uri": "https://localhost:8080/"
        },
        "outputId": "a1efe339-e670-49b7-dfb3-f04840f6f9f1"
      },
      "source": [
        "#Conectar com Google Drive\r\n",
        "from google.colab import drive\r\n",
        "drive.mount('/content/drive')"
      ],
      "execution_count": null,
      "outputs": [
        {
          "output_type": "stream",
          "text": [
            "Mounted at /content/drive\n"
          ],
          "name": "stdout"
        }
      ]
    },
    {
      "cell_type": "markdown",
      "metadata": {
        "id": "SL8TvCJcCgNX"
      },
      "source": [
        "**Informação Referente à Causas_esp_1996**\r\n",
        "**Mortalidade Geral**\r\n",
        "\r\n",
        "Óbitos Residentes MSP por Causas Específicas e Sexo\r\n",
        "\r\n",
        "**Período: 1996**\r\n",
        "\r\n",
        "Fonte: Sistema de Informações sobre Mortalidade - SIM/PRO-AIM-CEInfo-SMS-SP"
      ]
    },
    {
      "cell_type": "code",
      "metadata": {
        "id": "4YN0KCgYA6Rd"
      },
      "source": [
        "#importar arquivo xlsx: Banco de dados de 1996\r\n",
        "Causas_esp_1996 = pd.read_excel('/content/drive/MyDrive/Projetos Python/Geografia da Mortalidade /Incidencia_Causas_Especificas/Total_Causas_Especificas_1996_xlsx.xlsx')\r\n",
        "Causas_esp_1996 #backup"
      ],
      "execution_count": null,
      "outputs": []
    },
    {
      "cell_type": "markdown",
      "metadata": {
        "id": "_3b4Mk4EY-b-"
      },
      "source": [
        "**Informação Referente à Causas_esp_2006**\r\n",
        "**Mortalidade Geral**\r\n",
        "\r\n",
        "Óbitos Residentes MSP por Causas Específicas e Sexo\r\n",
        "\r\n",
        "**Período: 2006**\r\n",
        "\r\n",
        "Fonte: Sistema de Informações sobre Mortalidade - SIM/PRO-AIM-CEInfo-SMS-SP"
      ]
    },
    {
      "cell_type": "code",
      "metadata": {
        "id": "U631XXD3NbR2"
      },
      "source": [
        "#importar arquivo xlsx: Banco de Dados de 2006\r\n",
        "Causas_esp_2006 = pd.read_excel('/content/drive/MyDrive/Projetos Python/Geografia da Mortalidade /Incidencia_Causas_Especificas/Total_Causas_Especificas_2006_xlsx.xlsx')\r\n",
        "Causas_esp_2006 #backup"
      ],
      "execution_count": null,
      "outputs": []
    },
    {
      "cell_type": "markdown",
      "metadata": {
        "id": "VMfh7V7gZO73"
      },
      "source": [
        "**Informação Referente à Causas_esp_2016**\r\n",
        "**Mortalidade Geral**\r\n",
        "\r\n",
        "Óbitos Residentes MSP por Causas Específicas e Sexo\r\n",
        "\r\n",
        "**Período: 2016**\r\n",
        "\r\n",
        "Fonte: Sistema de Informações sobre Mortalidade - SIM/PRO-AIM-CEInfo-SMS-SP"
      ]
    },
    {
      "cell_type": "code",
      "metadata": {
        "id": "AWUxJlTrPHVU"
      },
      "source": [
        "#importar arquivo xlsx: Banco de Dados de 2016\r\n",
        "Causas_esp_2016 = pd.read_excel('/content/drive/MyDrive/Projetos Python/Geografia da Mortalidade /Incidencia_Causas_Especificas/Total_Causas_Especificas_2016_xlxs.xlsx')\r\n",
        "Causas_esp_2016 #backup"
      ],
      "execution_count": null,
      "outputs": []
    },
    {
      "cell_type": "markdown",
      "metadata": {
        "id": "E4iTIWyr8Z7w"
      },
      "source": [
        "## **Manipulação dos Dados**"
      ]
    },
    {
      "cell_type": "code",
      "metadata": {
        "id": "Lw9IpbqOOP1B"
      },
      "source": [
        "#Apagar linhas desnecessárias\r\n",
        "Causas_esp_1996 = Causas_esp_1996.drop([0,1,2,68,69,70,71,72,73,74,75])\r\n",
        "Causas_esp_2006 = Causas_esp_2006.drop([0,1,2,68,69,70,71,72,73,74,75])\r\n",
        "Causas_esp_2016 = Causas_esp_2016.drop([0,1,2,68,69,70,71,72,73,74,75])"
      ],
      "execution_count": null,
      "outputs": []
    },
    {
      "cell_type": "code",
      "metadata": {
        "id": "lQi-fwoRjDEx"
      },
      "source": [
        "#Criar um novo DataFrame e Concatenar\r\n",
        "Causas_esp = pd.DataFrame(Causas_esp_1996, columns=['Mortalidade Geral', 'Unnamed: 1', 'Unnamed: 2','Unnamed: 3', 'Unnamed: 4', 'Ano'])\r\n",
        "Causas_esp['Ano'] = 1996\r\n",
        "Causas_esp = Causas_esp.append(Causas_esp_2006)\r\n",
        "Causas_esp['Ano'] = Causas_esp['Ano'].replace(np.NaN, 2006)\r\n",
        "Causas_esp = Causas_esp.append(Causas_esp_2016)\r\n",
        "Causas_esp['Ano'] = Causas_esp['Ano'].replace(np.NaN, 2016)\r\n",
        "Causas_esp"
      ],
      "execution_count": null,
      "outputs": []
    },
    {
      "cell_type": "code",
      "metadata": {
        "id": "f0WhT41lcu9H"
      },
      "source": [
        "#Renomear Colunas\r\n",
        "Causas_esp.set_axis(['Mortalidade_Geral', 'Masculino', 'Feminino', 'Ignorado', 'Total', 'Ano'],\r\n",
        "                 axis='columns', inplace=True)\r\n",
        "#Renomear Index\r\n",
        "Causas_esp.index = np.arange(195)\r\n",
        "Causas_esp"
      ],
      "execution_count": null,
      "outputs": []
    },
    {
      "cell_type": "code",
      "metadata": {
        "id": "frAQRdwgtJix"
      },
      "source": [
        "#Conferindo o tipo dos dados\r\n",
        "Causas_esp.dtypes\r\n",
        "#Causas_esp.info()"
      ],
      "execution_count": null,
      "outputs": []
    },
    {
      "cell_type": "code",
      "metadata": {
        "id": "mI7UZGGVhd8E"
      },
      "source": [
        "#Substituir os valores '-' por 0\r\n",
        "Causas_esp = Causas_esp.replace('-',0)\r\n",
        "print(Causas_esp)"
      ],
      "execution_count": null,
      "outputs": []
    },
    {
      "cell_type": "code",
      "metadata": {
        "id": "RlXGq4KttRc9"
      },
      "source": [
        "#Alterar o tipo de dados para inteiro\r\n",
        "for i in Causas_esp:\r\n",
        "  if i not in 'Mortalidade_Geral':\r\n",
        "    Causas_esp[i] = Causas_esp[i].astype('int64')\r\n",
        "Causas_esp.dtypes"
      ],
      "execution_count": null,
      "outputs": []
    },
    {
      "cell_type": "code",
      "metadata": {
        "id": "ocyyXzgLvlHt"
      },
      "source": [
        "#Descrição dos dados\r\n",
        "Causas_esp.describe()"
      ],
      "execution_count": null,
      "outputs": []
    },
    {
      "cell_type": "code",
      "metadata": {
        "id": "eR4Hf04AuzUu"
      },
      "source": [
        "#Separar os Totais\r\n",
        "Causas_esp_Totais = pd.DataFrame(Causas_esp, columns=['Mortalidade_Geral','Total', 'Ano'])\r\n",
        "Causas_esp_Totais"
      ],
      "execution_count": null,
      "outputs": []
    },
    {
      "cell_type": "code",
      "metadata": {
        "id": "5Xi_CA2rm_v7"
      },
      "source": [
        "#Selecionar atributos\r\n",
        "ano = [1996, 2006, 2016] #lista com os anos em questão\r\n",
        "col = ['Masculino', 'Feminino', 'Total'] # lista com o nome das colunas\r\n",
        "df_masc_ord = pd.DataFrame #DataFrame com a informação final\r\n",
        "for v in ano:\r\n",
        "  df_ano = Causas_esp.loc[Causas_esp['Ano'] == v] #Filtrar por ano\r\n",
        "  print(v)\r\n",
        "  for i, v in enumerate(col): #Filtrar por coluna\r\n",
        "    print(v)\r\n",
        "    df_ord_ano = df_ano.sort_values(by=v, ascending=False) #ordemar valores\r\n",
        "    df_sex_ano = pd.DataFrame(df_ord_ano, columns=['Mortalidade_Geral', v]).iloc[0:5] #Selecionar colunas e linhas\r\n",
        "    df_sex_ano.index = np.arange(1,6)\r\n",
        "    print(df_sex_ano)"
      ],
      "execution_count": null,
      "outputs": []
    },
    {
      "cell_type": "code",
      "metadata": {
        "id": "puL5ozBYLZUs"
      },
      "source": [
        "def Filtro(year, columns):\r\n",
        "  if year is not 1996 or 2006 or 2016:\r\n",
        "    print('Ano inválido')\r\n",
        "  a = year\r\n",
        "  c = columns\r\n",
        "  df_ano = Causas_esp.loc[Causas_esp['Ano'] == a] #Filtrar por ano\r\n",
        "  print(a)\r\n",
        "  df_ord_ano = df_ano.sort_values(by=c, ascending=False) #ordemar valores\r\n",
        "  df_sex_ano = pd.DataFrame(df_ord_ano, columns=['Mortalidade_Geral', c]).iloc[0:5] #Selecionar colunas e linhas\r\n",
        "  df_sex_ano.index = np.arange(1,6)\r\n",
        "  print(df_sex_ano)"
      ],
      "execution_count": null,
      "outputs": []
    },
    {
      "cell_type": "code",
      "metadata": {
        "id": "iGlW494lMj0x"
      },
      "source": [
        "Filtro(1996, 'Masculino')"
      ],
      "execution_count": null,
      "outputs": []
    }
  ]
}