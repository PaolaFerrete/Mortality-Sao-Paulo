{
  "nbformat": 4,
  "nbformat_minor": 0,
  "metadata": {
    "colab": {
      "name": "Incidencia_1996-2006-2016.ipynb",
      "provenance": [],
      "collapsed_sections": [],
      "toc_visible": true,
      "authorship_tag": "ABX9TyN8Yv0d+zgxLaOAqXB24Gdf",
      "include_colab_link": true
    },
    "kernelspec": {
      "name": "python3",
      "display_name": "Python 3"
    },
    "accelerator": "GPU"
  },
  "cells": [
    {
      "cell_type": "markdown",
      "metadata": {
        "id": "view-in-github",
        "colab_type": "text"
      },
      "source": [
        "<a href=\"https://colab.research.google.com/github/PaolaFerrete/Mortality-Sao-Paulo/blob/main/Incidencia_1996_2006_2016.ipynb\" target=\"_parent\"><img src=\"https://colab.research.google.com/assets/colab-badge.svg\" alt=\"Open In Colab\"/></a>"
      ]
    },
    {
      "cell_type": "markdown",
      "metadata": {
        "id": "JZTrohl180pA"
      },
      "source": [
        "# **Incidências das cinco principais causa de morte no município de São Paulo para os anos de 1996, 2006 e 2016**"
      ]
    },
    {
      "cell_type": "code",
      "metadata": {
        "id": "IcLXguSMAHYP"
      },
      "source": [
        "#importar bibliotecas\r\n",
        "import pandas as pd\r\n",
        "import numpy as np"
      ],
      "execution_count": 7,
      "outputs": []
    },
    {
      "cell_type": "code",
      "metadata": {
        "colab": {
          "base_uri": "https://localhost:8080/"
        },
        "id": "AP_bVuJpAjWz",
        "outputId": "c77fbb9b-8771-43e7-d230-1f8edd16b46a"
      },
      "source": [
        "#Conectar com Google Drive\r\n",
        "from google.colab import drive\r\n",
        "drive.mount('/content/drive')"
      ],
      "execution_count": 8,
      "outputs": [
        {
          "output_type": "stream",
          "text": [
            "Mounted at /content/drive\n"
          ],
          "name": "stdout"
        }
      ]
    },
    {
      "cell_type": "markdown",
      "metadata": {
        "id": "SL8TvCJcCgNX"
      },
      "source": [
        "**Informação Referente à Causas_esp_1996**\r\n",
        "**Mortalidade Geral**\r\n",
        "\r\n",
        "Óbitos Residentes MSP por Causas Específicas e Sexo\r\n",
        "\r\n",
        "**Período: 1996**\r\n",
        "\r\n",
        "Fonte: Sistema de Informações sobre Mortalidade - SIM/PRO-AIM-CEInfo-SMS-SP"
      ]
    },
    {
      "cell_type": "code",
      "metadata": {
        "id": "4YN0KCgYA6Rd"
      },
      "source": [
        "#importar arquivo xlsx: Banco de dados de 1996\r\n",
        "Causas_esp_1996 = pd.read_excel('/content/drive/MyDrive/Projetos Python/Geografia da Mortalidade /Incidencia_Causas_Especificas/Total_Causas_Especificas_1996_xlsx.xlsx')\r\n",
        "Causas_esp_1996 #backup"
      ],
      "execution_count": null,
      "outputs": []
    },
    {
      "cell_type": "markdown",
      "metadata": {
        "id": "_3b4Mk4EY-b-"
      },
      "source": [
        "**Informação Referente à Causas_esp_2006**\r\n",
        "**Mortalidade Geral**\r\n",
        "\r\n",
        "Óbitos Residentes MSP por Causas Específicas e Sexo\r\n",
        "\r\n",
        "**Período: 2006**\r\n",
        "\r\n",
        "Fonte: Sistema de Informações sobre Mortalidade - SIM/PRO-AIM-CEInfo-SMS-SP"
      ]
    },
    {
      "cell_type": "code",
      "metadata": {
        "id": "U631XXD3NbR2"
      },
      "source": [
        "#importar arquivo xlsx: Banco de Dados de 2006\r\n",
        "Causas_esp_2006 = pd.read_excel('/content/drive/MyDrive/Projetos Python/Geografia da Mortalidade /Incidencia_Causas_Especificas/Total_Causas_Especificas_2006_xlsx.xlsx')\r\n",
        "Causas_esp_2006 #backup"
      ],
      "execution_count": null,
      "outputs": []
    },
    {
      "cell_type": "markdown",
      "metadata": {
        "id": "VMfh7V7gZO73"
      },
      "source": [
        "**Informação Referente à Causas_esp_2016**\r\n",
        "**Mortalidade Geral**\r\n",
        "\r\n",
        "Óbitos Residentes MSP por Causas Específicas e Sexo\r\n",
        "\r\n",
        "**Período: 2016**\r\n",
        "\r\n",
        "Fonte: Sistema de Informações sobre Mortalidade - SIM/PRO-AIM-CEInfo-SMS-SP"
      ]
    },
    {
      "cell_type": "code",
      "metadata": {
        "id": "AWUxJlTrPHVU"
      },
      "source": [
        "#importar arquivo xlsx: Banco de Dados de 2016\r\n",
        "Causas_esp_2016 = pd.read_excel('/content/drive/MyDrive/Projetos Python/Geografia da Mortalidade /Incidencia_Causas_Especificas/Total_Causas_Especificas_2016_xlxs.xlsx')\r\n",
        "Causas_esp_2016 #backup"
      ],
      "execution_count": null,
      "outputs": []
    },
    {
      "cell_type": "markdown",
      "metadata": {
        "id": "E4iTIWyr8Z7w"
      },
      "source": [
        "## **Manipulação dos Dados**"
      ]
    },
    {
      "cell_type": "code",
      "metadata": {
        "id": "Lw9IpbqOOP1B"
      },
      "source": [
        "#Apagar linhas desnecessárias\r\n",
        "Causas_esp_1996 = Causas_esp_1996.drop([0,1,2,68,69,70,71,72,73,74,75])\r\n",
        "Causas_esp_2006 = Causas_esp_2006.drop([0,1,2,68,69,70,71,72,73,74,75])\r\n",
        "Causas_esp_2016 = Causas_esp_2016.drop([0,1,2,68,69,70,71,72,73,74,75])"
      ],
      "execution_count": 46,
      "outputs": []
    },
    {
      "cell_type": "code",
      "metadata": {
        "colab": {
          "base_uri": "https://localhost:8080/",
          "height": 407
        },
        "id": "n5x-Iz01Znad",
        "outputId": "af7efcb0-00d0-42d8-9652-56c44bb53772"
      },
      "source": [
        "#Concatenar DataFrame\r\n",
        "Causas_esp = CE_1996.append(CE_2006)\r\n",
        "Causas_esp = Causas_esp.append(CE_2016)\r\n",
        "Causas_esp"
      ],
      "execution_count": 52,
      "outputs": [
        {
          "output_type": "execute_result",
          "data": {
            "text/html": [
              "<div>\n",
              "<style scoped>\n",
              "    .dataframe tbody tr th:only-of-type {\n",
              "        vertical-align: middle;\n",
              "    }\n",
              "\n",
              "    .dataframe tbody tr th {\n",
              "        vertical-align: top;\n",
              "    }\n",
              "\n",
              "    .dataframe thead th {\n",
              "        text-align: right;\n",
              "    }\n",
              "</style>\n",
              "<table border=\"1\" class=\"dataframe\">\n",
              "  <thead>\n",
              "    <tr style=\"text-align: right;\">\n",
              "      <th></th>\n",
              "      <th>Mortalidade Geral</th>\n",
              "      <th>Unnamed: 1</th>\n",
              "      <th>Unnamed: 2</th>\n",
              "      <th>Unnamed: 3</th>\n",
              "      <th>Unnamed: 4</th>\n",
              "    </tr>\n",
              "  </thead>\n",
              "  <tbody>\n",
              "    <tr>\n",
              "      <th>3</th>\n",
              "      <td>Doencas infec intest</td>\n",
              "      <td>166</td>\n",
              "      <td>124</td>\n",
              "      <td>-</td>\n",
              "      <td>290</td>\n",
              "    </tr>\n",
              "    <tr>\n",
              "      <th>4</th>\n",
              "      <td>Tuberculose</td>\n",
              "      <td>478</td>\n",
              "      <td>170</td>\n",
              "      <td>-</td>\n",
              "      <td>648</td>\n",
              "    </tr>\n",
              "    <tr>\n",
              "      <th>5</th>\n",
              "      <td>Infec menigocóccica</td>\n",
              "      <td>58</td>\n",
              "      <td>51</td>\n",
              "      <td>1</td>\n",
              "      <td>110</td>\n",
              "    </tr>\n",
              "    <tr>\n",
              "      <th>6</th>\n",
              "      <td>Septicemia</td>\n",
              "      <td>194</td>\n",
              "      <td>185</td>\n",
              "      <td>-</td>\n",
              "      <td>379</td>\n",
              "    </tr>\n",
              "    <tr>\n",
              "      <th>7</th>\n",
              "      <td>Aids</td>\n",
              "      <td>2051</td>\n",
              "      <td>721</td>\n",
              "      <td>-</td>\n",
              "      <td>2772</td>\n",
              "    </tr>\n",
              "    <tr>\n",
              "      <th>...</th>\n",
              "      <td>...</td>\n",
              "      <td>...</td>\n",
              "      <td>...</td>\n",
              "      <td>...</td>\n",
              "      <td>...</td>\n",
              "    </tr>\n",
              "    <tr>\n",
              "      <th>63</th>\n",
              "      <td>Demais acidentes</td>\n",
              "      <td>755</td>\n",
              "      <td>331</td>\n",
              "      <td>-</td>\n",
              "      <td>1086</td>\n",
              "    </tr>\n",
              "    <tr>\n",
              "      <th>64</th>\n",
              "      <td>Suicídios</td>\n",
              "      <td>365</td>\n",
              "      <td>96</td>\n",
              "      <td>-</td>\n",
              "      <td>461</td>\n",
              "    </tr>\n",
              "    <tr>\n",
              "      <th>65</th>\n",
              "      <td>Homicídios</td>\n",
              "      <td>1010</td>\n",
              "      <td>104</td>\n",
              "      <td>-</td>\n",
              "      <td>1114</td>\n",
              "    </tr>\n",
              "    <tr>\n",
              "      <th>66</th>\n",
              "      <td>Lesões intenc indeterminada</td>\n",
              "      <td>418</td>\n",
              "      <td>103</td>\n",
              "      <td>1</td>\n",
              "      <td>522</td>\n",
              "    </tr>\n",
              "    <tr>\n",
              "      <th>67</th>\n",
              "      <td>Demais causas externas</td>\n",
              "      <td>274</td>\n",
              "      <td>76</td>\n",
              "      <td>-</td>\n",
              "      <td>350</td>\n",
              "    </tr>\n",
              "  </tbody>\n",
              "</table>\n",
              "<p>195 rows × 5 columns</p>\n",
              "</div>"
            ],
            "text/plain": [
              "              Mortalidade Geral Unnamed: 1 Unnamed: 2 Unnamed: 3 Unnamed: 4\n",
              "3          Doencas infec intest        166        124          -        290\n",
              "4                   Tuberculose        478        170          -        648\n",
              "5           Infec menigocóccica         58         51          1        110\n",
              "6                    Septicemia        194        185          -        379\n",
              "7                          Aids       2051        721          -       2772\n",
              "..                          ...        ...        ...        ...        ...\n",
              "63             Demais acidentes        755        331          -       1086\n",
              "64                    Suicídios        365         96          -        461\n",
              "65                   Homicídios       1010        104          -       1114\n",
              "66  Lesões intenc indeterminada        418        103          1        522\n",
              "67       Demais causas externas        274         76          -        350\n",
              "\n",
              "[195 rows x 5 columns]"
            ]
          },
          "metadata": {
            "tags": []
          },
          "execution_count": 52
        }
      ]
    },
    {
      "cell_type": "code",
      "metadata": {
        "colab": {
          "base_uri": "https://localhost:8080/",
          "height": 407
        },
        "id": "f0WhT41lcu9H",
        "outputId": "c07a05fa-f802-4bbb-85d7-2a03bd2b2f99"
      },
      "source": [
        "#Renomear Colunas\r\n",
        "CE_1996.set_axis(['Mortalidade_Geral', 'Masculino', 'Feminino', 'Ignorado', 'Total'],\r\n",
        "                 axis='columns', inplace=True)\r\n",
        "#Renomear Index\r\n",
        "CE_1996.index = np.arange(65)\r\n",
        "CE_1996"
      ],
      "execution_count": 12,
      "outputs": [
        {
          "output_type": "execute_result",
          "data": {
            "text/html": [
              "<div>\n",
              "<style scoped>\n",
              "    .dataframe tbody tr th:only-of-type {\n",
              "        vertical-align: middle;\n",
              "    }\n",
              "\n",
              "    .dataframe tbody tr th {\n",
              "        vertical-align: top;\n",
              "    }\n",
              "\n",
              "    .dataframe thead th {\n",
              "        text-align: right;\n",
              "    }\n",
              "</style>\n",
              "<table border=\"1\" class=\"dataframe\">\n",
              "  <thead>\n",
              "    <tr style=\"text-align: right;\">\n",
              "      <th></th>\n",
              "      <th>Mortalidade_Geral</th>\n",
              "      <th>Masculino</th>\n",
              "      <th>Feminino</th>\n",
              "      <th>Ignorado</th>\n",
              "      <th>Total</th>\n",
              "    </tr>\n",
              "  </thead>\n",
              "  <tbody>\n",
              "    <tr>\n",
              "      <th>0</th>\n",
              "      <td>Doencas infec intest</td>\n",
              "      <td>166</td>\n",
              "      <td>124</td>\n",
              "      <td>-</td>\n",
              "      <td>290</td>\n",
              "    </tr>\n",
              "    <tr>\n",
              "      <th>1</th>\n",
              "      <td>Tuberculose</td>\n",
              "      <td>478</td>\n",
              "      <td>170</td>\n",
              "      <td>-</td>\n",
              "      <td>648</td>\n",
              "    </tr>\n",
              "    <tr>\n",
              "      <th>2</th>\n",
              "      <td>Infec menigocóccica</td>\n",
              "      <td>58</td>\n",
              "      <td>51</td>\n",
              "      <td>1</td>\n",
              "      <td>110</td>\n",
              "    </tr>\n",
              "    <tr>\n",
              "      <th>3</th>\n",
              "      <td>Septicemia</td>\n",
              "      <td>194</td>\n",
              "      <td>185</td>\n",
              "      <td>-</td>\n",
              "      <td>379</td>\n",
              "    </tr>\n",
              "    <tr>\n",
              "      <th>4</th>\n",
              "      <td>Aids</td>\n",
              "      <td>2051</td>\n",
              "      <td>721</td>\n",
              "      <td>-</td>\n",
              "      <td>2772</td>\n",
              "    </tr>\n",
              "    <tr>\n",
              "      <th>...</th>\n",
              "      <td>...</td>\n",
              "      <td>...</td>\n",
              "      <td>...</td>\n",
              "      <td>...</td>\n",
              "      <td>...</td>\n",
              "    </tr>\n",
              "    <tr>\n",
              "      <th>60</th>\n",
              "      <td>Demais acidentes</td>\n",
              "      <td>391</td>\n",
              "      <td>129</td>\n",
              "      <td>1</td>\n",
              "      <td>521</td>\n",
              "    </tr>\n",
              "    <tr>\n",
              "      <th>61</th>\n",
              "      <td>Suicídios</td>\n",
              "      <td>378</td>\n",
              "      <td>135</td>\n",
              "      <td>-</td>\n",
              "      <td>513</td>\n",
              "    </tr>\n",
              "    <tr>\n",
              "      <th>62</th>\n",
              "      <td>Homicídios</td>\n",
              "      <td>4495</td>\n",
              "      <td>357</td>\n",
              "      <td>3</td>\n",
              "      <td>4855</td>\n",
              "    </tr>\n",
              "    <tr>\n",
              "      <th>63</th>\n",
              "      <td>Lesões intenc indeterminada</td>\n",
              "      <td>387</td>\n",
              "      <td>59</td>\n",
              "      <td>2</td>\n",
              "      <td>448</td>\n",
              "    </tr>\n",
              "    <tr>\n",
              "      <th>64</th>\n",
              "      <td>Demais causas externas</td>\n",
              "      <td>34</td>\n",
              "      <td>36</td>\n",
              "      <td>-</td>\n",
              "      <td>70</td>\n",
              "    </tr>\n",
              "  </tbody>\n",
              "</table>\n",
              "<p>65 rows × 5 columns</p>\n",
              "</div>"
            ],
            "text/plain": [
              "              Mortalidade_Geral Masculino Feminino Ignorado Total\n",
              "0          Doencas infec intest       166      124        -   290\n",
              "1                   Tuberculose       478      170        -   648\n",
              "2           Infec menigocóccica        58       51        1   110\n",
              "3                    Septicemia       194      185        -   379\n",
              "4                          Aids      2051      721        -  2772\n",
              "..                          ...       ...      ...      ...   ...\n",
              "60             Demais acidentes       391      129        1   521\n",
              "61                    Suicídios       378      135        -   513\n",
              "62                   Homicídios      4495      357        3  4855\n",
              "63  Lesões intenc indeterminada       387       59        2   448\n",
              "64       Demais causas externas        34       36        -    70\n",
              "\n",
              "[65 rows x 5 columns]"
            ]
          },
          "metadata": {
            "tags": []
          },
          "execution_count": 12
        }
      ]
    },
    {
      "cell_type": "code",
      "metadata": {
        "colab": {
          "base_uri": "https://localhost:8080/"
        },
        "id": "frAQRdwgtJix",
        "outputId": "aa7f9431-b53e-42c0-c9be-6cf8dc2e636d"
      },
      "source": [
        "#Conferindo o tipo dos dados\r\n",
        "CE_1996.dtypes\r\n",
        "#CE_1996.info()"
      ],
      "execution_count": 13,
      "outputs": [
        {
          "output_type": "execute_result",
          "data": {
            "text/plain": [
              "Mortalidade_Geral    object\n",
              "Masculino            object\n",
              "Feminino             object\n",
              "Ignorado             object\n",
              "Total                object\n",
              "dtype: object"
            ]
          },
          "metadata": {
            "tags": []
          },
          "execution_count": 13
        }
      ]
    },
    {
      "cell_type": "code",
      "metadata": {
        "colab": {
          "base_uri": "https://localhost:8080/"
        },
        "id": "mI7UZGGVhd8E",
        "outputId": "cb5a8452-7760-4b7e-cdc9-0ec87414bb90"
      },
      "source": [
        "#Substituir os valores '-' por 0\r\n",
        "CE_1996 = CE_1996.replace('-',0)\r\n",
        "print(CE_1996)"
      ],
      "execution_count": 14,
      "outputs": [
        {
          "output_type": "stream",
          "text": [
            "              Mortalidade_Geral  Masculino  Feminino  Ignorado  Total\n",
            "0          Doencas infec intest        166       124         0    290\n",
            "1                   Tuberculose        478       170         0    648\n",
            "2           Infec menigocóccica         58        51         1    110\n",
            "3                    Septicemia        194       185         0    379\n",
            "4                          Aids       2051       721         0   2772\n",
            "..                          ...        ...       ...       ...    ...\n",
            "60             Demais acidentes        391       129         1    521\n",
            "61                    Suicídios        378       135         0    513\n",
            "62                   Homicídios       4495       357         3   4855\n",
            "63  Lesões intenc indeterminada        387        59         2    448\n",
            "64       Demais causas externas         34        36         0     70\n",
            "\n",
            "[65 rows x 5 columns]\n"
          ],
          "name": "stdout"
        }
      ]
    },
    {
      "cell_type": "code",
      "metadata": {
        "colab": {
          "base_uri": "https://localhost:8080/"
        },
        "id": "RlXGq4KttRc9",
        "outputId": "dfd03374-f950-4723-92b7-7da95dd88727"
      },
      "source": [
        "#Alterar o tipo de dados para inteiro\r\n",
        "for i in CE_1996:\r\n",
        "  if i not in 'Mortalidade_Geral':\r\n",
        "    CE_1996[i].astype('int64')\r\n",
        "CE_1996.dtypes"
      ],
      "execution_count": 15,
      "outputs": [
        {
          "output_type": "execute_result",
          "data": {
            "text/plain": [
              "Mortalidade_Geral    object\n",
              "Masculino             int64\n",
              "Feminino              int64\n",
              "Ignorado              int64\n",
              "Total                 int64\n",
              "dtype: object"
            ]
          },
          "metadata": {
            "tags": []
          },
          "execution_count": 15
        }
      ]
    },
    {
      "cell_type": "code",
      "metadata": {
        "colab": {
          "base_uri": "https://localhost:8080/",
          "height": 287
        },
        "id": "ocyyXzgLvlHt",
        "outputId": "383aedaa-36f0-4292-ece7-3c5d0d9744df"
      },
      "source": [
        "#Descrição dos dados\r\n",
        "CE_1996.describe()"
      ],
      "execution_count": 16,
      "outputs": [
        {
          "output_type": "execute_result",
          "data": {
            "text/html": [
              "<div>\n",
              "<style scoped>\n",
              "    .dataframe tbody tr th:only-of-type {\n",
              "        vertical-align: middle;\n",
              "    }\n",
              "\n",
              "    .dataframe tbody tr th {\n",
              "        vertical-align: top;\n",
              "    }\n",
              "\n",
              "    .dataframe thead th {\n",
              "        text-align: right;\n",
              "    }\n",
              "</style>\n",
              "<table border=\"1\" class=\"dataframe\">\n",
              "  <thead>\n",
              "    <tr style=\"text-align: right;\">\n",
              "      <th></th>\n",
              "      <th>Masculino</th>\n",
              "      <th>Feminino</th>\n",
              "      <th>Ignorado</th>\n",
              "      <th>Total</th>\n",
              "    </tr>\n",
              "  </thead>\n",
              "  <tbody>\n",
              "    <tr>\n",
              "      <th>count</th>\n",
              "      <td>65.000000</td>\n",
              "      <td>65.000000</td>\n",
              "      <td>65.000000</td>\n",
              "      <td>65.000000</td>\n",
              "    </tr>\n",
              "    <tr>\n",
              "      <th>mean</th>\n",
              "      <td>519.507692</td>\n",
              "      <td>348.830769</td>\n",
              "      <td>0.553846</td>\n",
              "      <td>868.892308</td>\n",
              "    </tr>\n",
              "    <tr>\n",
              "      <th>std</th>\n",
              "      <td>900.772691</td>\n",
              "      <td>601.997497</td>\n",
              "      <td>2.318612</td>\n",
              "      <td>1411.639717</td>\n",
              "    </tr>\n",
              "    <tr>\n",
              "      <th>min</th>\n",
              "      <td>0.000000</td>\n",
              "      <td>0.000000</td>\n",
              "      <td>0.000000</td>\n",
              "      <td>26.000000</td>\n",
              "    </tr>\n",
              "    <tr>\n",
              "      <th>25%</th>\n",
              "      <td>79.000000</td>\n",
              "      <td>86.000000</td>\n",
              "      <td>0.000000</td>\n",
              "      <td>251.000000</td>\n",
              "    </tr>\n",
              "    <tr>\n",
              "      <th>50%</th>\n",
              "      <td>218.000000</td>\n",
              "      <td>147.000000</td>\n",
              "      <td>0.000000</td>\n",
              "      <td>361.000000</td>\n",
              "    </tr>\n",
              "    <tr>\n",
              "      <th>75%</th>\n",
              "      <td>485.000000</td>\n",
              "      <td>311.000000</td>\n",
              "      <td>0.000000</td>\n",
              "      <td>648.000000</td>\n",
              "    </tr>\n",
              "    <tr>\n",
              "      <th>max</th>\n",
              "      <td>4729.000000</td>\n",
              "      <td>3587.000000</td>\n",
              "      <td>18.000000</td>\n",
              "      <td>8316.000000</td>\n",
              "    </tr>\n",
              "  </tbody>\n",
              "</table>\n",
              "</div>"
            ],
            "text/plain": [
              "         Masculino     Feminino   Ignorado        Total\n",
              "count    65.000000    65.000000  65.000000    65.000000\n",
              "mean    519.507692   348.830769   0.553846   868.892308\n",
              "std     900.772691   601.997497   2.318612  1411.639717\n",
              "min       0.000000     0.000000   0.000000    26.000000\n",
              "25%      79.000000    86.000000   0.000000   251.000000\n",
              "50%     218.000000   147.000000   0.000000   361.000000\n",
              "75%     485.000000   311.000000   0.000000   648.000000\n",
              "max    4729.000000  3587.000000  18.000000  8316.000000"
            ]
          },
          "metadata": {
            "tags": []
          },
          "execution_count": 16
        }
      ]
    },
    {
      "cell_type": "code",
      "metadata": {
        "colab": {
          "base_uri": "https://localhost:8080/",
          "height": 407
        },
        "id": "eR4Hf04AuzUu",
        "outputId": "cf21615a-fc92-4281-a191-51c2ff188026"
      },
      "source": [
        "#Separar os Totais\r\n",
        "Total_CE = pd.DataFrame(CE_1996, columns=['Mortalidade_Geral','Total', 'Ano'])\r\n",
        "Total_CE['Ano'] = 1996\r\n",
        "Total_CE"
      ],
      "execution_count": 17,
      "outputs": [
        {
          "output_type": "execute_result",
          "data": {
            "text/html": [
              "<div>\n",
              "<style scoped>\n",
              "    .dataframe tbody tr th:only-of-type {\n",
              "        vertical-align: middle;\n",
              "    }\n",
              "\n",
              "    .dataframe tbody tr th {\n",
              "        vertical-align: top;\n",
              "    }\n",
              "\n",
              "    .dataframe thead th {\n",
              "        text-align: right;\n",
              "    }\n",
              "</style>\n",
              "<table border=\"1\" class=\"dataframe\">\n",
              "  <thead>\n",
              "    <tr style=\"text-align: right;\">\n",
              "      <th></th>\n",
              "      <th>Mortalidade_Geral</th>\n",
              "      <th>Total</th>\n",
              "      <th>Ano</th>\n",
              "    </tr>\n",
              "  </thead>\n",
              "  <tbody>\n",
              "    <tr>\n",
              "      <th>0</th>\n",
              "      <td>Doencas infec intest</td>\n",
              "      <td>290</td>\n",
              "      <td>1996</td>\n",
              "    </tr>\n",
              "    <tr>\n",
              "      <th>1</th>\n",
              "      <td>Tuberculose</td>\n",
              "      <td>648</td>\n",
              "      <td>1996</td>\n",
              "    </tr>\n",
              "    <tr>\n",
              "      <th>2</th>\n",
              "      <td>Infec menigocóccica</td>\n",
              "      <td>110</td>\n",
              "      <td>1996</td>\n",
              "    </tr>\n",
              "    <tr>\n",
              "      <th>3</th>\n",
              "      <td>Septicemia</td>\n",
              "      <td>379</td>\n",
              "      <td>1996</td>\n",
              "    </tr>\n",
              "    <tr>\n",
              "      <th>4</th>\n",
              "      <td>Aids</td>\n",
              "      <td>2772</td>\n",
              "      <td>1996</td>\n",
              "    </tr>\n",
              "    <tr>\n",
              "      <th>...</th>\n",
              "      <td>...</td>\n",
              "      <td>...</td>\n",
              "      <td>...</td>\n",
              "    </tr>\n",
              "    <tr>\n",
              "      <th>60</th>\n",
              "      <td>Demais acidentes</td>\n",
              "      <td>521</td>\n",
              "      <td>1996</td>\n",
              "    </tr>\n",
              "    <tr>\n",
              "      <th>61</th>\n",
              "      <td>Suicídios</td>\n",
              "      <td>513</td>\n",
              "      <td>1996</td>\n",
              "    </tr>\n",
              "    <tr>\n",
              "      <th>62</th>\n",
              "      <td>Homicídios</td>\n",
              "      <td>4855</td>\n",
              "      <td>1996</td>\n",
              "    </tr>\n",
              "    <tr>\n",
              "      <th>63</th>\n",
              "      <td>Lesões intenc indeterminada</td>\n",
              "      <td>448</td>\n",
              "      <td>1996</td>\n",
              "    </tr>\n",
              "    <tr>\n",
              "      <th>64</th>\n",
              "      <td>Demais causas externas</td>\n",
              "      <td>70</td>\n",
              "      <td>1996</td>\n",
              "    </tr>\n",
              "  </tbody>\n",
              "</table>\n",
              "<p>65 rows × 3 columns</p>\n",
              "</div>"
            ],
            "text/plain": [
              "              Mortalidade_Geral  Total   Ano\n",
              "0          Doencas infec intest    290  1996\n",
              "1                   Tuberculose    648  1996\n",
              "2           Infec menigocóccica    110  1996\n",
              "3                    Septicemia    379  1996\n",
              "4                          Aids   2772  1996\n",
              "..                          ...    ...   ...\n",
              "60             Demais acidentes    521  1996\n",
              "61                    Suicídios    513  1996\n",
              "62                   Homicídios   4855  1996\n",
              "63  Lesões intenc indeterminada    448  1996\n",
              "64       Demais causas externas     70  1996\n",
              "\n",
              "[65 rows x 3 columns]"
            ]
          },
          "metadata": {
            "tags": []
          },
          "execution_count": 17
        }
      ]
    },
    {
      "cell_type": "code",
      "metadata": {
        "id": "PzKqxkYDMreK"
      },
      "source": [
        "def Ordem(df, columns='False'):\r\n",
        "  \"\"\"Ordem(df,columns)\r\n",
        "    -> Função para analisar as 5 maiores incidências de mortalidade geral\r\n",
        "      :df: DataFrame\r\n",
        "      :columns: valor opcional, caso não especificado retorna o total\r\n",
        "      :return: retorna um DataFrame com as 5 maiores incidências\r\n",
        "      \"\"\"\r\n",
        "  if columns == 'Masculino':\r\n",
        "    df_masc_ord = CE_1996.sort_values(by='Masculino', ascending=False) #ordenar inversamente os valores da coluna 'Masculino'\r\n",
        "    df_masc_columns = pd.DataFrame(df_masc_ord, columns=['Mortalidade_Geral', 'Masculino', 'Total'],) #criar um DataFrame com as colunas de interesse\r\n",
        "    df_masc_columns.index = np.arange(65) # renumerar o index\r\n",
        "    df_masc_maior = df_masc_columns.iloc[0:5] # selecionando apenas a 5 primeiras linhas\r\n",
        "    df_masc_maior.index = np.arange(1,6) #renomerar index\r\n",
        "    return df_masc_maior\r\n",
        "  elif columns == 'Feminino':\r\n",
        "    df_fem_ord = CE_1996.sort_values(by='Feminino', ascending=False)\r\n",
        "    df_fem_columns = pd.DataFrame(df_fem_ord, columns=['Mortalidade_Geral', 'Feminino', 'Total'],)\r\n",
        "    df_fem_columns.index = np.arange(65)\r\n",
        "    df_fem_maior = df_fem_columns.iloc[0:5]\r\n",
        "    df_fem_maior.index = np.arange(1,6)\r\n",
        "    return df_fem_maior\r\n",
        "  elif columns == 'Ignorado':\r\n",
        "    df_ign_ord = CE_1996.sort_values(by='Ignorado', ascending=False)\r\n",
        "    df_ign_columns = pd.DataFrame(df_ign_ord, columns=['Mortalidade_Geral', 'Ignorado', 'Total'],)\r\n",
        "    df_ign_columns.index = np.arange(65)\r\n",
        "    df_ign_maior = df_ign_columns.iloc[0:5]\r\n",
        "    df_ign_maior.index = np.arange(1,6)\r\n",
        "    return df_ign_maior\r\n",
        "  elif columns == 'Total':\r\n",
        "    df_tot_ord = CE_1996.sort_values(by='Total', ascending=False)\r\n",
        "    df_tot_columns = pd.DataFrame(df_tot_ord, columns=['Mortalidade_Geral', 'Total'])\r\n",
        "    df_tot_columns.index = np.arange(65)\r\n",
        "    df_tot_maior = df_tot_columns.iloc[0:5]\r\n",
        "    df_tot_maior.index = np.arange(1,6)\r\n",
        "    return df_tot_maior\r\n",
        "  else:\r\n",
        "    df_tot_ord = CE_1996.sort_values(by='Total', ascending=False)\r\n",
        "    df_tot_columns = pd.DataFrame(df_tot_ord, columns=['Mortalidade_Geral', 'Total'])\r\n",
        "    df_tot_columns.index = np.arange(65)\r\n",
        "    df_tot_maior = df_tot_columns.iloc[0:5]\r\n",
        "    df_tot_maior.index = np.arange(1,6)\r\n",
        "    return df_tot_maior "
      ],
      "execution_count": 18,
      "outputs": []
    },
    {
      "cell_type": "code",
      "metadata": {
        "colab": {
          "base_uri": "https://localhost:8080/",
          "height": 197
        },
        "id": "VdxTqhsO-9YB",
        "outputId": "994d0057-98dd-4330-c622-75c2eef72f0d"
      },
      "source": [
        "#Chamar Def Ordem (As 5 incidências de maior valor)\r\n",
        "Ordem(CE_1996, 'Feminino')"
      ],
      "execution_count": 19,
      "outputs": [
        {
          "output_type": "execute_result",
          "data": {
            "text/html": [
              "<div>\n",
              "<style scoped>\n",
              "    .dataframe tbody tr th:only-of-type {\n",
              "        vertical-align: middle;\n",
              "    }\n",
              "\n",
              "    .dataframe tbody tr th {\n",
              "        vertical-align: top;\n",
              "    }\n",
              "\n",
              "    .dataframe thead th {\n",
              "        text-align: right;\n",
              "    }\n",
              "</style>\n",
              "<table border=\"1\" class=\"dataframe\">\n",
              "  <thead>\n",
              "    <tr style=\"text-align: right;\">\n",
              "      <th></th>\n",
              "      <th>Mortalidade_Geral</th>\n",
              "      <th>Feminino</th>\n",
              "      <th>Total</th>\n",
              "    </tr>\n",
              "  </thead>\n",
              "  <tbody>\n",
              "    <tr>\n",
              "      <th>1</th>\n",
              "      <td>Doenças isquêmicas coração</td>\n",
              "      <td>3587</td>\n",
              "      <td>8316</td>\n",
              "    </tr>\n",
              "    <tr>\n",
              "      <th>2</th>\n",
              "      <td>D. cerebrovasculares</td>\n",
              "      <td>2788</td>\n",
              "      <td>5627</td>\n",
              "    </tr>\n",
              "    <tr>\n",
              "      <th>3</th>\n",
              "      <td>Pneumonias</td>\n",
              "      <td>1635</td>\n",
              "      <td>3548</td>\n",
              "    </tr>\n",
              "    <tr>\n",
              "      <th>4</th>\n",
              "      <td>Diabetes mellitus</td>\n",
              "      <td>1218</td>\n",
              "      <td>2083</td>\n",
              "    </tr>\n",
              "    <tr>\n",
              "      <th>5</th>\n",
              "      <td>Bronquite, enfisema, asma</td>\n",
              "      <td>1048</td>\n",
              "      <td>2542</td>\n",
              "    </tr>\n",
              "  </tbody>\n",
              "</table>\n",
              "</div>"
            ],
            "text/plain": [
              "            Mortalidade_Geral  Feminino  Total\n",
              "1  Doenças isquêmicas coração      3587   8316\n",
              "2        D. cerebrovasculares      2788   5627\n",
              "3                  Pneumonias      1635   3548\n",
              "4           Diabetes mellitus      1218   2083\n",
              "5   Bronquite, enfisema, asma      1048   2542"
            ]
          },
          "metadata": {
            "tags": []
          },
          "execution_count": 19
        }
      ]
    },
    {
      "cell_type": "code",
      "metadata": {
        "id": "nPEUN4QcNEwf"
      },
      "source": [
        ""
      ],
      "execution_count": null,
      "outputs": []
    },
    {
      "cell_type": "code",
      "metadata": {
        "colab": {
          "base_uri": "https://localhost:8080/"
        },
        "id": "_4QY5DcF2oyG",
        "outputId": "73aba27c-46bc-4033-edc6-e8590a40521f"
      },
      "source": [
        "data = {'State':['São Paulo', 'Rio de Janeiro', 'Minas Gerais'],\r\n",
        "        'year':[1996, 2006, 2016],\r\n",
        "        'pop': [1.5, 1.7, 1.6]}\r\n",
        "        \r\n",
        "df_teste = pd.DataFrame(data, index=['one', 'two','three'])\r\n",
        "print(df_teste)\r\n"
      ],
      "execution_count": 20,
      "outputs": [
        {
          "output_type": "stream",
          "text": [
            "                State  year  pop\n",
            "one         São Paulo  1996  1.5\n",
            "two    Rio de Janeiro  2006  1.7\n",
            "three    Minas Gerais  2016  1.6\n"
          ],
          "name": "stdout"
        }
      ]
    },
    {
      "cell_type": "code",
      "metadata": {
        "colab": {
          "base_uri": "https://localhost:8080/"
        },
        "id": "rfmEu3-Q8mbQ",
        "outputId": "fac05711-aa08-4766-977b-5b3409301d20"
      },
      "source": [
        "df_teste.index = np.arange(1,4)\r\n",
        "print(df_teste)"
      ],
      "execution_count": 21,
      "outputs": [
        {
          "output_type": "stream",
          "text": [
            "            State  year  pop\n",
            "1       São Paulo  1996  1.5\n",
            "2  Rio de Janeiro  2006  1.7\n",
            "3    Minas Gerais  2016  1.6\n"
          ],
          "name": "stdout"
        }
      ]
    }
  ]
}