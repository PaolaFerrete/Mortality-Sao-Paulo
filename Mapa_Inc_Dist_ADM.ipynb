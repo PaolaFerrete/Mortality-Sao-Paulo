{
  "nbformat": 4,
  "nbformat_minor": 0,
  "metadata": {
    "colab": {
      "name": "Mapa_Inc_Dist_ADM.ipynb",
      "provenance": [],
      "collapsed_sections": [],
      "authorship_tag": "ABX9TyN3ABGIqSSFH2eveXmwmOwc",
      "include_colab_link": true
    },
    "kernelspec": {
      "name": "python3",
      "display_name": "Python 3"
    }
  },
  "cells": [
    {
      "cell_type": "markdown",
      "metadata": {
        "id": "view-in-github",
        "colab_type": "text"
      },
      "source": [
        "<a href=\"https://colab.research.google.com/github/PaolaFerrete/Mortality-Sao-Paulo/blob/Mapa_Distrito_Adm/Mapa_Inc_Dist_ADM.ipynb\" target=\"_parent\"><img src=\"https://colab.research.google.com/assets/colab-badge.svg\" alt=\"Open In Colab\"/></a>"
      ]
    },
    {
      "cell_type": "code",
      "metadata": {
        "id": "AxeVqW3SIn0U"
      },
      "source": [
        "!pip install geopandas"
      ],
      "execution_count": null,
      "outputs": []
    },
    {
      "cell_type": "code",
      "metadata": {
        "id": "4acr1QVG2zj_"
      },
      "source": [
        "import pandas as pd\n",
        "import numpy as np\n",
        "import matplotlib.pyplot as plt\n",
        "%matplotlib inline\n",
        "import geopandas as gpd"
      ],
      "execution_count": 37,
      "outputs": []
    },
    {
      "cell_type": "code",
      "metadata": {
        "colab": {
          "base_uri": "https://localhost:8080/"
        },
        "id": "HlM8102xPSAB",
        "outputId": "ef0a0018-2267-4257-ed57-c79fee749bcb"
      },
      "source": [
        "from google.colab import drive\n",
        "drive.mount('/content/drive')"
      ],
      "execution_count": 2,
      "outputs": [
        {
          "output_type": "stream",
          "text": [
            "Mounted at /content/drive\n"
          ],
          "name": "stdout"
        }
      ]
    },
    {
      "cell_type": "code",
      "metadata": {
        "colab": {
          "base_uri": "https://localhost:8080/",
          "height": 402
        },
        "id": "-j5xjScSPmpm",
        "outputId": "cb246577-7e9e-46bd-d371-68e71430ffe7"
      },
      "source": [
        "Doencas_isquemicas = pd.read_excel('/content/drive/MyDrive/Projetos Python/Geografia da Mortalidade /Incidencia_Distrito_Adm/Doencas_isquemicas.xlsx')\n",
        "Doencas_isquemicas.set_axis(['Distrito_Adm', 'Masculino', 'Feminino', 'Doenca_isquemica'],\n",
        "                            axis='columns', inplace=True)\n",
        "Doencas_isquemicas"
      ],
      "execution_count": 3,
      "outputs": [
        {
          "output_type": "execute_result",
          "data": {
            "text/html": [
              "<div>\n",
              "<style scoped>\n",
              "    .dataframe tbody tr th:only-of-type {\n",
              "        vertical-align: middle;\n",
              "    }\n",
              "\n",
              "    .dataframe tbody tr th {\n",
              "        vertical-align: top;\n",
              "    }\n",
              "\n",
              "    .dataframe thead th {\n",
              "        text-align: right;\n",
              "    }\n",
              "</style>\n",
              "<table border=\"1\" class=\"dataframe\">\n",
              "  <thead>\n",
              "    <tr style=\"text-align: right;\">\n",
              "      <th></th>\n",
              "      <th>Distrito_Adm</th>\n",
              "      <th>Masculino</th>\n",
              "      <th>Feminino</th>\n",
              "      <th>Doenca_isquemica</th>\n",
              "    </tr>\n",
              "  </thead>\n",
              "  <tbody>\n",
              "    <tr>\n",
              "      <th>0</th>\n",
              "      <td>Óbitos Residentes MSP por Distrito Admin resid...</td>\n",
              "      <td>NaN</td>\n",
              "      <td>NaN</td>\n",
              "      <td>NaN</td>\n",
              "    </tr>\n",
              "    <tr>\n",
              "      <th>1</th>\n",
              "      <td>Causas específicas: Doenças isquêmicas coração</td>\n",
              "      <td>NaN</td>\n",
              "      <td>NaN</td>\n",
              "      <td>NaN</td>\n",
              "    </tr>\n",
              "    <tr>\n",
              "      <th>2</th>\n",
              "      <td>Período:2016</td>\n",
              "      <td>NaN</td>\n",
              "      <td>NaN</td>\n",
              "      <td>NaN</td>\n",
              "    </tr>\n",
              "    <tr>\n",
              "      <th>3</th>\n",
              "      <td>Distrito Admin residência</td>\n",
              "      <td>Masculino</td>\n",
              "      <td>Feminino</td>\n",
              "      <td>Total</td>\n",
              "    </tr>\n",
              "    <tr>\n",
              "      <th>4</th>\n",
              "      <td>Água Rasa</td>\n",
              "      <td>62</td>\n",
              "      <td>37</td>\n",
              "      <td>99</td>\n",
              "    </tr>\n",
              "    <tr>\n",
              "      <th>...</th>\n",
              "      <td>...</td>\n",
              "      <td>...</td>\n",
              "      <td>...</td>\n",
              "      <td>...</td>\n",
              "    </tr>\n",
              "    <tr>\n",
              "      <th>103</th>\n",
              "      <td>Notas:</td>\n",
              "      <td>NaN</td>\n",
              "      <td>NaN</td>\n",
              "      <td>NaN</td>\n",
              "    </tr>\n",
              "    <tr>\n",
              "      <th>104</th>\n",
              "      <td>1. Para tabulações de proporções, o campo refe...</td>\n",
              "      <td>NaN</td>\n",
              "      <td>NaN</td>\n",
              "      <td>NaN</td>\n",
              "    </tr>\n",
              "    <tr>\n",
              "      <th>105</th>\n",
              "      <td>2. Os coeficientes de mortalidade podem ser ta...</td>\n",
              "      <td>NaN</td>\n",
              "      <td>NaN</td>\n",
              "      <td>NaN</td>\n",
              "    </tr>\n",
              "    <tr>\n",
              "      <th>106</th>\n",
              "      <td>3. Os coeficientes de mortalidade por homicídi...</td>\n",
              "      <td>NaN</td>\n",
              "      <td>NaN</td>\n",
              "      <td>NaN</td>\n",
              "    </tr>\n",
              "    <tr>\n",
              "      <th>107</th>\n",
              "      <td>4. A partir de 2005, os óbitos por acidentes d...</td>\n",
              "      <td>NaN</td>\n",
              "      <td>NaN</td>\n",
              "      <td>NaN</td>\n",
              "    </tr>\n",
              "  </tbody>\n",
              "</table>\n",
              "<p>108 rows × 4 columns</p>\n",
              "</div>"
            ],
            "text/plain": [
              "                                          Distrito_Adm  ... Doenca_isquemica\n",
              "0    Óbitos Residentes MSP por Distrito Admin resid...  ...              NaN\n",
              "1       Causas específicas: Doenças isquêmicas coração  ...              NaN\n",
              "2                                         Período:2016  ...              NaN\n",
              "3                            Distrito Admin residência  ...            Total\n",
              "4                                            Água Rasa  ...               99\n",
              "..                                                 ...  ...              ...\n",
              "103                                             Notas:  ...              NaN\n",
              "104  1. Para tabulações de proporções, o campo refe...  ...              NaN\n",
              "105  2. Os coeficientes de mortalidade podem ser ta...  ...              NaN\n",
              "106  3. Os coeficientes de mortalidade por homicídi...  ...              NaN\n",
              "107  4. A partir de 2005, os óbitos por acidentes d...  ...              NaN\n",
              "\n",
              "[108 rows x 4 columns]"
            ]
          },
          "metadata": {
            "tags": []
          },
          "execution_count": 3
        }
      ]
    },
    {
      "cell_type": "code",
      "metadata": {
        "colab": {
          "base_uri": "https://localhost:8080/",
          "height": 402
        },
        "id": "Y5vqVzR7Q81d",
        "outputId": "9119a824-3885-4f45-d4f2-124f44adfb48"
      },
      "source": [
        "Pneumonias = pd.read_excel('/content/drive/MyDrive/Projetos Python/Geografia da Mortalidade /Incidencia_Distrito_Adm/Pneumonias.xlsx')\n",
        "Pneumonias.set_axis(['Distrito_Adm', 'Masculino', 'Feminino', 'Pneumonias'],\n",
        "                            axis='columns', inplace=True)\n",
        "Pneumonias"
      ],
      "execution_count": 4,
      "outputs": [
        {
          "output_type": "execute_result",
          "data": {
            "text/html": [
              "<div>\n",
              "<style scoped>\n",
              "    .dataframe tbody tr th:only-of-type {\n",
              "        vertical-align: middle;\n",
              "    }\n",
              "\n",
              "    .dataframe tbody tr th {\n",
              "        vertical-align: top;\n",
              "    }\n",
              "\n",
              "    .dataframe thead th {\n",
              "        text-align: right;\n",
              "    }\n",
              "</style>\n",
              "<table border=\"1\" class=\"dataframe\">\n",
              "  <thead>\n",
              "    <tr style=\"text-align: right;\">\n",
              "      <th></th>\n",
              "      <th>Distrito_Adm</th>\n",
              "      <th>Masculino</th>\n",
              "      <th>Feminino</th>\n",
              "      <th>Pneumonias</th>\n",
              "    </tr>\n",
              "  </thead>\n",
              "  <tbody>\n",
              "    <tr>\n",
              "      <th>0</th>\n",
              "      <td>Óbitos Residentes MSP por Distrito Admin resid...</td>\n",
              "      <td>NaN</td>\n",
              "      <td>NaN</td>\n",
              "      <td>NaN</td>\n",
              "    </tr>\n",
              "    <tr>\n",
              "      <th>1</th>\n",
              "      <td>Causas específicas: Pneumonias</td>\n",
              "      <td>NaN</td>\n",
              "      <td>NaN</td>\n",
              "      <td>NaN</td>\n",
              "    </tr>\n",
              "    <tr>\n",
              "      <th>2</th>\n",
              "      <td>Período:2016</td>\n",
              "      <td>NaN</td>\n",
              "      <td>NaN</td>\n",
              "      <td>NaN</td>\n",
              "    </tr>\n",
              "    <tr>\n",
              "      <th>3</th>\n",
              "      <td>Distrito Admin residência</td>\n",
              "      <td>Masculino</td>\n",
              "      <td>Feminino</td>\n",
              "      <td>Total</td>\n",
              "    </tr>\n",
              "    <tr>\n",
              "      <th>4</th>\n",
              "      <td>Água Rasa</td>\n",
              "      <td>33</td>\n",
              "      <td>41</td>\n",
              "      <td>74</td>\n",
              "    </tr>\n",
              "    <tr>\n",
              "      <th>...</th>\n",
              "      <td>...</td>\n",
              "      <td>...</td>\n",
              "      <td>...</td>\n",
              "      <td>...</td>\n",
              "    </tr>\n",
              "    <tr>\n",
              "      <th>103</th>\n",
              "      <td>Notas:</td>\n",
              "      <td>NaN</td>\n",
              "      <td>NaN</td>\n",
              "      <td>NaN</td>\n",
              "    </tr>\n",
              "    <tr>\n",
              "      <th>104</th>\n",
              "      <td>1. Para tabulações de proporções, o campo refe...</td>\n",
              "      <td>NaN</td>\n",
              "      <td>NaN</td>\n",
              "      <td>NaN</td>\n",
              "    </tr>\n",
              "    <tr>\n",
              "      <th>105</th>\n",
              "      <td>2. Os coeficientes de mortalidade podem ser ta...</td>\n",
              "      <td>NaN</td>\n",
              "      <td>NaN</td>\n",
              "      <td>NaN</td>\n",
              "    </tr>\n",
              "    <tr>\n",
              "      <th>106</th>\n",
              "      <td>3. Os coeficientes de mortalidade por homicídi...</td>\n",
              "      <td>NaN</td>\n",
              "      <td>NaN</td>\n",
              "      <td>NaN</td>\n",
              "    </tr>\n",
              "    <tr>\n",
              "      <th>107</th>\n",
              "      <td>4. A partir de 2005, os óbitos por acidentes d...</td>\n",
              "      <td>NaN</td>\n",
              "      <td>NaN</td>\n",
              "      <td>NaN</td>\n",
              "    </tr>\n",
              "  </tbody>\n",
              "</table>\n",
              "<p>108 rows × 4 columns</p>\n",
              "</div>"
            ],
            "text/plain": [
              "                                          Distrito_Adm  ... Pneumonias\n",
              "0    Óbitos Residentes MSP por Distrito Admin resid...  ...        NaN\n",
              "1                       Causas específicas: Pneumonias  ...        NaN\n",
              "2                                         Período:2016  ...        NaN\n",
              "3                            Distrito Admin residência  ...      Total\n",
              "4                                            Água Rasa  ...         74\n",
              "..                                                 ...  ...        ...\n",
              "103                                             Notas:  ...        NaN\n",
              "104  1. Para tabulações de proporções, o campo refe...  ...        NaN\n",
              "105  2. Os coeficientes de mortalidade podem ser ta...  ...        NaN\n",
              "106  3. Os coeficientes de mortalidade por homicídi...  ...        NaN\n",
              "107  4. A partir de 2005, os óbitos por acidentes d...  ...        NaN\n",
              "\n",
              "[108 rows x 4 columns]"
            ]
          },
          "metadata": {
            "tags": []
          },
          "execution_count": 4
        }
      ]
    },
    {
      "cell_type": "code",
      "metadata": {
        "colab": {
          "base_uri": "https://localhost:8080/",
          "height": 402
        },
        "id": "Pnce009-Rb1K",
        "outputId": "7ddddeea-01f6-4f9e-f34c-1abe434561d1"
      },
      "source": [
        "D_Cerebrovascular = pd.read_excel('/content/drive/MyDrive/Projetos Python/Geografia da Mortalidade /Incidencia_Distrito_Adm/Doenca_cerebrovascular.xlsx')\n",
        "D_Cerebrovascular.set_axis(['Distrito_Adm', 'Masculino', 'Feminino', 'Doenca_Cerebrovascular'],\n",
        "                            axis='columns', inplace=True)\n",
        "D_Cerebrovascular"
      ],
      "execution_count": 5,
      "outputs": [
        {
          "output_type": "execute_result",
          "data": {
            "text/html": [
              "<div>\n",
              "<style scoped>\n",
              "    .dataframe tbody tr th:only-of-type {\n",
              "        vertical-align: middle;\n",
              "    }\n",
              "\n",
              "    .dataframe tbody tr th {\n",
              "        vertical-align: top;\n",
              "    }\n",
              "\n",
              "    .dataframe thead th {\n",
              "        text-align: right;\n",
              "    }\n",
              "</style>\n",
              "<table border=\"1\" class=\"dataframe\">\n",
              "  <thead>\n",
              "    <tr style=\"text-align: right;\">\n",
              "      <th></th>\n",
              "      <th>Distrito_Adm</th>\n",
              "      <th>Masculino</th>\n",
              "      <th>Feminino</th>\n",
              "      <th>Doenca_Cerebrovascular</th>\n",
              "    </tr>\n",
              "  </thead>\n",
              "  <tbody>\n",
              "    <tr>\n",
              "      <th>0</th>\n",
              "      <td>Óbitos Residentes MSP por Distrito Admin resid...</td>\n",
              "      <td>NaN</td>\n",
              "      <td>NaN</td>\n",
              "      <td>NaN</td>\n",
              "    </tr>\n",
              "    <tr>\n",
              "      <th>1</th>\n",
              "      <td>Causas específicas: D. cerebrovasculares</td>\n",
              "      <td>NaN</td>\n",
              "      <td>NaN</td>\n",
              "      <td>NaN</td>\n",
              "    </tr>\n",
              "    <tr>\n",
              "      <th>2</th>\n",
              "      <td>Período:2016</td>\n",
              "      <td>NaN</td>\n",
              "      <td>NaN</td>\n",
              "      <td>NaN</td>\n",
              "    </tr>\n",
              "    <tr>\n",
              "      <th>3</th>\n",
              "      <td>Distrito Admin residência</td>\n",
              "      <td>Masculino</td>\n",
              "      <td>Feminino</td>\n",
              "      <td>Total</td>\n",
              "    </tr>\n",
              "    <tr>\n",
              "      <th>4</th>\n",
              "      <td>Água Rasa</td>\n",
              "      <td>33</td>\n",
              "      <td>40</td>\n",
              "      <td>73</td>\n",
              "    </tr>\n",
              "    <tr>\n",
              "      <th>...</th>\n",
              "      <td>...</td>\n",
              "      <td>...</td>\n",
              "      <td>...</td>\n",
              "      <td>...</td>\n",
              "    </tr>\n",
              "    <tr>\n",
              "      <th>103</th>\n",
              "      <td>Notas:</td>\n",
              "      <td>NaN</td>\n",
              "      <td>NaN</td>\n",
              "      <td>NaN</td>\n",
              "    </tr>\n",
              "    <tr>\n",
              "      <th>104</th>\n",
              "      <td>1. Para tabulações de proporções, o campo refe...</td>\n",
              "      <td>NaN</td>\n",
              "      <td>NaN</td>\n",
              "      <td>NaN</td>\n",
              "    </tr>\n",
              "    <tr>\n",
              "      <th>105</th>\n",
              "      <td>2. Os coeficientes de mortalidade podem ser ta...</td>\n",
              "      <td>NaN</td>\n",
              "      <td>NaN</td>\n",
              "      <td>NaN</td>\n",
              "    </tr>\n",
              "    <tr>\n",
              "      <th>106</th>\n",
              "      <td>3. Os coeficientes de mortalidade por homicídi...</td>\n",
              "      <td>NaN</td>\n",
              "      <td>NaN</td>\n",
              "      <td>NaN</td>\n",
              "    </tr>\n",
              "    <tr>\n",
              "      <th>107</th>\n",
              "      <td>4. A partir de 2005, os óbitos por acidentes d...</td>\n",
              "      <td>NaN</td>\n",
              "      <td>NaN</td>\n",
              "      <td>NaN</td>\n",
              "    </tr>\n",
              "  </tbody>\n",
              "</table>\n",
              "<p>108 rows × 4 columns</p>\n",
              "</div>"
            ],
            "text/plain": [
              "                                          Distrito_Adm  ... Doenca_Cerebrovascular\n",
              "0    Óbitos Residentes MSP por Distrito Admin resid...  ...                    NaN\n",
              "1             Causas específicas: D. cerebrovasculares  ...                    NaN\n",
              "2                                         Período:2016  ...                    NaN\n",
              "3                            Distrito Admin residência  ...                  Total\n",
              "4                                            Água Rasa  ...                     73\n",
              "..                                                 ...  ...                    ...\n",
              "103                                             Notas:  ...                    NaN\n",
              "104  1. Para tabulações de proporções, o campo refe...  ...                    NaN\n",
              "105  2. Os coeficientes de mortalidade podem ser ta...  ...                    NaN\n",
              "106  3. Os coeficientes de mortalidade por homicídi...  ...                    NaN\n",
              "107  4. A partir de 2005, os óbitos por acidentes d...  ...                    NaN\n",
              "\n",
              "[108 rows x 4 columns]"
            ]
          },
          "metadata": {
            "tags": []
          },
          "execution_count": 5
        }
      ]
    },
    {
      "cell_type": "code",
      "metadata": {
        "colab": {
          "base_uri": "https://localhost:8080/",
          "height": 402
        },
        "id": "RJjAQj9FRlII",
        "outputId": "83c05214-36bd-4b05-858d-4a8fa906c17f"
      },
      "source": [
        "Bronq_Enf_Asma = pd.read_excel('/content/drive/MyDrive/Projetos Python/Geografia da Mortalidade /Incidencia_Distrito_Adm/Bronquite_Enfisema_asma.xlsx')\n",
        "Bronq_Enf_Asma.set_axis(['Distrito_Adm', 'Masculino', 'Feminino', 'Bronquite_Enfisema_Asma'],\n",
        "                            axis='columns', inplace=True)\n",
        "Bronq_Enf_Asma"
      ],
      "execution_count": 6,
      "outputs": [
        {
          "output_type": "execute_result",
          "data": {
            "text/html": [
              "<div>\n",
              "<style scoped>\n",
              "    .dataframe tbody tr th:only-of-type {\n",
              "        vertical-align: middle;\n",
              "    }\n",
              "\n",
              "    .dataframe tbody tr th {\n",
              "        vertical-align: top;\n",
              "    }\n",
              "\n",
              "    .dataframe thead th {\n",
              "        text-align: right;\n",
              "    }\n",
              "</style>\n",
              "<table border=\"1\" class=\"dataframe\">\n",
              "  <thead>\n",
              "    <tr style=\"text-align: right;\">\n",
              "      <th></th>\n",
              "      <th>Distrito_Adm</th>\n",
              "      <th>Masculino</th>\n",
              "      <th>Feminino</th>\n",
              "      <th>Bronquite_Enfisema_Asma</th>\n",
              "    </tr>\n",
              "  </thead>\n",
              "  <tbody>\n",
              "    <tr>\n",
              "      <th>0</th>\n",
              "      <td>Óbitos Residentes MSP por Distrito Admin resid...</td>\n",
              "      <td>NaN</td>\n",
              "      <td>NaN</td>\n",
              "      <td>NaN</td>\n",
              "    </tr>\n",
              "    <tr>\n",
              "      <th>1</th>\n",
              "      <td>Causas específicas: Bronquite, enfisema, asma</td>\n",
              "      <td>NaN</td>\n",
              "      <td>NaN</td>\n",
              "      <td>NaN</td>\n",
              "    </tr>\n",
              "    <tr>\n",
              "      <th>2</th>\n",
              "      <td>Período:2016</td>\n",
              "      <td>NaN</td>\n",
              "      <td>NaN</td>\n",
              "      <td>NaN</td>\n",
              "    </tr>\n",
              "    <tr>\n",
              "      <th>3</th>\n",
              "      <td>Distrito Admin residência</td>\n",
              "      <td>Masculino</td>\n",
              "      <td>Feminino</td>\n",
              "      <td>Total</td>\n",
              "    </tr>\n",
              "    <tr>\n",
              "      <th>4</th>\n",
              "      <td>Água Rasa</td>\n",
              "      <td>26</td>\n",
              "      <td>14</td>\n",
              "      <td>40</td>\n",
              "    </tr>\n",
              "    <tr>\n",
              "      <th>...</th>\n",
              "      <td>...</td>\n",
              "      <td>...</td>\n",
              "      <td>...</td>\n",
              "      <td>...</td>\n",
              "    </tr>\n",
              "    <tr>\n",
              "      <th>103</th>\n",
              "      <td>Notas:</td>\n",
              "      <td>NaN</td>\n",
              "      <td>NaN</td>\n",
              "      <td>NaN</td>\n",
              "    </tr>\n",
              "    <tr>\n",
              "      <th>104</th>\n",
              "      <td>1. Para tabulações de proporções, o campo refe...</td>\n",
              "      <td>NaN</td>\n",
              "      <td>NaN</td>\n",
              "      <td>NaN</td>\n",
              "    </tr>\n",
              "    <tr>\n",
              "      <th>105</th>\n",
              "      <td>2. Os coeficientes de mortalidade podem ser ta...</td>\n",
              "      <td>NaN</td>\n",
              "      <td>NaN</td>\n",
              "      <td>NaN</td>\n",
              "    </tr>\n",
              "    <tr>\n",
              "      <th>106</th>\n",
              "      <td>3. Os coeficientes de mortalidade por homicídi...</td>\n",
              "      <td>NaN</td>\n",
              "      <td>NaN</td>\n",
              "      <td>NaN</td>\n",
              "    </tr>\n",
              "    <tr>\n",
              "      <th>107</th>\n",
              "      <td>4. A partir de 2005, os óbitos por acidentes d...</td>\n",
              "      <td>NaN</td>\n",
              "      <td>NaN</td>\n",
              "      <td>NaN</td>\n",
              "    </tr>\n",
              "  </tbody>\n",
              "</table>\n",
              "<p>108 rows × 4 columns</p>\n",
              "</div>"
            ],
            "text/plain": [
              "                                          Distrito_Adm  ... Bronquite_Enfisema_Asma\n",
              "0    Óbitos Residentes MSP por Distrito Admin resid...  ...                     NaN\n",
              "1        Causas específicas: Bronquite, enfisema, asma  ...                     NaN\n",
              "2                                         Período:2016  ...                     NaN\n",
              "3                            Distrito Admin residência  ...                   Total\n",
              "4                                            Água Rasa  ...                      40\n",
              "..                                                 ...  ...                     ...\n",
              "103                                             Notas:  ...                     NaN\n",
              "104  1. Para tabulações de proporções, o campo refe...  ...                     NaN\n",
              "105  2. Os coeficientes de mortalidade podem ser ta...  ...                     NaN\n",
              "106  3. Os coeficientes de mortalidade por homicídi...  ...                     NaN\n",
              "107  4. A partir de 2005, os óbitos por acidentes d...  ...                     NaN\n",
              "\n",
              "[108 rows x 4 columns]"
            ]
          },
          "metadata": {
            "tags": []
          },
          "execution_count": 6
        }
      ]
    },
    {
      "cell_type": "code",
      "metadata": {
        "colab": {
          "base_uri": "https://localhost:8080/",
          "height": 402
        },
        "id": "qlU7-QtPR0Vq",
        "outputId": "457b8aea-672a-4d62-c26e-07ec6a12715b"
      },
      "source": [
        "Diabetes_M = pd.read_excel('/content/drive/MyDrive/Projetos Python/Geografia da Mortalidade /Incidencia_Distrito_Adm/Diabetes_M.xlsx')\n",
        "Diabetes_M.set_axis(['Distrito_Adm', 'Masculino', 'Feminino', 'Diabetes'],\n",
        "                            axis='columns', inplace=True)\n",
        "Diabetes_M"
      ],
      "execution_count": 7,
      "outputs": [
        {
          "output_type": "execute_result",
          "data": {
            "text/html": [
              "<div>\n",
              "<style scoped>\n",
              "    .dataframe tbody tr th:only-of-type {\n",
              "        vertical-align: middle;\n",
              "    }\n",
              "\n",
              "    .dataframe tbody tr th {\n",
              "        vertical-align: top;\n",
              "    }\n",
              "\n",
              "    .dataframe thead th {\n",
              "        text-align: right;\n",
              "    }\n",
              "</style>\n",
              "<table border=\"1\" class=\"dataframe\">\n",
              "  <thead>\n",
              "    <tr style=\"text-align: right;\">\n",
              "      <th></th>\n",
              "      <th>Distrito_Adm</th>\n",
              "      <th>Masculino</th>\n",
              "      <th>Feminino</th>\n",
              "      <th>Diabetes</th>\n",
              "    </tr>\n",
              "  </thead>\n",
              "  <tbody>\n",
              "    <tr>\n",
              "      <th>0</th>\n",
              "      <td>Óbitos Residentes MSP por Distrito Admin resid...</td>\n",
              "      <td>NaN</td>\n",
              "      <td>NaN</td>\n",
              "      <td>NaN</td>\n",
              "    </tr>\n",
              "    <tr>\n",
              "      <th>1</th>\n",
              "      <td>Causas específicas: Diabetes mellitus</td>\n",
              "      <td>NaN</td>\n",
              "      <td>NaN</td>\n",
              "      <td>NaN</td>\n",
              "    </tr>\n",
              "    <tr>\n",
              "      <th>2</th>\n",
              "      <td>Período:2016</td>\n",
              "      <td>NaN</td>\n",
              "      <td>NaN</td>\n",
              "      <td>NaN</td>\n",
              "    </tr>\n",
              "    <tr>\n",
              "      <th>3</th>\n",
              "      <td>Distrito Admin residência</td>\n",
              "      <td>Masculino</td>\n",
              "      <td>Feminino</td>\n",
              "      <td>Total</td>\n",
              "    </tr>\n",
              "    <tr>\n",
              "      <th>4</th>\n",
              "      <td>Água Rasa</td>\n",
              "      <td>17</td>\n",
              "      <td>18</td>\n",
              "      <td>35</td>\n",
              "    </tr>\n",
              "    <tr>\n",
              "      <th>...</th>\n",
              "      <td>...</td>\n",
              "      <td>...</td>\n",
              "      <td>...</td>\n",
              "      <td>...</td>\n",
              "    </tr>\n",
              "    <tr>\n",
              "      <th>103</th>\n",
              "      <td>Notas:</td>\n",
              "      <td>NaN</td>\n",
              "      <td>NaN</td>\n",
              "      <td>NaN</td>\n",
              "    </tr>\n",
              "    <tr>\n",
              "      <th>104</th>\n",
              "      <td>1. Para tabulações de proporções, o campo refe...</td>\n",
              "      <td>NaN</td>\n",
              "      <td>NaN</td>\n",
              "      <td>NaN</td>\n",
              "    </tr>\n",
              "    <tr>\n",
              "      <th>105</th>\n",
              "      <td>2. Os coeficientes de mortalidade podem ser ta...</td>\n",
              "      <td>NaN</td>\n",
              "      <td>NaN</td>\n",
              "      <td>NaN</td>\n",
              "    </tr>\n",
              "    <tr>\n",
              "      <th>106</th>\n",
              "      <td>3. Os coeficientes de mortalidade por homicídi...</td>\n",
              "      <td>NaN</td>\n",
              "      <td>NaN</td>\n",
              "      <td>NaN</td>\n",
              "    </tr>\n",
              "    <tr>\n",
              "      <th>107</th>\n",
              "      <td>4. A partir de 2005, os óbitos por acidentes d...</td>\n",
              "      <td>NaN</td>\n",
              "      <td>NaN</td>\n",
              "      <td>NaN</td>\n",
              "    </tr>\n",
              "  </tbody>\n",
              "</table>\n",
              "<p>108 rows × 4 columns</p>\n",
              "</div>"
            ],
            "text/plain": [
              "                                          Distrito_Adm  ... Diabetes\n",
              "0    Óbitos Residentes MSP por Distrito Admin resid...  ...      NaN\n",
              "1                Causas específicas: Diabetes mellitus  ...      NaN\n",
              "2                                         Período:2016  ...      NaN\n",
              "3                            Distrito Admin residência  ...    Total\n",
              "4                                            Água Rasa  ...       35\n",
              "..                                                 ...  ...      ...\n",
              "103                                             Notas:  ...      NaN\n",
              "104  1. Para tabulações de proporções, o campo refe...  ...      NaN\n",
              "105  2. Os coeficientes de mortalidade podem ser ta...  ...      NaN\n",
              "106  3. Os coeficientes de mortalidade por homicídi...  ...      NaN\n",
              "107  4. A partir de 2005, os óbitos por acidentes d...  ...      NaN\n",
              "\n",
              "[108 rows x 4 columns]"
            ]
          },
          "metadata": {
            "tags": []
          },
          "execution_count": 7
        }
      ]
    },
    {
      "cell_type": "code",
      "metadata": {
        "id": "wgaPfsklQ7Mb"
      },
      "source": [
        "Doencas_isquemicas = Doencas_isquemicas.drop([0,1,2,3,100,101,102,103,104,105,106,107])\n",
        "Pneumonias = Pneumonias.drop([0,1,2,3,100,101,102,103,104,105,106,107])\n",
        "D_Cerebrovascular = D_Cerebrovascular.drop([0,1,2,3,100,101,102,103,104,105,106,107])\n",
        "Bronq_Enf_Asma = Bronq_Enf_Asma.drop([0,1,2,3,100,101,102,103,104,105,106,107])\n",
        "Diabetes_M = Diabetes_M.drop([0,1,2,3,100,101,102,103,104,105,106,107])"
      ],
      "execution_count": 8,
      "outputs": []
    },
    {
      "cell_type": "code",
      "metadata": {
        "colab": {
          "base_uri": "https://localhost:8080/",
          "height": 195
        },
        "id": "kxXkzLQhUPZ-",
        "outputId": "4e7e8bcc-d6b9-441f-f291-2508c478239b"
      },
      "source": [
        "Causa_esp_Dist_adm = pd.DataFrame(Doencas_isquemicas, columns=['Distrito_Adm','Doenca_isquemica'])\n",
        "Causa_esp_Dist_adm['Pneumonias'] = Pneumonias['Pneumonias']\n",
        "Causa_esp_Dist_adm['Doenca_Cerebrovascular'] = D_Cerebrovascular['Doenca_Cerebrovascular']\n",
        "Causa_esp_Dist_adm['Bronquite_Enfisema_Asma'] = Bronq_Enf_Asma['Bronquite_Enfisema_Asma']\n",
        "Causa_esp_Dist_adm['Diabetes'] =Diabetes_M['Diabetes']\n",
        "Causa_esp_Dist_adm.head()\n"
      ],
      "execution_count": 9,
      "outputs": [
        {
          "output_type": "execute_result",
          "data": {
            "text/html": [
              "<div>\n",
              "<style scoped>\n",
              "    .dataframe tbody tr th:only-of-type {\n",
              "        vertical-align: middle;\n",
              "    }\n",
              "\n",
              "    .dataframe tbody tr th {\n",
              "        vertical-align: top;\n",
              "    }\n",
              "\n",
              "    .dataframe thead th {\n",
              "        text-align: right;\n",
              "    }\n",
              "</style>\n",
              "<table border=\"1\" class=\"dataframe\">\n",
              "  <thead>\n",
              "    <tr style=\"text-align: right;\">\n",
              "      <th></th>\n",
              "      <th>Distrito_Adm</th>\n",
              "      <th>Doenca_isquemica</th>\n",
              "      <th>Pneumonias</th>\n",
              "      <th>Doenca_Cerebrovascular</th>\n",
              "      <th>Bronquite_Enfisema_Asma</th>\n",
              "      <th>Diabetes</th>\n",
              "    </tr>\n",
              "  </thead>\n",
              "  <tbody>\n",
              "    <tr>\n",
              "      <th>4</th>\n",
              "      <td>Água Rasa</td>\n",
              "      <td>99</td>\n",
              "      <td>74</td>\n",
              "      <td>73</td>\n",
              "      <td>40</td>\n",
              "      <td>35</td>\n",
              "    </tr>\n",
              "    <tr>\n",
              "      <th>5</th>\n",
              "      <td>Alto de Pinheiros</td>\n",
              "      <td>56</td>\n",
              "      <td>14</td>\n",
              "      <td>21</td>\n",
              "      <td>8</td>\n",
              "      <td>7</td>\n",
              "    </tr>\n",
              "    <tr>\n",
              "      <th>6</th>\n",
              "      <td>Anhanguera</td>\n",
              "      <td>36</td>\n",
              "      <td>10</td>\n",
              "      <td>17</td>\n",
              "      <td>5</td>\n",
              "      <td>8</td>\n",
              "    </tr>\n",
              "    <tr>\n",
              "      <th>7</th>\n",
              "      <td>Aricanduva</td>\n",
              "      <td>91</td>\n",
              "      <td>71</td>\n",
              "      <td>46</td>\n",
              "      <td>24</td>\n",
              "      <td>27</td>\n",
              "    </tr>\n",
              "    <tr>\n",
              "      <th>8</th>\n",
              "      <td>Artur Alvim</td>\n",
              "      <td>87</td>\n",
              "      <td>78</td>\n",
              "      <td>78</td>\n",
              "      <td>26</td>\n",
              "      <td>28</td>\n",
              "    </tr>\n",
              "  </tbody>\n",
              "</table>\n",
              "</div>"
            ],
            "text/plain": [
              "        Distrito_Adm Doenca_isquemica  ... Bronquite_Enfisema_Asma Diabetes\n",
              "4          Água Rasa               99  ...                      40       35\n",
              "5  Alto de Pinheiros               56  ...                       8        7\n",
              "6         Anhanguera               36  ...                       5        8\n",
              "7         Aricanduva               91  ...                      24       27\n",
              "8        Artur Alvim               87  ...                      26       28\n",
              "\n",
              "[5 rows x 6 columns]"
            ]
          },
          "metadata": {
            "tags": []
          },
          "execution_count": 9
        }
      ]
    },
    {
      "cell_type": "code",
      "metadata": {
        "id": "T2ELoHvh1IVS"
      },
      "source": [
        "Causa_esp_Dist_adm.values"
      ],
      "execution_count": null,
      "outputs": []
    },
    {
      "cell_type": "code",
      "metadata": {
        "colab": {
          "base_uri": "https://localhost:8080/"
        },
        "id": "6sNmmIYbaf1E",
        "outputId": "6078216c-6603-4dba-e7e3-35b3ae82fa54"
      },
      "source": [
        "Causa_esp_Dist_adm.dtypes"
      ],
      "execution_count": 11,
      "outputs": [
        {
          "output_type": "execute_result",
          "data": {
            "text/plain": [
              "Distrito_Adm               object\n",
              "Doenca_isquemica           object\n",
              "Pneumonias                 object\n",
              "Doenca_Cerebrovascular     object\n",
              "Bronquite_Enfisema_Asma    object\n",
              "Diabetes                   object\n",
              "dtype: object"
            ]
          },
          "metadata": {
            "tags": []
          },
          "execution_count": 11
        }
      ]
    },
    {
      "cell_type": "code",
      "metadata": {
        "colab": {
          "base_uri": "https://localhost:8080/"
        },
        "id": "Aql2BDpcZXZs",
        "outputId": "116a928b-32de-438b-e512-8c51994ff31e"
      },
      "source": [
        "for i in Causa_esp_Dist_adm:\n",
        "  if i not in 'Distrito_Adm':\n",
        "    Causa_esp_Dist_adm[i] = Causa_esp_Dist_adm[i].astype('int64')\n",
        "Causa_esp_Dist_adm.dtypes"
      ],
      "execution_count": 12,
      "outputs": [
        {
          "output_type": "execute_result",
          "data": {
            "text/plain": [
              "Distrito_Adm               object\n",
              "Doenca_isquemica            int64\n",
              "Pneumonias                  int64\n",
              "Doenca_Cerebrovascular      int64\n",
              "Bronquite_Enfisema_Asma     int64\n",
              "Diabetes                    int64\n",
              "dtype: object"
            ]
          },
          "metadata": {
            "tags": []
          },
          "execution_count": 12
        }
      ]
    },
    {
      "cell_type": "code",
      "metadata": {
        "id": "uDYwPWTiSl3I"
      },
      "source": [
        "Causa_esp_Dist_adm = Causa_esp_Dist_adm.sort_values(by='Distrito_Adm', ascending=True)\n",
        "Causa_esp_Dist_adm.index = np.arange(96)\n",
        "Causa_esp_Dist_adm"
      ],
      "execution_count": null,
      "outputs": []
    },
    {
      "cell_type": "code",
      "metadata": {
        "id": "JmHb1Ds9T9_h"
      },
      "source": [
        "populacao = pd.read_excel('/content/drive/MyDrive/Projetos Python/Geografia da Mortalidade /População/populacao_distr_adm_2016.xlsx')\n",
        "populacao = populacao.sort_values(by='Nome Localidade', ascending=True)\n",
        "populacao.index = np.arange(96)\n",
        "populacao"
      ],
      "execution_count": null,
      "outputs": []
    },
    {
      "cell_type": "code",
      "metadata": {
        "id": "caBkrXamUAVM"
      },
      "source": [
        "for i in Causa_esp_Dist_adm['Distrito_Adm']:\n",
        "  for c in populacao['Nome Localidade']:\n",
        "    if i == c:\n",
        "      Causa_esp_Dist_adm['Populacao'] = populacao['Total']\n",
        "Causa_esp_Dist_adm"
      ],
      "execution_count": null,
      "outputs": []
    },
    {
      "cell_type": "code",
      "metadata": {
        "id": "i3-jACB_0M0o"
      },
      "source": [
        "Taxa_Mortalidade = Causa_esp_Dist_adm\n",
        "Taxa_Mortalidade\n",
        "\n",
        "      "
      ],
      "execution_count": null,
      "outputs": []
    },
    {
      "cell_type": "code",
      "metadata": {
        "id": "QRiefqw1CXqD"
      },
      "source": [
        "Colunas = ['Doenca_isquemica', 'Pneumonias', 'Doenca_Cerebrovascular', 'Bronquite_Enfisema_Asma', 'Diabetes']\n",
        "Nomes = ['Taxa_Isq', 'Taxa_Pneu','Taxa_Cereb', 'Taxa_Bronq', 'Taxa_Diab']\n",
        "for n, v in enumerate(Colunas):\n",
        "  if v != 'Distrito_Adm':\n",
        "    Taxa_Mortalidade[Nomes[n]] = (Taxa_Mortalidade[v] / Taxa_Mortalidade['Populacao']) * 1000\n",
        "Taxa_Mortalidade"
      ],
      "execution_count": null,
      "outputs": []
    },
    {
      "cell_type": "code",
      "metadata": {
        "id": "Aa1adRSDN06D"
      },
      "source": [
        "Sao_Paulo = gpd.read_file('/content/drive/MyDrive/Projetos Python/Geografia da Mortalidade /Shapefile/Sao_Paulo/MSP_DA_cod_ibge.shp')\n",
        "Sao_Paulo"
      ],
      "execution_count": null,
      "outputs": []
    },
    {
      "cell_type": "code",
      "metadata": {
        "colab": {
          "base_uri": "https://localhost:8080/",
          "height": 293
        },
        "id": "NrseVbe9N8JE",
        "outputId": "89afec20-6c96-470a-c00d-90e53e718742"
      },
      "source": [
        "Sao_Paulo.plot()"
      ],
      "execution_count": 28,
      "outputs": [
        {
          "output_type": "execute_result",
          "data": {
            "text/plain": [
              "<matplotlib.axes._subplots.AxesSubplot at 0x7ffa43e02550>"
            ]
          },
          "metadata": {
            "tags": []
          },
          "execution_count": 28
        },
        {
          "output_type": "display_data",
          "data": {
            "image/png": "[encoded data removed]",
            "text/plain": [
              "<Figure size 432x288 with 1 Axes>"
            ]
          },
          "metadata": {
            "tags": [],
            "needs_background": "light"
          }
        }
      ]
    },
    {
      "cell_type": "code",
      "metadata": {
        "id": "erhhz0PCOqR4"
      },
      "source": [
        "#Merge entre o GeoDataFrame e o DataFrame de Dados \n",
        "Mortalidade = pd.merge(left=Taxa_Mortalidade, right=Sao_Paulo, left_on='Distrito_Adm', right_on='NOME', how='inner')\n",
        "Mortalidade"
      ],
      "execution_count": null,
      "outputs": []
    },
    {
      "cell_type": "code",
      "metadata": {
        "id": "znkarrb7PefC"
      },
      "source": [
        "#Deletando o arquivo duplicado\n",
        "del Mortalidade['NOME']\n",
        "Mortalidade"
      ],
      "execution_count": null,
      "outputs": []
    },
    {
      "cell_type": "code",
      "metadata": {
        "id": "VN3VGQxyPsd5"
      },
      "source": [
        "#Criação do GeoDataFrame\n",
        "geo_mortalidade = gpd.GeoDataFrame(Mortalidade)\n",
        "geo_mortalidade"
      ],
      "execution_count": null,
      "outputs": []
    },
    {
      "cell_type": "code",
      "metadata": {
        "colab": {
          "base_uri": "https://localhost:8080/",
          "height": 276
        },
        "id": "h7LEaKewQc1R",
        "outputId": "9fab00de-1aa6-475d-d2be-201ebbd311d7"
      },
      "source": [
        "geo_mortalidade.plot(\n",
        "    column='Taxa_Isq', \n",
        "    cmap='OrRd',\n",
        "    );\n"
      ],
      "execution_count": 52,
      "outputs": [
        {
          "output_type": "display_data",
          "data": {
            "image/png": "[encoded data removed]",
            "text/plain": [
              "<Figure size 432x288 with 1 Axes>"
            ]
          },
          "metadata": {
            "tags": [],
            "needs_background": "light"
          }
        }
      ]
    },
    {
      "cell_type": "code",
      "metadata": {
        "colab": {
          "base_uri": "https://localhost:8080/",
          "height": 276
        },
        "id": "HqQgX9YaWBo4",
        "outputId": "a9e12e20-7b94-45fe-8288-10659c350169"
      },
      "source": [
        "geo_mortalidade.plot(\n",
        "    column='Taxa_Pneu', \n",
        "    cmap='OrRd',\n",
        "    );"
      ],
      "execution_count": 53,
      "outputs": [
        {
          "output_type": "display_data",
          "data": {
            "image/png": "[encoded data removed]",
            "text/plain": [
              "<Figure size 432x288 with 1 Axes>"
            ]
          },
          "metadata": {
            "tags": [],
            "needs_background": "light"
          }
        }
      ]
    },
    {
      "cell_type": "code",
      "metadata": {
        "colab": {
          "base_uri": "https://localhost:8080/",
          "height": 276
        },
        "id": "47HZL-1mW-dO",
        "outputId": "52f25aaf-a9c6-47a5-d1c7-3aaf2e36dd6f"
      },
      "source": [
        "geo_mortalidade.plot(\n",
        "    column='Taxa_Cereb', \n",
        "    cmap='OrRd',\n",
        "    );"
      ],
      "execution_count": 54,
      "outputs": [
        {
          "output_type": "display_data",
          "data": {
            "image/png": "[encoded data removed]",
            "text/plain": [
              "<Figure size 432x288 with 1 Axes>"
            ]
          },
          "metadata": {
            "tags": [],
            "needs_background": "light"
          }
        }
      ]
    },
    {
      "cell_type": "code",
      "metadata": {
        "colab": {
          "base_uri": "https://localhost:8080/",
          "height": 276
        },
        "id": "ljXek6DlXFDw",
        "outputId": "65b2ec1a-3463-4de9-b8d7-477912b432bc"
      },
      "source": [
        "geo_mortalidade.plot(\n",
        "    column='Taxa_Bronq', \n",
        "    cmap='OrRd',\n",
        "    );"
      ],
      "execution_count": 55,
      "outputs": [
        {
          "output_type": "display_data",
          "data": {
            "image/png": "[encoded data removed]",
            "text/plain": [
              "<Figure size 432x288 with 1 Axes>"
            ]
          },
          "metadata": {
            "tags": [],
            "needs_background": "light"
          }
        }
      ]
    },
    {
      "cell_type": "code",
      "metadata": {
        "colab": {
          "base_uri": "https://localhost:8080/",
          "height": 276
        },
        "id": "Z140JTDSXJUE",
        "outputId": "38366464-d849-4eaf-b452-4b0cf04a61be"
      },
      "source": [
        "geo_mortalidade.plot(\n",
        "    column='Taxa_Diab', \n",
        "    cmap='OrRd',\n",
        "    );"
      ],
      "execution_count": 56,
      "outputs": [
        {
          "output_type": "display_data",
          "data": {
            "image/png": "[encoded data removed]",
            "text/plain": [
              "<Figure size 432x288 with 1 Axes>"
            ]
          },
          "metadata": {
            "tags": [],
            "needs_background": "light"
          }
        }
      ]
    }
  ]
}