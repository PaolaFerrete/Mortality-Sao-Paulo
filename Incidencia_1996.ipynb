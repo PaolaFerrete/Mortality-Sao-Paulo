{
  "nbformat": 4,
  "nbformat_minor": 0,
  "metadata": {
    "colab": {
      "name": "Copy of Incidencia_1996.ipynb",
      "provenance": [],
      "collapsed_sections": [],
      "toc_visible": true,
      "authorship_tag": "ABX9TyOFjfWRwGLVSVypWk2Mh75I",
      "include_colab_link": true
    },
    "kernelspec": {
      "name": "python3",
      "display_name": "Python 3"
    },
    "accelerator": "GPU"
  },
  "cells": [
    {
      "cell_type": "markdown",
      "metadata": {
        "id": "view-in-github",
        "colab_type": "text"
      },
      "source": [
        "<a href=\"https://colab.research.google.com/github/PaolaFerrete/Mortality-Sao-Paulo/blob/main/Incidencia_1996.ipynb\" target=\"_parent\"><img src=\"https://colab.research.google.com/assets/colab-badge.svg\" alt=\"Open In Colab\"/></a>"
      ]
    },
    {
      "cell_type": "markdown",
      "metadata": {
        "id": "JZTrohl180pA"
      },
      "source": [
        "# **Incidências das cinco principais causa de morte no município de São Paulo para os anos de 1996"
      ]
    },
    {
      "cell_type": "code",
      "metadata": {
        "id": "IcLXguSMAHYP"
      },
      "source": [
        "#importar bibliotecas\r\n",
        "import pandas as pd\r\n",
        "import numpy as np"
      ],
      "execution_count": 2,
      "outputs": []
    },
    {
      "cell_type": "code",
      "metadata": {
        "colab": {
          "base_uri": "https://localhost:8080/"
        },
        "id": "AP_bVuJpAjWz",
        "outputId": "6725a6a1-ed7d-4e7f-db42-a942ea7b8d24"
      },
      "source": [
        "#Conectar com Google Drive\r\n",
        "from google.colab import drive\r\n",
        "drive.mount('/content/drive')"
      ],
      "execution_count": 3,
      "outputs": [
        {
          "output_type": "stream",
          "text": [
            "Mounted at /content/drive\n"
          ],
          "name": "stdout"
        }
      ]
    },
    {
      "cell_type": "markdown",
      "metadata": {
        "id": "SL8TvCJcCgNX"
      },
      "source": [
        "**Informação Referente à Causas_esp_1996**\r\n",
        "**Mortalidade Geral**\r\n",
        "\r\n",
        "Óbitos Residentes MSP por Causas Específicas e Sexo\r\n",
        "\r\n",
        "**Período: 1996**\r\n",
        "\r\n",
        "Fonte: Sistema de Informações sobre Mortalidade - SIM/PRO-AIM-CEInfo-SMS-SP"
      ]
    },
    {
      "cell_type": "code",
      "metadata": {
        "id": "4YN0KCgYA6Rd",
        "colab": {
          "base_uri": "https://localhost:8080/",
          "height": 407
        },
        "outputId": "eff0c8a4-6311-437a-f9c8-6b90640f1a58"
      },
      "source": [
        "#importar arquivo xlsx: Banco de dados de 1996\r\n",
        "Causas_esp_1996 = pd.read_excel('/content/drive/MyDrive/Projetos Python/Geografia da Mortalidade /Incidencia_Causas_Especificas/Total_Causas_Especificas_1996_xlsx.xlsx')\r\n",
        "Causas_esp_1996 #backup"
      ],
      "execution_count": 4,
      "outputs": [
        {
          "output_type": "execute_result",
          "data": {
            "text/html": [
              "<div>\n",
              "<style scoped>\n",
              "    .dataframe tbody tr th:only-of-type {\n",
              "        vertical-align: middle;\n",
              "    }\n",
              "\n",
              "    .dataframe tbody tr th {\n",
              "        vertical-align: top;\n",
              "    }\n",
              "\n",
              "    .dataframe thead th {\n",
              "        text-align: right;\n",
              "    }\n",
              "</style>\n",
              "<table border=\"1\" class=\"dataframe\">\n",
              "  <thead>\n",
              "    <tr style=\"text-align: right;\">\n",
              "      <th></th>\n",
              "      <th>Mortalidade Geral</th>\n",
              "      <th>Unnamed: 1</th>\n",
              "      <th>Unnamed: 2</th>\n",
              "      <th>Unnamed: 3</th>\n",
              "      <th>Unnamed: 4</th>\n",
              "    </tr>\n",
              "  </thead>\n",
              "  <tbody>\n",
              "    <tr>\n",
              "      <th>0</th>\n",
              "      <td>Óbitos Residentes MSP por Causas específicas e...</td>\n",
              "      <td>NaN</td>\n",
              "      <td>NaN</td>\n",
              "      <td>NaN</td>\n",
              "      <td>NaN</td>\n",
              "    </tr>\n",
              "    <tr>\n",
              "      <th>1</th>\n",
              "      <td>Período:1996</td>\n",
              "      <td>NaN</td>\n",
              "      <td>NaN</td>\n",
              "      <td>NaN</td>\n",
              "      <td>NaN</td>\n",
              "    </tr>\n",
              "    <tr>\n",
              "      <th>2</th>\n",
              "      <td>Causas específicas</td>\n",
              "      <td>Masculino</td>\n",
              "      <td>Feminino</td>\n",
              "      <td>Ignorado</td>\n",
              "      <td>Total</td>\n",
              "    </tr>\n",
              "    <tr>\n",
              "      <th>3</th>\n",
              "      <td>Doencas infec intest</td>\n",
              "      <td>166</td>\n",
              "      <td>124</td>\n",
              "      <td>-</td>\n",
              "      <td>290</td>\n",
              "    </tr>\n",
              "    <tr>\n",
              "      <th>4</th>\n",
              "      <td>Tuberculose</td>\n",
              "      <td>478</td>\n",
              "      <td>170</td>\n",
              "      <td>-</td>\n",
              "      <td>648</td>\n",
              "    </tr>\n",
              "    <tr>\n",
              "      <th>...</th>\n",
              "      <td>...</td>\n",
              "      <td>...</td>\n",
              "      <td>...</td>\n",
              "      <td>...</td>\n",
              "      <td>...</td>\n",
              "    </tr>\n",
              "    <tr>\n",
              "      <th>71</th>\n",
              "      <td>Notas:</td>\n",
              "      <td>NaN</td>\n",
              "      <td>NaN</td>\n",
              "      <td>NaN</td>\n",
              "      <td>NaN</td>\n",
              "    </tr>\n",
              "    <tr>\n",
              "      <th>72</th>\n",
              "      <td>1. Para tabulações de proporções, o campo refe...</td>\n",
              "      <td>NaN</td>\n",
              "      <td>NaN</td>\n",
              "      <td>NaN</td>\n",
              "      <td>NaN</td>\n",
              "    </tr>\n",
              "    <tr>\n",
              "      <th>73</th>\n",
              "      <td>2. Os coeficientes de mortalidade podem ser ta...</td>\n",
              "      <td>NaN</td>\n",
              "      <td>NaN</td>\n",
              "      <td>NaN</td>\n",
              "      <td>NaN</td>\n",
              "    </tr>\n",
              "    <tr>\n",
              "      <th>74</th>\n",
              "      <td>3. Os coeficientes de mortalidade por homicídi...</td>\n",
              "      <td>NaN</td>\n",
              "      <td>NaN</td>\n",
              "      <td>NaN</td>\n",
              "      <td>NaN</td>\n",
              "    </tr>\n",
              "    <tr>\n",
              "      <th>75</th>\n",
              "      <td>4. A partir de 2005, os óbitos por acidentes d...</td>\n",
              "      <td>NaN</td>\n",
              "      <td>NaN</td>\n",
              "      <td>NaN</td>\n",
              "      <td>NaN</td>\n",
              "    </tr>\n",
              "  </tbody>\n",
              "</table>\n",
              "<p>76 rows × 5 columns</p>\n",
              "</div>"
            ],
            "text/plain": [
              "                                    Mortalidade Geral  ... Unnamed: 4\n",
              "0   Óbitos Residentes MSP por Causas específicas e...  ...        NaN\n",
              "1                                        Período:1996  ...        NaN\n",
              "2                                  Causas específicas  ...      Total\n",
              "3                                Doencas infec intest  ...        290\n",
              "4                                         Tuberculose  ...        648\n",
              "..                                                ...  ...        ...\n",
              "71                                             Notas:  ...        NaN\n",
              "72  1. Para tabulações de proporções, o campo refe...  ...        NaN\n",
              "73  2. Os coeficientes de mortalidade podem ser ta...  ...        NaN\n",
              "74  3. Os coeficientes de mortalidade por homicídi...  ...        NaN\n",
              "75  4. A partir de 2005, os óbitos por acidentes d...  ...        NaN\n",
              "\n",
              "[76 rows x 5 columns]"
            ]
          },
          "metadata": {
            "tags": []
          },
          "execution_count": 4
        }
      ]
    },
    {
      "cell_type": "code",
      "metadata": {
        "id": "yCznaoH2bGsE"
      },
      "source": [
        "#Copiar DataFrame\r\n",
        "CE_1996 = Causas_esp_1996"
      ],
      "execution_count": 5,
      "outputs": []
    },
    {
      "cell_type": "markdown",
      "metadata": {
        "id": "E4iTIWyr8Z7w"
      },
      "source": [
        "## **Manipulação dos Dados**"
      ]
    },
    {
      "cell_type": "code",
      "metadata": {
        "id": "Lw9IpbqOOP1B"
      },
      "source": [
        "#Apagar linhas desnecessárias\r\n",
        "CE_1996 = CE_1996.drop([0,1,2,68,69,70,71,72,73,74,75])"
      ],
      "execution_count": 6,
      "outputs": []
    },
    {
      "cell_type": "code",
      "metadata": {
        "colab": {
          "base_uri": "https://localhost:8080/",
          "height": 407
        },
        "id": "f0WhT41lcu9H",
        "outputId": "48e7cd62-d466-4339-dab4-3ccaed5bf272"
      },
      "source": [
        "#Renomear Colunas\r\n",
        "CE_1996.set_axis(['Mortalidade_Geral', 'Masculino', 'Feminino', 'Ignorado', 'Total'],\r\n",
        "                 axis='columns', inplace=True)\r\n",
        "#Renomear Index\r\n",
        "CE_1996.index = np.arange(65)\r\n",
        "CE_1996"
      ],
      "execution_count": 7,
      "outputs": [
        {
          "output_type": "execute_result",
          "data": {
            "text/html": [
              "<div>\n",
              "<style scoped>\n",
              "    .dataframe tbody tr th:only-of-type {\n",
              "        vertical-align: middle;\n",
              "    }\n",
              "\n",
              "    .dataframe tbody tr th {\n",
              "        vertical-align: top;\n",
              "    }\n",
              "\n",
              "    .dataframe thead th {\n",
              "        text-align: right;\n",
              "    }\n",
              "</style>\n",
              "<table border=\"1\" class=\"dataframe\">\n",
              "  <thead>\n",
              "    <tr style=\"text-align: right;\">\n",
              "      <th></th>\n",
              "      <th>Mortalidade_Geral</th>\n",
              "      <th>Masculino</th>\n",
              "      <th>Feminino</th>\n",
              "      <th>Ignorado</th>\n",
              "      <th>Total</th>\n",
              "    </tr>\n",
              "  </thead>\n",
              "  <tbody>\n",
              "    <tr>\n",
              "      <th>0</th>\n",
              "      <td>Doencas infec intest</td>\n",
              "      <td>166</td>\n",
              "      <td>124</td>\n",
              "      <td>-</td>\n",
              "      <td>290</td>\n",
              "    </tr>\n",
              "    <tr>\n",
              "      <th>1</th>\n",
              "      <td>Tuberculose</td>\n",
              "      <td>478</td>\n",
              "      <td>170</td>\n",
              "      <td>-</td>\n",
              "      <td>648</td>\n",
              "    </tr>\n",
              "    <tr>\n",
              "      <th>2</th>\n",
              "      <td>Infec menigocóccica</td>\n",
              "      <td>58</td>\n",
              "      <td>51</td>\n",
              "      <td>1</td>\n",
              "      <td>110</td>\n",
              "    </tr>\n",
              "    <tr>\n",
              "      <th>3</th>\n",
              "      <td>Septicemia</td>\n",
              "      <td>194</td>\n",
              "      <td>185</td>\n",
              "      <td>-</td>\n",
              "      <td>379</td>\n",
              "    </tr>\n",
              "    <tr>\n",
              "      <th>4</th>\n",
              "      <td>Aids</td>\n",
              "      <td>2051</td>\n",
              "      <td>721</td>\n",
              "      <td>-</td>\n",
              "      <td>2772</td>\n",
              "    </tr>\n",
              "    <tr>\n",
              "      <th>...</th>\n",
              "      <td>...</td>\n",
              "      <td>...</td>\n",
              "      <td>...</td>\n",
              "      <td>...</td>\n",
              "      <td>...</td>\n",
              "    </tr>\n",
              "    <tr>\n",
              "      <th>60</th>\n",
              "      <td>Demais acidentes</td>\n",
              "      <td>391</td>\n",
              "      <td>129</td>\n",
              "      <td>1</td>\n",
              "      <td>521</td>\n",
              "    </tr>\n",
              "    <tr>\n",
              "      <th>61</th>\n",
              "      <td>Suicídios</td>\n",
              "      <td>378</td>\n",
              "      <td>135</td>\n",
              "      <td>-</td>\n",
              "      <td>513</td>\n",
              "    </tr>\n",
              "    <tr>\n",
              "      <th>62</th>\n",
              "      <td>Homicídios</td>\n",
              "      <td>4495</td>\n",
              "      <td>357</td>\n",
              "      <td>3</td>\n",
              "      <td>4855</td>\n",
              "    </tr>\n",
              "    <tr>\n",
              "      <th>63</th>\n",
              "      <td>Lesões intenc indeterminada</td>\n",
              "      <td>387</td>\n",
              "      <td>59</td>\n",
              "      <td>2</td>\n",
              "      <td>448</td>\n",
              "    </tr>\n",
              "    <tr>\n",
              "      <th>64</th>\n",
              "      <td>Demais causas externas</td>\n",
              "      <td>34</td>\n",
              "      <td>36</td>\n",
              "      <td>-</td>\n",
              "      <td>70</td>\n",
              "    </tr>\n",
              "  </tbody>\n",
              "</table>\n",
              "<p>65 rows × 5 columns</p>\n",
              "</div>"
            ],
            "text/plain": [
              "              Mortalidade_Geral Masculino Feminino Ignorado Total\n",
              "0          Doencas infec intest       166      124        -   290\n",
              "1                   Tuberculose       478      170        -   648\n",
              "2           Infec menigocóccica        58       51        1   110\n",
              "3                    Septicemia       194      185        -   379\n",
              "4                          Aids      2051      721        -  2772\n",
              "..                          ...       ...      ...      ...   ...\n",
              "60             Demais acidentes       391      129        1   521\n",
              "61                    Suicídios       378      135        -   513\n",
              "62                   Homicídios      4495      357        3  4855\n",
              "63  Lesões intenc indeterminada       387       59        2   448\n",
              "64       Demais causas externas        34       36        -    70\n",
              "\n",
              "[65 rows x 5 columns]"
            ]
          },
          "metadata": {
            "tags": []
          },
          "execution_count": 7
        }
      ]
    },
    {
      "cell_type": "code",
      "metadata": {
        "colab": {
          "base_uri": "https://localhost:8080/"
        },
        "id": "frAQRdwgtJix",
        "outputId": "a71b5031-e6a4-4ee3-affc-3ce1f7ff5a07"
      },
      "source": [
        "#Conferindo o tipo dos dados\r\n",
        "CE_1996.dtypes\r\n",
        "#CE_1996.info()"
      ],
      "execution_count": 8,
      "outputs": [
        {
          "output_type": "execute_result",
          "data": {
            "text/plain": [
              "Mortalidade_Geral    object\n",
              "Masculino            object\n",
              "Feminino             object\n",
              "Ignorado             object\n",
              "Total                object\n",
              "dtype: object"
            ]
          },
          "metadata": {
            "tags": []
          },
          "execution_count": 8
        }
      ]
    },
    {
      "cell_type": "code",
      "metadata": {
        "colab": {
          "base_uri": "https://localhost:8080/"
        },
        "id": "mI7UZGGVhd8E",
        "outputId": "6f3a5079-fac6-4fea-f281-ed64ccf9e17c"
      },
      "source": [
        "#Substituir os valores '-' por 0\r\n",
        "CE_1996 = CE_1996.replace('-',0)\r\n",
        "print(CE_1996)"
      ],
      "execution_count": 9,
      "outputs": [
        {
          "output_type": "stream",
          "text": [
            "              Mortalidade_Geral  Masculino  Feminino  Ignorado  Total\n",
            "0          Doencas infec intest        166       124         0    290\n",
            "1                   Tuberculose        478       170         0    648\n",
            "2           Infec menigocóccica         58        51         1    110\n",
            "3                    Septicemia        194       185         0    379\n",
            "4                          Aids       2051       721         0   2772\n",
            "..                          ...        ...       ...       ...    ...\n",
            "60             Demais acidentes        391       129         1    521\n",
            "61                    Suicídios        378       135         0    513\n",
            "62                   Homicídios       4495       357         3   4855\n",
            "63  Lesões intenc indeterminada        387        59         2    448\n",
            "64       Demais causas externas         34        36         0     70\n",
            "\n",
            "[65 rows x 5 columns]\n"
          ],
          "name": "stdout"
        }
      ]
    },
    {
      "cell_type": "code",
      "metadata": {
        "colab": {
          "base_uri": "https://localhost:8080/"
        },
        "id": "RlXGq4KttRc9",
        "outputId": "c23f1b03-4a74-4d80-9c08-18245fe526ee"
      },
      "source": [
        "#Alterar o tipo de dados para inteiro\r\n",
        "for i in CE_1996:\r\n",
        "  if i not in 'Mortalidade_Geral':\r\n",
        "    CE_1996[i].astype('int64')\r\n",
        "CE_1996.dtypes"
      ],
      "execution_count": 10,
      "outputs": [
        {
          "output_type": "execute_result",
          "data": {
            "text/plain": [
              "Mortalidade_Geral    object\n",
              "Masculino             int64\n",
              "Feminino              int64\n",
              "Ignorado              int64\n",
              "Total                 int64\n",
              "dtype: object"
            ]
          },
          "metadata": {
            "tags": []
          },
          "execution_count": 10
        }
      ]
    },
    {
      "cell_type": "code",
      "metadata": {
        "colab": {
          "base_uri": "https://localhost:8080/",
          "height": 287
        },
        "id": "ocyyXzgLvlHt",
        "outputId": "378f2bad-fc4c-47d3-d1ce-c8799b81bf66"
      },
      "source": [
        "#Descrição dos dados\r\n",
        "CE_1996.describe()"
      ],
      "execution_count": 11,
      "outputs": [
        {
          "output_type": "execute_result",
          "data": {
            "text/html": [
              "<div>\n",
              "<style scoped>\n",
              "    .dataframe tbody tr th:only-of-type {\n",
              "        vertical-align: middle;\n",
              "    }\n",
              "\n",
              "    .dataframe tbody tr th {\n",
              "        vertical-align: top;\n",
              "    }\n",
              "\n",
              "    .dataframe thead th {\n",
              "        text-align: right;\n",
              "    }\n",
              "</style>\n",
              "<table border=\"1\" class=\"dataframe\">\n",
              "  <thead>\n",
              "    <tr style=\"text-align: right;\">\n",
              "      <th></th>\n",
              "      <th>Masculino</th>\n",
              "      <th>Feminino</th>\n",
              "      <th>Ignorado</th>\n",
              "      <th>Total</th>\n",
              "    </tr>\n",
              "  </thead>\n",
              "  <tbody>\n",
              "    <tr>\n",
              "      <th>count</th>\n",
              "      <td>65.000000</td>\n",
              "      <td>65.000000</td>\n",
              "      <td>65.000000</td>\n",
              "      <td>65.000000</td>\n",
              "    </tr>\n",
              "    <tr>\n",
              "      <th>mean</th>\n",
              "      <td>519.507692</td>\n",
              "      <td>348.830769</td>\n",
              "      <td>0.553846</td>\n",
              "      <td>868.892308</td>\n",
              "    </tr>\n",
              "    <tr>\n",
              "      <th>std</th>\n",
              "      <td>900.772691</td>\n",
              "      <td>601.997497</td>\n",
              "      <td>2.318612</td>\n",
              "      <td>1411.639717</td>\n",
              "    </tr>\n",
              "    <tr>\n",
              "      <th>min</th>\n",
              "      <td>0.000000</td>\n",
              "      <td>0.000000</td>\n",
              "      <td>0.000000</td>\n",
              "      <td>26.000000</td>\n",
              "    </tr>\n",
              "    <tr>\n",
              "      <th>25%</th>\n",
              "      <td>79.000000</td>\n",
              "      <td>86.000000</td>\n",
              "      <td>0.000000</td>\n",
              "      <td>251.000000</td>\n",
              "    </tr>\n",
              "    <tr>\n",
              "      <th>50%</th>\n",
              "      <td>218.000000</td>\n",
              "      <td>147.000000</td>\n",
              "      <td>0.000000</td>\n",
              "      <td>361.000000</td>\n",
              "    </tr>\n",
              "    <tr>\n",
              "      <th>75%</th>\n",
              "      <td>485.000000</td>\n",
              "      <td>311.000000</td>\n",
              "      <td>0.000000</td>\n",
              "      <td>648.000000</td>\n",
              "    </tr>\n",
              "    <tr>\n",
              "      <th>max</th>\n",
              "      <td>4729.000000</td>\n",
              "      <td>3587.000000</td>\n",
              "      <td>18.000000</td>\n",
              "      <td>8316.000000</td>\n",
              "    </tr>\n",
              "  </tbody>\n",
              "</table>\n",
              "</div>"
            ],
            "text/plain": [
              "         Masculino     Feminino   Ignorado        Total\n",
              "count    65.000000    65.000000  65.000000    65.000000\n",
              "mean    519.507692   348.830769   0.553846   868.892308\n",
              "std     900.772691   601.997497   2.318612  1411.639717\n",
              "min       0.000000     0.000000   0.000000    26.000000\n",
              "25%      79.000000    86.000000   0.000000   251.000000\n",
              "50%     218.000000   147.000000   0.000000   361.000000\n",
              "75%     485.000000   311.000000   0.000000   648.000000\n",
              "max    4729.000000  3587.000000  18.000000  8316.000000"
            ]
          },
          "metadata": {
            "tags": []
          },
          "execution_count": 11
        }
      ]
    },
    {
      "cell_type": "code",
      "metadata": {
        "colab": {
          "base_uri": "https://localhost:8080/",
          "height": 407
        },
        "id": "eR4Hf04AuzUu",
        "outputId": "ead54f3e-fb0b-4a8f-e340-7820fbde62c6"
      },
      "source": [
        "#Separar os Totais\r\n",
        "Total_CE = pd.DataFrame(CE_1996, columns=['Mortalidade_Geral','Total', 'Ano'])\r\n",
        "Total_CE['Ano'] = 1996\r\n",
        "Total_CE"
      ],
      "execution_count": 12,
      "outputs": [
        {
          "output_type": "execute_result",
          "data": {
            "text/html": [
              "<div>\n",
              "<style scoped>\n",
              "    .dataframe tbody tr th:only-of-type {\n",
              "        vertical-align: middle;\n",
              "    }\n",
              "\n",
              "    .dataframe tbody tr th {\n",
              "        vertical-align: top;\n",
              "    }\n",
              "\n",
              "    .dataframe thead th {\n",
              "        text-align: right;\n",
              "    }\n",
              "</style>\n",
              "<table border=\"1\" class=\"dataframe\">\n",
              "  <thead>\n",
              "    <tr style=\"text-align: right;\">\n",
              "      <th></th>\n",
              "      <th>Mortalidade_Geral</th>\n",
              "      <th>Total</th>\n",
              "      <th>Ano</th>\n",
              "    </tr>\n",
              "  </thead>\n",
              "  <tbody>\n",
              "    <tr>\n",
              "      <th>0</th>\n",
              "      <td>Doencas infec intest</td>\n",
              "      <td>290</td>\n",
              "      <td>1996</td>\n",
              "    </tr>\n",
              "    <tr>\n",
              "      <th>1</th>\n",
              "      <td>Tuberculose</td>\n",
              "      <td>648</td>\n",
              "      <td>1996</td>\n",
              "    </tr>\n",
              "    <tr>\n",
              "      <th>2</th>\n",
              "      <td>Infec menigocóccica</td>\n",
              "      <td>110</td>\n",
              "      <td>1996</td>\n",
              "    </tr>\n",
              "    <tr>\n",
              "      <th>3</th>\n",
              "      <td>Septicemia</td>\n",
              "      <td>379</td>\n",
              "      <td>1996</td>\n",
              "    </tr>\n",
              "    <tr>\n",
              "      <th>4</th>\n",
              "      <td>Aids</td>\n",
              "      <td>2772</td>\n",
              "      <td>1996</td>\n",
              "    </tr>\n",
              "    <tr>\n",
              "      <th>...</th>\n",
              "      <td>...</td>\n",
              "      <td>...</td>\n",
              "      <td>...</td>\n",
              "    </tr>\n",
              "    <tr>\n",
              "      <th>60</th>\n",
              "      <td>Demais acidentes</td>\n",
              "      <td>521</td>\n",
              "      <td>1996</td>\n",
              "    </tr>\n",
              "    <tr>\n",
              "      <th>61</th>\n",
              "      <td>Suicídios</td>\n",
              "      <td>513</td>\n",
              "      <td>1996</td>\n",
              "    </tr>\n",
              "    <tr>\n",
              "      <th>62</th>\n",
              "      <td>Homicídios</td>\n",
              "      <td>4855</td>\n",
              "      <td>1996</td>\n",
              "    </tr>\n",
              "    <tr>\n",
              "      <th>63</th>\n",
              "      <td>Lesões intenc indeterminada</td>\n",
              "      <td>448</td>\n",
              "      <td>1996</td>\n",
              "    </tr>\n",
              "    <tr>\n",
              "      <th>64</th>\n",
              "      <td>Demais causas externas</td>\n",
              "      <td>70</td>\n",
              "      <td>1996</td>\n",
              "    </tr>\n",
              "  </tbody>\n",
              "</table>\n",
              "<p>65 rows × 3 columns</p>\n",
              "</div>"
            ],
            "text/plain": [
              "              Mortalidade_Geral  Total   Ano\n",
              "0          Doencas infec intest    290  1996\n",
              "1                   Tuberculose    648  1996\n",
              "2           Infec menigocóccica    110  1996\n",
              "3                    Septicemia    379  1996\n",
              "4                          Aids   2772  1996\n",
              "..                          ...    ...   ...\n",
              "60             Demais acidentes    521  1996\n",
              "61                    Suicídios    513  1996\n",
              "62                   Homicídios   4855  1996\n",
              "63  Lesões intenc indeterminada    448  1996\n",
              "64       Demais causas externas     70  1996\n",
              "\n",
              "[65 rows x 3 columns]"
            ]
          },
          "metadata": {
            "tags": []
          },
          "execution_count": 12
        }
      ]
    },
    {
      "cell_type": "code",
      "metadata": {
        "id": "PzKqxkYDMreK"
      },
      "source": [
        "def Ordem(df, columns='False'):\r\n",
        "  \"\"\"Ordem(df,columns)\r\n",
        "    -> Função para analisar as 5 maiores incidências de mortalidade geral\r\n",
        "      :df: DataFrame\r\n",
        "      :columns: valor opcional, caso não especificado retorna o total\r\n",
        "      :return: retorna um DataFrame com as 5 maiores incidências\r\n",
        "      \"\"\"\r\n",
        "  if columns == 'Masculino':\r\n",
        "    df_masc_ord = CE_1996.sort_values(by='Masculino', ascending=False) #ordenar inversamente os valores da coluna 'Masculino'\r\n",
        "    df_masc_columns = pd.DataFrame(df_masc_ord, columns=['Mortalidade_Geral', 'Masculino', 'Total'],) #criar um DataFrame com as colunas de interesse\r\n",
        "    df_masc_columns.index = np.arange(65) # renumerar o index\r\n",
        "    df_masc_maior = df_masc_columns.iloc[0:5] # selecionando apenas a 5 primeiras linhas\r\n",
        "    df_masc_maior.index = np.arange(1,6) #renomerar index\r\n",
        "    return df_masc_maior\r\n",
        "  elif columns == 'Feminino':\r\n",
        "    df_fem_ord = CE_1996.sort_values(by='Feminino', ascending=False)\r\n",
        "    df_fem_columns = pd.DataFrame(df_fem_ord, columns=['Mortalidade_Geral', 'Feminino', 'Total'],)\r\n",
        "    df_fem_columns.index = np.arange(65)\r\n",
        "    df_fem_maior = df_fem_columns.iloc[0:5]\r\n",
        "    df_fem_maior.index = np.arange(1,6)\r\n",
        "    return df_fem_maior\r\n",
        "  elif columns == 'Ignorado':\r\n",
        "    df_ign_ord = CE_1996.sort_values(by='Ignorado', ascending=False)\r\n",
        "    df_ign_columns = pd.DataFrame(df_ign_ord, columns=['Mortalidade_Geral', 'Ignorado', 'Total'],)\r\n",
        "    df_ign_columns.index = np.arange(65)\r\n",
        "    df_ign_maior = df_ign_columns.iloc[0:5]\r\n",
        "    df_ign_maior.index = np.arange(1,6)\r\n",
        "    return df_ign_maior\r\n",
        "  elif columns == 'Total':\r\n",
        "    df_tot_ord = CE_1996.sort_values(by='Total', ascending=False)\r\n",
        "    df_tot_columns = pd.DataFrame(df_tot_ord, columns=['Mortalidade_Geral', 'Total'])\r\n",
        "    df_tot_columns.index = np.arange(65)\r\n",
        "    df_tot_maior = df_tot_columns.iloc[0:5]\r\n",
        "    df_tot_maior.index = np.arange(1,6)\r\n",
        "    return df_tot_maior\r\n",
        "  else:\r\n",
        "    df_tot_ord = CE_1996.sort_values(by='Total', ascending=False)\r\n",
        "    df_tot_columns = pd.DataFrame(df_tot_ord, columns=['Mortalidade_Geral', 'Total'])\r\n",
        "    df_tot_columns.index = np.arange(65)\r\n",
        "    df_tot_maior = df_tot_columns.iloc[0:5]\r\n",
        "    df_tot_maior.index = np.arange(1,6)\r\n",
        "    return df_tot_maior "
      ],
      "execution_count": 13,
      "outputs": []
    },
    {
      "cell_type": "code",
      "metadata": {
        "colab": {
          "base_uri": "https://localhost:8080/",
          "height": 197
        },
        "id": "VdxTqhsO-9YB",
        "outputId": "98f9c766-d563-4785-baff-6e008fd0080b"
      },
      "source": [
        "#Chamar Def Ordem (As 5 incidências de maior valor)\r\n",
        "Ordem(CE_1996, 'Feminino')"
      ],
      "execution_count": 14,
      "outputs": [
        {
          "output_type": "execute_result",
          "data": {
            "text/html": [
              "<div>\n",
              "<style scoped>\n",
              "    .dataframe tbody tr th:only-of-type {\n",
              "        vertical-align: middle;\n",
              "    }\n",
              "\n",
              "    .dataframe tbody tr th {\n",
              "        vertical-align: top;\n",
              "    }\n",
              "\n",
              "    .dataframe thead th {\n",
              "        text-align: right;\n",
              "    }\n",
              "</style>\n",
              "<table border=\"1\" class=\"dataframe\">\n",
              "  <thead>\n",
              "    <tr style=\"text-align: right;\">\n",
              "      <th></th>\n",
              "      <th>Mortalidade_Geral</th>\n",
              "      <th>Feminino</th>\n",
              "      <th>Total</th>\n",
              "    </tr>\n",
              "  </thead>\n",
              "  <tbody>\n",
              "    <tr>\n",
              "      <th>1</th>\n",
              "      <td>Doenças isquêmicas coração</td>\n",
              "      <td>3587</td>\n",
              "      <td>8316</td>\n",
              "    </tr>\n",
              "    <tr>\n",
              "      <th>2</th>\n",
              "      <td>D. cerebrovasculares</td>\n",
              "      <td>2788</td>\n",
              "      <td>5627</td>\n",
              "    </tr>\n",
              "    <tr>\n",
              "      <th>3</th>\n",
              "      <td>Pneumonias</td>\n",
              "      <td>1635</td>\n",
              "      <td>3548</td>\n",
              "    </tr>\n",
              "    <tr>\n",
              "      <th>4</th>\n",
              "      <td>Diabetes mellitus</td>\n",
              "      <td>1218</td>\n",
              "      <td>2083</td>\n",
              "    </tr>\n",
              "    <tr>\n",
              "      <th>5</th>\n",
              "      <td>Bronquite, enfisema, asma</td>\n",
              "      <td>1048</td>\n",
              "      <td>2542</td>\n",
              "    </tr>\n",
              "  </tbody>\n",
              "</table>\n",
              "</div>"
            ],
            "text/plain": [
              "            Mortalidade_Geral  Feminino  Total\n",
              "1  Doenças isquêmicas coração      3587   8316\n",
              "2        D. cerebrovasculares      2788   5627\n",
              "3                  Pneumonias      1635   3548\n",
              "4           Diabetes mellitus      1218   2083\n",
              "5   Bronquite, enfisema, asma      1048   2542"
            ]
          },
          "metadata": {
            "tags": []
          },
          "execution_count": 14
        }
      ]
    },
    {
      "cell_type": "code",
      "metadata": {
        "colab": {
          "base_uri": "https://localhost:8080/",
          "height": 197
        },
        "id": "ymNhy6dTbvGO",
        "outputId": "c8fc0984-e963-47da-8123-9a08358aa558"
      },
      "source": [
        "#Chamar Def Ordem (As 5 incidências de maior valor)\r\n",
        "Ordem(CE_1996, 'Masculino')"
      ],
      "execution_count": 15,
      "outputs": [
        {
          "output_type": "execute_result",
          "data": {
            "text/html": [
              "<div>\n",
              "<style scoped>\n",
              "    .dataframe tbody tr th:only-of-type {\n",
              "        vertical-align: middle;\n",
              "    }\n",
              "\n",
              "    .dataframe tbody tr th {\n",
              "        vertical-align: top;\n",
              "    }\n",
              "\n",
              "    .dataframe thead th {\n",
              "        text-align: right;\n",
              "    }\n",
              "</style>\n",
              "<table border=\"1\" class=\"dataframe\">\n",
              "  <thead>\n",
              "    <tr style=\"text-align: right;\">\n",
              "      <th></th>\n",
              "      <th>Mortalidade_Geral</th>\n",
              "      <th>Masculino</th>\n",
              "      <th>Total</th>\n",
              "    </tr>\n",
              "  </thead>\n",
              "  <tbody>\n",
              "    <tr>\n",
              "      <th>1</th>\n",
              "      <td>Doenças isquêmicas coração</td>\n",
              "      <td>4729</td>\n",
              "      <td>8316</td>\n",
              "    </tr>\n",
              "    <tr>\n",
              "      <th>2</th>\n",
              "      <td>Homicídios</td>\n",
              "      <td>4495</td>\n",
              "      <td>4855</td>\n",
              "    </tr>\n",
              "    <tr>\n",
              "      <th>3</th>\n",
              "      <td>D. cerebrovasculares</td>\n",
              "      <td>2839</td>\n",
              "      <td>5627</td>\n",
              "    </tr>\n",
              "    <tr>\n",
              "      <th>4</th>\n",
              "      <td>Aids</td>\n",
              "      <td>2051</td>\n",
              "      <td>2772</td>\n",
              "    </tr>\n",
              "    <tr>\n",
              "      <th>5</th>\n",
              "      <td>Pneumonias</td>\n",
              "      <td>1912</td>\n",
              "      <td>3548</td>\n",
              "    </tr>\n",
              "  </tbody>\n",
              "</table>\n",
              "</div>"
            ],
            "text/plain": [
              "            Mortalidade_Geral  Masculino  Total\n",
              "1  Doenças isquêmicas coração       4729   8316\n",
              "2                  Homicídios       4495   4855\n",
              "3        D. cerebrovasculares       2839   5627\n",
              "4                        Aids       2051   2772\n",
              "5                  Pneumonias       1912   3548"
            ]
          },
          "metadata": {
            "tags": []
          },
          "execution_count": 15
        }
      ]
    },
    {
      "cell_type": "code",
      "metadata": {
        "colab": {
          "base_uri": "https://localhost:8080/",
          "height": 197
        },
        "id": "sTy9d9rBbyy8",
        "outputId": "b436f1a2-f6d8-4c1f-9ec5-ba9d9d960d06"
      },
      "source": [
        "#Chamar Def Ordem (As 5 incidências de maior valor)\r\n",
        "Ordem(CE_1996, 'Total')"
      ],
      "execution_count": 16,
      "outputs": [
        {
          "output_type": "execute_result",
          "data": {
            "text/html": [
              "<div>\n",
              "<style scoped>\n",
              "    .dataframe tbody tr th:only-of-type {\n",
              "        vertical-align: middle;\n",
              "    }\n",
              "\n",
              "    .dataframe tbody tr th {\n",
              "        vertical-align: top;\n",
              "    }\n",
              "\n",
              "    .dataframe thead th {\n",
              "        text-align: right;\n",
              "    }\n",
              "</style>\n",
              "<table border=\"1\" class=\"dataframe\">\n",
              "  <thead>\n",
              "    <tr style=\"text-align: right;\">\n",
              "      <th></th>\n",
              "      <th>Mortalidade_Geral</th>\n",
              "      <th>Total</th>\n",
              "    </tr>\n",
              "  </thead>\n",
              "  <tbody>\n",
              "    <tr>\n",
              "      <th>1</th>\n",
              "      <td>Doenças isquêmicas coração</td>\n",
              "      <td>8316</td>\n",
              "    </tr>\n",
              "    <tr>\n",
              "      <th>2</th>\n",
              "      <td>D. cerebrovasculares</td>\n",
              "      <td>5627</td>\n",
              "    </tr>\n",
              "    <tr>\n",
              "      <th>3</th>\n",
              "      <td>Homicídios</td>\n",
              "      <td>4855</td>\n",
              "    </tr>\n",
              "    <tr>\n",
              "      <th>4</th>\n",
              "      <td>Pneumonias</td>\n",
              "      <td>3548</td>\n",
              "    </tr>\n",
              "    <tr>\n",
              "      <th>5</th>\n",
              "      <td>Aids</td>\n",
              "      <td>2772</td>\n",
              "    </tr>\n",
              "  </tbody>\n",
              "</table>\n",
              "</div>"
            ],
            "text/plain": [
              "            Mortalidade_Geral  Total\n",
              "1  Doenças isquêmicas coração   8316\n",
              "2        D. cerebrovasculares   5627\n",
              "3                  Homicídios   4855\n",
              "4                  Pneumonias   3548\n",
              "5                        Aids   2772"
            ]
          },
          "metadata": {
            "tags": []
          },
          "execution_count": 16
        }
      ]
    }
  ]
}