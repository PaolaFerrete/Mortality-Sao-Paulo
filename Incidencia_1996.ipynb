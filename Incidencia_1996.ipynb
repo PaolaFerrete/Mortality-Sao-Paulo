{
  "nbformat": 4,
  "nbformat_minor": 0,
  "metadata": {
    "colab": {
      "name": "Copy of Incidencia_1996.ipynb",
      "provenance": [],
      "collapsed_sections": [],
      "mount_file_id": "https://github.com/PaolaFerrete/Mortality-Sao-Paulo/blob/main/Incidencia_1996.ipynb",
      "authorship_tag": "ABX9TyPfEgG1qHWErtJKbI7Uy8ws",
      "include_colab_link": true
    },
    "kernelspec": {
      "name": "python3",
      "display_name": "Python 3"
    },
    "accelerator": "GPU"
  },
  "cells": [
    {
      "cell_type": "markdown",
      "metadata": {
        "id": "view-in-github",
        "colab_type": "text"
      },
      "source": [
        "<a href=\"https://colab.research.google.com/github/PaolaFerrete/Mortality-Sao-Paulo/blob/main/Incidencia_1996.ipynb\" target=\"_parent\"><img src=\"https://colab.research.google.com/assets/colab-badge.svg\" alt=\"Open In Colab\"/></a>"
      ]
    },
    {
      "cell_type": "markdown",
      "metadata": {
        "id": "JZTrohl180pA"
      },
      "source": [
        "# **Incidências das cinco principais causa de morte no município de São Paulo para os anos de 1996**"
      ]
    },
    {
      "cell_type": "markdown",
      "metadata": {
        "id": "mT1CRWJz47ix"
      },
      "source": [
        "## **Importar Bibliotecas e Dados**"
      ]
    },
    {
      "cell_type": "code",
      "metadata": {
        "id": "IcLXguSMAHYP"
      },
      "source": [
        "#importar bibliotecas\n",
        "import pandas as pd\n",
        "import numpy as np"
      ],
      "execution_count": 8,
      "outputs": []
    },
    {
      "cell_type": "code",
      "metadata": {
        "colab": {
          "base_uri": "https://localhost:8080/"
        },
        "id": "AP_bVuJpAjWz",
        "outputId": "43aa5c24-929f-48d4-af82-d6d51a5b180e"
      },
      "source": [
        "#Conectar com Google Drive\n",
        "from google.colab import drive\n",
        "drive.mount('/content/drive')"
      ],
      "execution_count": 9,
      "outputs": [
        {
          "output_type": "stream",
          "text": [
            "Drive already mounted at /content/drive; to attempt to forcibly remount, call drive.mount(\"/content/drive\", force_remount=True).\n"
          ],
          "name": "stdout"
        }
      ]
    },
    {
      "cell_type": "markdown",
      "metadata": {
        "id": "SL8TvCJcCgNX"
      },
      "source": [
        "**Informações referente ao arquivo Total_Causas_Espcificas_1996_xlsx**\n",
        "\n",
        "**Mortalidade Geral**\n",
        "\n",
        "Óbitos Residentes MSP por Causas Específicas e Sexo\n",
        "\n",
        "**Período: 1996**\n",
        "\n",
        "Fonte: Sistema de Informações sobre Mortalidade - SIM/PRO-AIM-CEInfo-SMS-SP"
      ]
    },
    {
      "cell_type": "code",
      "metadata": {
        "id": "4YN0KCgYA6Rd"
      },
      "source": [
        "#importar arquivo xlsx: Banco de dados de 1996\n",
        "Causas_esp_1996 = pd.read_excel('/content/drive/MyDrive/Projetos Python/Geografia da Mortalidade /Incidencia_Causas_Especificas/Total_Causas_Especificas_1996_xlsx.xlsx')\n",
        "Causas_esp_1996 #backup"
      ],
      "execution_count": null,
      "outputs": []
    },
    {
      "cell_type": "code",
      "metadata": {
        "id": "yCznaoH2bGsE"
      },
      "source": [
        "#Copiar DataFrame\n",
        "CE_1996 = Causas_esp_1996 #backup do df"
      ],
      "execution_count": 11,
      "outputs": []
    },
    {
      "cell_type": "markdown",
      "metadata": {
        "id": "E4iTIWyr8Z7w"
      },
      "source": [
        "## **Manipulação dos Dados**"
      ]
    },
    {
      "cell_type": "code",
      "metadata": {
        "id": "Lw9IpbqOOP1B"
      },
      "source": [
        "#Apagar linhas desnecessárias\n",
        "CE_1996 = CE_1996.drop([0,1,2,68,69,70,71,72,73,74,75])"
      ],
      "execution_count": 12,
      "outputs": []
    },
    {
      "cell_type": "code",
      "metadata": {
        "colab": {
          "base_uri": "https://localhost:8080/",
          "height": 411
        },
        "id": "f0WhT41lcu9H",
        "outputId": "ee49539b-5a88-45c7-c2d0-4955ff98860e"
      },
      "source": [
        "#Renomear Colunas\n",
        "CE_1996.set_axis(['Mortalidade_Geral', 'Masculino', 'Feminino', 'Ignorado', 'Total'],\n",
        "                 axis='columns', inplace=True)\n",
        "#Renumerar Index\n",
        "CE_1996.index = np.arange(65)\n",
        "CE_1996"
      ],
      "execution_count": 13,
      "outputs": [
        {
          "output_type": "execute_result",
          "data": {
            "text/html": [
              "<div>\n",
              "<style scoped>\n",
              "    .dataframe tbody tr th:only-of-type {\n",
              "        vertical-align: middle;\n",
              "    }\n",
              "\n",
              "    .dataframe tbody tr th {\n",
              "        vertical-align: top;\n",
              "    }\n",
              "\n",
              "    .dataframe thead th {\n",
              "        text-align: right;\n",
              "    }\n",
              "</style>\n",
              "<table border=\"1\" class=\"dataframe\">\n",
              "  <thead>\n",
              "    <tr style=\"text-align: right;\">\n",
              "      <th></th>\n",
              "      <th>Mortalidade_Geral</th>\n",
              "      <th>Masculino</th>\n",
              "      <th>Feminino</th>\n",
              "      <th>Ignorado</th>\n",
              "      <th>Total</th>\n",
              "    </tr>\n",
              "  </thead>\n",
              "  <tbody>\n",
              "    <tr>\n",
              "      <th>0</th>\n",
              "      <td>Doencas infec intest</td>\n",
              "      <td>166</td>\n",
              "      <td>124</td>\n",
              "      <td>-</td>\n",
              "      <td>290</td>\n",
              "    </tr>\n",
              "    <tr>\n",
              "      <th>1</th>\n",
              "      <td>Tuberculose</td>\n",
              "      <td>478</td>\n",
              "      <td>170</td>\n",
              "      <td>-</td>\n",
              "      <td>648</td>\n",
              "    </tr>\n",
              "    <tr>\n",
              "      <th>2</th>\n",
              "      <td>Infec menigocóccica</td>\n",
              "      <td>58</td>\n",
              "      <td>51</td>\n",
              "      <td>1</td>\n",
              "      <td>110</td>\n",
              "    </tr>\n",
              "    <tr>\n",
              "      <th>3</th>\n",
              "      <td>Septicemia</td>\n",
              "      <td>194</td>\n",
              "      <td>185</td>\n",
              "      <td>-</td>\n",
              "      <td>379</td>\n",
              "    </tr>\n",
              "    <tr>\n",
              "      <th>4</th>\n",
              "      <td>Aids</td>\n",
              "      <td>2051</td>\n",
              "      <td>721</td>\n",
              "      <td>-</td>\n",
              "      <td>2772</td>\n",
              "    </tr>\n",
              "    <tr>\n",
              "      <th>...</th>\n",
              "      <td>...</td>\n",
              "      <td>...</td>\n",
              "      <td>...</td>\n",
              "      <td>...</td>\n",
              "      <td>...</td>\n",
              "    </tr>\n",
              "    <tr>\n",
              "      <th>60</th>\n",
              "      <td>Demais acidentes</td>\n",
              "      <td>391</td>\n",
              "      <td>129</td>\n",
              "      <td>1</td>\n",
              "      <td>521</td>\n",
              "    </tr>\n",
              "    <tr>\n",
              "      <th>61</th>\n",
              "      <td>Suicídios</td>\n",
              "      <td>378</td>\n",
              "      <td>135</td>\n",
              "      <td>-</td>\n",
              "      <td>513</td>\n",
              "    </tr>\n",
              "    <tr>\n",
              "      <th>62</th>\n",
              "      <td>Homicídios</td>\n",
              "      <td>4495</td>\n",
              "      <td>357</td>\n",
              "      <td>3</td>\n",
              "      <td>4855</td>\n",
              "    </tr>\n",
              "    <tr>\n",
              "      <th>63</th>\n",
              "      <td>Lesões intenc indeterminada</td>\n",
              "      <td>387</td>\n",
              "      <td>59</td>\n",
              "      <td>2</td>\n",
              "      <td>448</td>\n",
              "    </tr>\n",
              "    <tr>\n",
              "      <th>64</th>\n",
              "      <td>Demais causas externas</td>\n",
              "      <td>34</td>\n",
              "      <td>36</td>\n",
              "      <td>-</td>\n",
              "      <td>70</td>\n",
              "    </tr>\n",
              "  </tbody>\n",
              "</table>\n",
              "<p>65 rows × 5 columns</p>\n",
              "</div>"
            ],
            "text/plain": [
              "              Mortalidade_Geral Masculino Feminino Ignorado Total\n",
              "0          Doencas infec intest       166      124        -   290\n",
              "1                   Tuberculose       478      170        -   648\n",
              "2           Infec menigocóccica        58       51        1   110\n",
              "3                    Septicemia       194      185        -   379\n",
              "4                          Aids      2051      721        -  2772\n",
              "..                          ...       ...      ...      ...   ...\n",
              "60             Demais acidentes       391      129        1   521\n",
              "61                    Suicídios       378      135        -   513\n",
              "62                   Homicídios      4495      357        3  4855\n",
              "63  Lesões intenc indeterminada       387       59        2   448\n",
              "64       Demais causas externas        34       36        -    70\n",
              "\n",
              "[65 rows x 5 columns]"
            ]
          },
          "metadata": {
            "tags": []
          },
          "execution_count": 13
        }
      ]
    },
    {
      "cell_type": "code",
      "metadata": {
        "colab": {
          "base_uri": "https://localhost:8080/"
        },
        "id": "frAQRdwgtJix",
        "outputId": "593911e1-9162-4a0c-ce4a-d3edc2cf61e9"
      },
      "source": [
        "#Conferindo o tipo dos dados\n",
        "CE_1996.dtypes"
      ],
      "execution_count": 14,
      "outputs": [
        {
          "output_type": "execute_result",
          "data": {
            "text/plain": [
              "Mortalidade_Geral    object\n",
              "Masculino            object\n",
              "Feminino             object\n",
              "Ignorado             object\n",
              "Total                object\n",
              "dtype: object"
            ]
          },
          "metadata": {
            "tags": []
          },
          "execution_count": 14
        }
      ]
    },
    {
      "cell_type": "code",
      "metadata": {
        "colab": {
          "base_uri": "https://localhost:8080/"
        },
        "id": "mI7UZGGVhd8E",
        "outputId": "30c83797-60cc-441d-87d3-6c6fd5e8d5f4"
      },
      "source": [
        "#Substituir os valores '-' por 0\n",
        "CE_1996 = CE_1996.replace('-',0)\n",
        "print(CE_1996)"
      ],
      "execution_count": 15,
      "outputs": [
        {
          "output_type": "stream",
          "text": [
            "              Mortalidade_Geral  Masculino  Feminino  Ignorado  Total\n",
            "0          Doencas infec intest        166       124         0    290\n",
            "1                   Tuberculose        478       170         0    648\n",
            "2           Infec menigocóccica         58        51         1    110\n",
            "3                    Septicemia        194       185         0    379\n",
            "4                          Aids       2051       721         0   2772\n",
            "..                          ...        ...       ...       ...    ...\n",
            "60             Demais acidentes        391       129         1    521\n",
            "61                    Suicídios        378       135         0    513\n",
            "62                   Homicídios       4495       357         3   4855\n",
            "63  Lesões intenc indeterminada        387        59         2    448\n",
            "64       Demais causas externas         34        36         0     70\n",
            "\n",
            "[65 rows x 5 columns]\n"
          ],
          "name": "stdout"
        }
      ]
    },
    {
      "cell_type": "code",
      "metadata": {
        "colab": {
          "base_uri": "https://localhost:8080/"
        },
        "id": "RlXGq4KttRc9",
        "outputId": "335b45ea-46b3-4d35-8066-cfd1b33961ee"
      },
      "source": [
        "#Alterar o tipo de dados para inteiro\n",
        "for c in CE_1996:\n",
        "  if c not in 'Mortalidade_Geral':\n",
        "    CE_1996[c].astype('int64')\n",
        "CE_1996.dtypes"
      ],
      "execution_count": 16,
      "outputs": [
        {
          "output_type": "execute_result",
          "data": {
            "text/plain": [
              "Mortalidade_Geral    object\n",
              "Masculino             int64\n",
              "Feminino              int64\n",
              "Ignorado              int64\n",
              "Total                 int64\n",
              "dtype: object"
            ]
          },
          "metadata": {
            "tags": []
          },
          "execution_count": 16
        }
      ]
    },
    {
      "cell_type": "code",
      "metadata": {
        "colab": {
          "base_uri": "https://localhost:8080/",
          "height": 291
        },
        "id": "ocyyXzgLvlHt",
        "outputId": "5b7af52d-fe65-4bf2-b365-94b8ecebeea8"
      },
      "source": [
        "#Descrição dos dados\n",
        "CE_1996.describe()"
      ],
      "execution_count": 17,
      "outputs": [
        {
          "output_type": "execute_result",
          "data": {
            "text/html": [
              "<div>\n",
              "<style scoped>\n",
              "    .dataframe tbody tr th:only-of-type {\n",
              "        vertical-align: middle;\n",
              "    }\n",
              "\n",
              "    .dataframe tbody tr th {\n",
              "        vertical-align: top;\n",
              "    }\n",
              "\n",
              "    .dataframe thead th {\n",
              "        text-align: right;\n",
              "    }\n",
              "</style>\n",
              "<table border=\"1\" class=\"dataframe\">\n",
              "  <thead>\n",
              "    <tr style=\"text-align: right;\">\n",
              "      <th></th>\n",
              "      <th>Masculino</th>\n",
              "      <th>Feminino</th>\n",
              "      <th>Ignorado</th>\n",
              "      <th>Total</th>\n",
              "    </tr>\n",
              "  </thead>\n",
              "  <tbody>\n",
              "    <tr>\n",
              "      <th>count</th>\n",
              "      <td>65.000000</td>\n",
              "      <td>65.000000</td>\n",
              "      <td>65.000000</td>\n",
              "      <td>65.000000</td>\n",
              "    </tr>\n",
              "    <tr>\n",
              "      <th>mean</th>\n",
              "      <td>519.507692</td>\n",
              "      <td>348.830769</td>\n",
              "      <td>0.553846</td>\n",
              "      <td>868.892308</td>\n",
              "    </tr>\n",
              "    <tr>\n",
              "      <th>std</th>\n",
              "      <td>900.772691</td>\n",
              "      <td>601.997497</td>\n",
              "      <td>2.318612</td>\n",
              "      <td>1411.639717</td>\n",
              "    </tr>\n",
              "    <tr>\n",
              "      <th>min</th>\n",
              "      <td>0.000000</td>\n",
              "      <td>0.000000</td>\n",
              "      <td>0.000000</td>\n",
              "      <td>26.000000</td>\n",
              "    </tr>\n",
              "    <tr>\n",
              "      <th>25%</th>\n",
              "      <td>79.000000</td>\n",
              "      <td>86.000000</td>\n",
              "      <td>0.000000</td>\n",
              "      <td>251.000000</td>\n",
              "    </tr>\n",
              "    <tr>\n",
              "      <th>50%</th>\n",
              "      <td>218.000000</td>\n",
              "      <td>147.000000</td>\n",
              "      <td>0.000000</td>\n",
              "      <td>361.000000</td>\n",
              "    </tr>\n",
              "    <tr>\n",
              "      <th>75%</th>\n",
              "      <td>485.000000</td>\n",
              "      <td>311.000000</td>\n",
              "      <td>0.000000</td>\n",
              "      <td>648.000000</td>\n",
              "    </tr>\n",
              "    <tr>\n",
              "      <th>max</th>\n",
              "      <td>4729.000000</td>\n",
              "      <td>3587.000000</td>\n",
              "      <td>18.000000</td>\n",
              "      <td>8316.000000</td>\n",
              "    </tr>\n",
              "  </tbody>\n",
              "</table>\n",
              "</div>"
            ],
            "text/plain": [
              "         Masculino     Feminino   Ignorado        Total\n",
              "count    65.000000    65.000000  65.000000    65.000000\n",
              "mean    519.507692   348.830769   0.553846   868.892308\n",
              "std     900.772691   601.997497   2.318612  1411.639717\n",
              "min       0.000000     0.000000   0.000000    26.000000\n",
              "25%      79.000000    86.000000   0.000000   251.000000\n",
              "50%     218.000000   147.000000   0.000000   361.000000\n",
              "75%     485.000000   311.000000   0.000000   648.000000\n",
              "max    4729.000000  3587.000000  18.000000  8316.000000"
            ]
          },
          "metadata": {
            "tags": []
          },
          "execution_count": 17
        }
      ]
    },
    {
      "cell_type": "code",
      "metadata": {
        "id": "D6jKAagRTqtS"
      },
      "source": [
        "def Ordem(df, columns=False):\n",
        "  '''description---------------------------------------------------------------\n",
        "    Ordem(df,columns)\n",
        "    -> Função para analisar as 5 maiores incidências de mortalidade geral\n",
        "      :df: DataFrame\n",
        "      :columns: valor opcional, caso não especificado retorna a coluna total\n",
        "      :return: retorna um DataFrame com as 5 maiores incidências\n",
        "      \"\"\"\n",
        "  ---------------------------------------------------------------------------'''    \n",
        "  if columns == False:\n",
        "    columns = 'Total'\n",
        "  c = ['Masculino', 'Feminino', 'Total']\n",
        "  for i, v in enumerate(c):\n",
        "    if v == columns:\n",
        "      df_v = pd.DataFrame(df, columns=['Mortalidade_Geral', v]).sort_values(by=v, ascending=False) #        \n",
        "      df_v = df_v.iloc[0:5] # selecionando apenas a 5 primeiras linhas\n",
        "      df_v.index = np.arange(1,6) #renomerar index\n",
        "      return df_v"
      ],
      "execution_count": 3,
      "outputs": []
    },
    {
      "cell_type": "code",
      "metadata": {
        "id": "iIBE2z68NroL",
        "outputId": "b508e222-b625-458c-c2f5-933c621e24b2",
        "colab": {
          "base_uri": "https://localhost:8080/",
          "height": 200
        }
      },
      "source": [
        "Ordem(CE_1996, 'Masculino')"
      ],
      "execution_count": 22,
      "outputs": [
        {
          "output_type": "execute_result",
          "data": {
            "text/html": [
              "<div>\n",
              "<style scoped>\n",
              "    .dataframe tbody tr th:only-of-type {\n",
              "        vertical-align: middle;\n",
              "    }\n",
              "\n",
              "    .dataframe tbody tr th {\n",
              "        vertical-align: top;\n",
              "    }\n",
              "\n",
              "    .dataframe thead th {\n",
              "        text-align: right;\n",
              "    }\n",
              "</style>\n",
              "<table border=\"1\" class=\"dataframe\">\n",
              "  <thead>\n",
              "    <tr style=\"text-align: right;\">\n",
              "      <th></th>\n",
              "      <th>Mortalidade_Geral</th>\n",
              "      <th>Masculino</th>\n",
              "    </tr>\n",
              "  </thead>\n",
              "  <tbody>\n",
              "    <tr>\n",
              "      <th>1</th>\n",
              "      <td>Doenças isquêmicas coração</td>\n",
              "      <td>4729</td>\n",
              "    </tr>\n",
              "    <tr>\n",
              "      <th>2</th>\n",
              "      <td>Homicídios</td>\n",
              "      <td>4495</td>\n",
              "    </tr>\n",
              "    <tr>\n",
              "      <th>3</th>\n",
              "      <td>D. cerebrovasculares</td>\n",
              "      <td>2839</td>\n",
              "    </tr>\n",
              "    <tr>\n",
              "      <th>4</th>\n",
              "      <td>Aids</td>\n",
              "      <td>2051</td>\n",
              "    </tr>\n",
              "    <tr>\n",
              "      <th>5</th>\n",
              "      <td>Pneumonias</td>\n",
              "      <td>1912</td>\n",
              "    </tr>\n",
              "  </tbody>\n",
              "</table>\n",
              "</div>"
            ],
            "text/plain": [
              "            Mortalidade_Geral  Masculino\n",
              "1  Doenças isquêmicas coração       4729\n",
              "2                  Homicídios       4495\n",
              "3        D. cerebrovasculares       2839\n",
              "4                        Aids       2051\n",
              "5                  Pneumonias       1912"
            ]
          },
          "metadata": {
            "tags": []
          },
          "execution_count": 22
        }
      ]
    },
    {
      "cell_type": "code",
      "metadata": {
        "id": "-LDnW1algcMI",
        "outputId": "7777e4c4-c21b-4cfb-fce2-bb4cd297f76a",
        "colab": {
          "base_uri": "https://localhost:8080/",
          "height": 200
        }
      },
      "source": [
        "Ordem(CE_1996, 'Feminino')"
      ],
      "execution_count": 23,
      "outputs": [
        {
          "output_type": "execute_result",
          "data": {
            "text/html": [
              "<div>\n",
              "<style scoped>\n",
              "    .dataframe tbody tr th:only-of-type {\n",
              "        vertical-align: middle;\n",
              "    }\n",
              "\n",
              "    .dataframe tbody tr th {\n",
              "        vertical-align: top;\n",
              "    }\n",
              "\n",
              "    .dataframe thead th {\n",
              "        text-align: right;\n",
              "    }\n",
              "</style>\n",
              "<table border=\"1\" class=\"dataframe\">\n",
              "  <thead>\n",
              "    <tr style=\"text-align: right;\">\n",
              "      <th></th>\n",
              "      <th>Mortalidade_Geral</th>\n",
              "      <th>Feminino</th>\n",
              "    </tr>\n",
              "  </thead>\n",
              "  <tbody>\n",
              "    <tr>\n",
              "      <th>1</th>\n",
              "      <td>Doenças isquêmicas coração</td>\n",
              "      <td>3587</td>\n",
              "    </tr>\n",
              "    <tr>\n",
              "      <th>2</th>\n",
              "      <td>D. cerebrovasculares</td>\n",
              "      <td>2788</td>\n",
              "    </tr>\n",
              "    <tr>\n",
              "      <th>3</th>\n",
              "      <td>Pneumonias</td>\n",
              "      <td>1635</td>\n",
              "    </tr>\n",
              "    <tr>\n",
              "      <th>4</th>\n",
              "      <td>Diabetes mellitus</td>\n",
              "      <td>1218</td>\n",
              "    </tr>\n",
              "    <tr>\n",
              "      <th>5</th>\n",
              "      <td>Bronquite, enfisema, asma</td>\n",
              "      <td>1048</td>\n",
              "    </tr>\n",
              "  </tbody>\n",
              "</table>\n",
              "</div>"
            ],
            "text/plain": [
              "            Mortalidade_Geral  Feminino\n",
              "1  Doenças isquêmicas coração      3587\n",
              "2        D. cerebrovasculares      2788\n",
              "3                  Pneumonias      1635\n",
              "4           Diabetes mellitus      1218\n",
              "5   Bronquite, enfisema, asma      1048"
            ]
          },
          "metadata": {
            "tags": []
          },
          "execution_count": 23
        }
      ]
    },
    {
      "cell_type": "code",
      "metadata": {
        "id": "eyEr5T0FgnXi",
        "outputId": "7f19700c-680a-4e5c-853c-6c577dd8678a",
        "colab": {
          "base_uri": "https://localhost:8080/",
          "height": 200
        }
      },
      "source": [
        "Ordem(CE_1996)"
      ],
      "execution_count": 24,
      "outputs": [
        {
          "output_type": "execute_result",
          "data": {
            "text/html": [
              "<div>\n",
              "<style scoped>\n",
              "    .dataframe tbody tr th:only-of-type {\n",
              "        vertical-align: middle;\n",
              "    }\n",
              "\n",
              "    .dataframe tbody tr th {\n",
              "        vertical-align: top;\n",
              "    }\n",
              "\n",
              "    .dataframe thead th {\n",
              "        text-align: right;\n",
              "    }\n",
              "</style>\n",
              "<table border=\"1\" class=\"dataframe\">\n",
              "  <thead>\n",
              "    <tr style=\"text-align: right;\">\n",
              "      <th></th>\n",
              "      <th>Mortalidade_Geral</th>\n",
              "      <th>Total</th>\n",
              "    </tr>\n",
              "  </thead>\n",
              "  <tbody>\n",
              "    <tr>\n",
              "      <th>1</th>\n",
              "      <td>Doenças isquêmicas coração</td>\n",
              "      <td>8316</td>\n",
              "    </tr>\n",
              "    <tr>\n",
              "      <th>2</th>\n",
              "      <td>D. cerebrovasculares</td>\n",
              "      <td>5627</td>\n",
              "    </tr>\n",
              "    <tr>\n",
              "      <th>3</th>\n",
              "      <td>Homicídios</td>\n",
              "      <td>4855</td>\n",
              "    </tr>\n",
              "    <tr>\n",
              "      <th>4</th>\n",
              "      <td>Pneumonias</td>\n",
              "      <td>3548</td>\n",
              "    </tr>\n",
              "    <tr>\n",
              "      <th>5</th>\n",
              "      <td>Aids</td>\n",
              "      <td>2772</td>\n",
              "    </tr>\n",
              "  </tbody>\n",
              "</table>\n",
              "</div>"
            ],
            "text/plain": [
              "            Mortalidade_Geral  Total\n",
              "1  Doenças isquêmicas coração   8316\n",
              "2        D. cerebrovasculares   5627\n",
              "3                  Homicídios   4855\n",
              "4                  Pneumonias   3548\n",
              "5                        Aids   2772"
            ]
          },
          "metadata": {
            "tags": []
          },
          "execution_count": 24
        }
      ]
    }
  ]
}