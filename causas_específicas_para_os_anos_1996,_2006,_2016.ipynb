{
  "nbformat": 4,
  "nbformat_minor": 0,
  "metadata": {
    "colab": {
      "name": "causas específicas para os anos 1996, 2006, 2016.ipynb",
      "provenance": [],
      "collapsed_sections": [],
      "mount_file_id": "https://github.com/PaolaFerrete/Mortality-Sao-Paulo/blob/main/Incidencia_1996.ipynb",
      "authorship_tag": "ABX9TyPt1TSdgGqmnI1SYOv2Pppo",
      "include_colab_link": true
    },
    "kernelspec": {
      "name": "python3",
      "display_name": "Python 3"
    },
    "accelerator": "GPU"
  },
  "cells": [
    {
      "cell_type": "markdown",
      "metadata": {
        "id": "view-in-github",
        "colab_type": "text"
      },
      "source": [
        "<a href=\"https://colab.research.google.com/github/PaolaFerrete/Mortality-Sao-Paulo/blob/main/causas_espec%C3%ADficas_para_os_anos_1996%2C_2006%2C_2016.ipynb\" target=\"_parent\"><img src=\"https://colab.research.google.com/assets/colab-badge.svg\" alt=\"Open In Colab\"/></a>"
      ]
    },
    {
      "cell_type": "markdown",
      "metadata": {
        "id": "JZTrohl180pA"
      },
      "source": [
        "# **Incidências das cinco principais causa de morte no município de São Paulo para os anos de 1996**"
      ]
    },
    {
      "cell_type": "markdown",
      "metadata": {
        "id": "mT1CRWJz47ix"
      },
      "source": [
        "## **Importar Bibliotecas e Dados**"
      ]
    },
    {
      "cell_type": "code",
      "metadata": {
        "id": "IcLXguSMAHYP"
      },
      "source": [
        "#importar bibliotecas\n",
        "import pandas as pd\n",
        "import numpy as np"
      ],
      "execution_count": 1,
      "outputs": []
    },
    {
      "cell_type": "code",
      "metadata": {
        "colab": {
          "base_uri": "https://localhost:8080/"
        },
        "id": "AP_bVuJpAjWz",
        "outputId": "36776fcf-a378-4e65-c994-341e6a4ababc"
      },
      "source": [
        "#Conectar com Google Drive\n",
        "from google.colab import drive\n",
        "drive.mount('/content/drive')"
      ],
      "execution_count": 2,
      "outputs": [
        {
          "output_type": "stream",
          "text": [
            "Mounted at /content/drive\n"
          ],
          "name": "stdout"
        }
      ]
    },
    {
      "cell_type": "markdown",
      "metadata": {
        "id": "SL8TvCJcCgNX"
      },
      "source": [
        "**Informações referente ao arquivo Total_Causas_Espcificas_1996_xlsx**\n",
        "\n",
        "**Mortalidade Geral**\n",
        "\n",
        "Óbitos Residentes MSP por Causas Específicas e Sexo\n",
        "\n",
        "**Período: 1996**\n",
        "\n",
        "Fonte: Sistema de Informações sobre Mortalidade - SIM/PRO-AIM-CEInfo-SMS-SP"
      ]
    },
    {
      "cell_type": "code",
      "metadata": {
        "id": "4YN0KCgYA6Rd"
      },
      "source": [
        "#importar arquivo xlsx: Banco de dados de 1996\n",
        "Causas_esp_1996 = pd.read_excel('/content/drive/MyDrive/Projetos Python/Geografia da Mortalidade /Incidencia_Causas_Especificas/Total_Causas_Especificas_1996_xlsx.xlsx')\n",
        "Causas_esp_1996 #backup"
      ],
      "execution_count": null,
      "outputs": []
    },
    {
      "cell_type": "code",
      "metadata": {
        "id": "IrbH9NgUF6bA"
      },
      "source": [
        "#importar arquivo xlsx: Banco de dados de 2006\n",
        "Causas_esp_2006 = pd.read_excel('/content/drive/MyDrive/Projetos Python/Geografia da Mortalidade /Incidencia_Causas_Especificas/Total_Causas_Especificas_2006_xlsx.xlsx')\n",
        "Causas_esp_2006 #backup\n"
      ],
      "execution_count": null,
      "outputs": []
    },
    {
      "cell_type": "code",
      "metadata": {
        "id": "MVsYn2e8GTGT"
      },
      "source": [
        "#importar arquivo xlsx: Banco de Dados de 2016\n",
        "Causas_esp_2016 = pd.read_excel('/content/drive/MyDrive/Projetos Python/Geografia da Mortalidade /Incidencia_Causas_Especificas/Total_Causas_Especificas_2016_xlxs.xlsx')\n",
        "Causas_esp_2016 #backup"
      ],
      "execution_count": null,
      "outputs": []
    },
    {
      "cell_type": "code",
      "metadata": {
        "id": "yCznaoH2bGsE"
      },
      "source": [
        "#Copiar DataFrame\n",
        "CE_1996 = Causas_esp_1996 #backup do df\n",
        "CE_2006 = Causas_esp_2006\n",
        "CE_2016 = Causas_esp_2016 "
      ],
      "execution_count": 6,
      "outputs": []
    },
    {
      "cell_type": "markdown",
      "metadata": {
        "id": "E4iTIWyr8Z7w"
      },
      "source": [
        "## **Manipulação dos Dados**"
      ]
    },
    {
      "cell_type": "code",
      "metadata": {
        "id": "Lw9IpbqOOP1B"
      },
      "source": [
        "#Apagar linhas desnecessárias\n",
        "CE_1996 = CE_1996.drop([0,1,2,68,69,70,71,72,73,74,75])\n",
        "CE_2006 = CE_2006.drop([0,1,2,68,69,70,71,72,73,74,75])\n",
        "CE_2016 = CE_2016.drop([0,1,2,68,69,70,71,72,73,74,75])"
      ],
      "execution_count": 7,
      "outputs": []
    },
    {
      "cell_type": "code",
      "metadata": {
        "id": "gLLGLbEqJ1EY"
      },
      "source": [
        "CE_1996['Ano'] = 1996\n",
        "CE_2006['Ano'] = 2006\n",
        "CE_2016['Ano'] = 2016"
      ],
      "execution_count": 8,
      "outputs": []
    },
    {
      "cell_type": "code",
      "metadata": {
        "id": "VloxaEjpKSuX"
      },
      "source": [
        "#Concatenando os dados em um único dataFrame\n",
        "Causa_especifica = pd.concat([CE_1996, CE_2006, CE_2016]) "
      ],
      "execution_count": 9,
      "outputs": []
    },
    {
      "cell_type": "code",
      "metadata": {
        "colab": {
          "base_uri": "https://localhost:8080/"
        },
        "id": "Ics_8funLAzo",
        "outputId": "b9478a7d-b63d-4c4c-b9e0-79860576f963"
      },
      "source": [
        "Causa_especifica.shape"
      ],
      "execution_count": 10,
      "outputs": [
        {
          "output_type": "execute_result",
          "data": {
            "text/plain": [
              "(195, 6)"
            ]
          },
          "metadata": {
            "tags": []
          },
          "execution_count": 10
        }
      ]
    },
    {
      "cell_type": "code",
      "metadata": {
        "colab": {
          "base_uri": "https://localhost:8080/",
          "height": 419
        },
        "id": "f0WhT41lcu9H",
        "outputId": "ed79aa96-8e7a-404c-e048-ff49deb666de"
      },
      "source": [
        "#Renomear Colunas\n",
        "Causa_especifica.set_axis(['Mortalidade_Geral', 'Masculino', 'Feminino', 'Ignorado', 'Total', 'Ano'],\n",
        "                 axis='columns', inplace=True)\n",
        "#Renumerar Index\n",
        "Causa_especifica.index = np.arange(195)\n",
        "Causa_especifica"
      ],
      "execution_count": 11,
      "outputs": [
        {
          "output_type": "execute_result",
          "data": {
            "text/html": [
              "<div>\n",
              "<style scoped>\n",
              "    .dataframe tbody tr th:only-of-type {\n",
              "        vertical-align: middle;\n",
              "    }\n",
              "\n",
              "    .dataframe tbody tr th {\n",
              "        vertical-align: top;\n",
              "    }\n",
              "\n",
              "    .dataframe thead th {\n",
              "        text-align: right;\n",
              "    }\n",
              "</style>\n",
              "<table border=\"1\" class=\"dataframe\">\n",
              "  <thead>\n",
              "    <tr style=\"text-align: right;\">\n",
              "      <th></th>\n",
              "      <th>Mortalidade_Geral</th>\n",
              "      <th>Masculino</th>\n",
              "      <th>Feminino</th>\n",
              "      <th>Ignorado</th>\n",
              "      <th>Total</th>\n",
              "      <th>Ano</th>\n",
              "    </tr>\n",
              "  </thead>\n",
              "  <tbody>\n",
              "    <tr>\n",
              "      <th>0</th>\n",
              "      <td>Doencas infec intest</td>\n",
              "      <td>166</td>\n",
              "      <td>124</td>\n",
              "      <td>-</td>\n",
              "      <td>290</td>\n",
              "      <td>1996</td>\n",
              "    </tr>\n",
              "    <tr>\n",
              "      <th>1</th>\n",
              "      <td>Tuberculose</td>\n",
              "      <td>478</td>\n",
              "      <td>170</td>\n",
              "      <td>-</td>\n",
              "      <td>648</td>\n",
              "      <td>1996</td>\n",
              "    </tr>\n",
              "    <tr>\n",
              "      <th>2</th>\n",
              "      <td>Infec menigocóccica</td>\n",
              "      <td>58</td>\n",
              "      <td>51</td>\n",
              "      <td>1</td>\n",
              "      <td>110</td>\n",
              "      <td>1996</td>\n",
              "    </tr>\n",
              "    <tr>\n",
              "      <th>3</th>\n",
              "      <td>Septicemia</td>\n",
              "      <td>194</td>\n",
              "      <td>185</td>\n",
              "      <td>-</td>\n",
              "      <td>379</td>\n",
              "      <td>1996</td>\n",
              "    </tr>\n",
              "    <tr>\n",
              "      <th>4</th>\n",
              "      <td>Aids</td>\n",
              "      <td>2051</td>\n",
              "      <td>721</td>\n",
              "      <td>-</td>\n",
              "      <td>2772</td>\n",
              "      <td>1996</td>\n",
              "    </tr>\n",
              "    <tr>\n",
              "      <th>...</th>\n",
              "      <td>...</td>\n",
              "      <td>...</td>\n",
              "      <td>...</td>\n",
              "      <td>...</td>\n",
              "      <td>...</td>\n",
              "      <td>...</td>\n",
              "    </tr>\n",
              "    <tr>\n",
              "      <th>190</th>\n",
              "      <td>Demais acidentes</td>\n",
              "      <td>755</td>\n",
              "      <td>331</td>\n",
              "      <td>-</td>\n",
              "      <td>1086</td>\n",
              "      <td>2016</td>\n",
              "    </tr>\n",
              "    <tr>\n",
              "      <th>191</th>\n",
              "      <td>Suicídios</td>\n",
              "      <td>365</td>\n",
              "      <td>96</td>\n",
              "      <td>-</td>\n",
              "      <td>461</td>\n",
              "      <td>2016</td>\n",
              "    </tr>\n",
              "    <tr>\n",
              "      <th>192</th>\n",
              "      <td>Homicídios</td>\n",
              "      <td>1010</td>\n",
              "      <td>104</td>\n",
              "      <td>-</td>\n",
              "      <td>1114</td>\n",
              "      <td>2016</td>\n",
              "    </tr>\n",
              "    <tr>\n",
              "      <th>193</th>\n",
              "      <td>Lesões intenc indeterminada</td>\n",
              "      <td>418</td>\n",
              "      <td>103</td>\n",
              "      <td>1</td>\n",
              "      <td>522</td>\n",
              "      <td>2016</td>\n",
              "    </tr>\n",
              "    <tr>\n",
              "      <th>194</th>\n",
              "      <td>Demais causas externas</td>\n",
              "      <td>274</td>\n",
              "      <td>76</td>\n",
              "      <td>-</td>\n",
              "      <td>350</td>\n",
              "      <td>2016</td>\n",
              "    </tr>\n",
              "  </tbody>\n",
              "</table>\n",
              "<p>195 rows × 6 columns</p>\n",
              "</div>"
            ],
            "text/plain": [
              "               Mortalidade_Geral Masculino Feminino Ignorado Total   Ano\n",
              "0           Doencas infec intest       166      124        -   290  1996\n",
              "1                    Tuberculose       478      170        -   648  1996\n",
              "2            Infec menigocóccica        58       51        1   110  1996\n",
              "3                     Septicemia       194      185        -   379  1996\n",
              "4                           Aids      2051      721        -  2772  1996\n",
              "..                           ...       ...      ...      ...   ...   ...\n",
              "190             Demais acidentes       755      331        -  1086  2016\n",
              "191                    Suicídios       365       96        -   461  2016\n",
              "192                   Homicídios      1010      104        -  1114  2016\n",
              "193  Lesões intenc indeterminada       418      103        1   522  2016\n",
              "194       Demais causas externas       274       76        -   350  2016\n",
              "\n",
              "[195 rows x 6 columns]"
            ]
          },
          "metadata": {
            "tags": []
          },
          "execution_count": 11
        }
      ]
    },
    {
      "cell_type": "code",
      "metadata": {
        "colab": {
          "base_uri": "https://localhost:8080/"
        },
        "id": "frAQRdwgtJix",
        "outputId": "23e3b791-048b-41be-b567-1bd39143ddc9"
      },
      "source": [
        "#Conferindo o tipo dos dados\n",
        "Causa_especifica.dtypes"
      ],
      "execution_count": 12,
      "outputs": [
        {
          "output_type": "execute_result",
          "data": {
            "text/plain": [
              "Mortalidade_Geral    object\n",
              "Masculino            object\n",
              "Feminino             object\n",
              "Ignorado             object\n",
              "Total                object\n",
              "Ano                   int64\n",
              "dtype: object"
            ]
          },
          "metadata": {
            "tags": []
          },
          "execution_count": 12
        }
      ]
    },
    {
      "cell_type": "code",
      "metadata": {
        "colab": {
          "base_uri": "https://localhost:8080/"
        },
        "id": "mI7UZGGVhd8E",
        "outputId": "88237083-41d0-4499-df93-f3f81efaf4b3"
      },
      "source": [
        "#Substituir os valores '-' por 0\n",
        "Causa_especifica = Causa_especifica.replace('-',0)\n",
        "print(Causa_especifica)"
      ],
      "execution_count": 13,
      "outputs": [
        {
          "output_type": "stream",
          "text": [
            "               Mortalidade_Geral  Masculino  Feminino  Ignorado  Total   Ano\n",
            "0           Doencas infec intest        166       124         0    290  1996\n",
            "1                    Tuberculose        478       170         0    648  1996\n",
            "2            Infec menigocóccica         58        51         1    110  1996\n",
            "3                     Septicemia        194       185         0    379  1996\n",
            "4                           Aids       2051       721         0   2772  1996\n",
            "..                           ...        ...       ...       ...    ...   ...\n",
            "190             Demais acidentes        755       331         0   1086  2016\n",
            "191                    Suicídios        365        96         0    461  2016\n",
            "192                   Homicídios       1010       104         0   1114  2016\n",
            "193  Lesões intenc indeterminada        418       103         1    522  2016\n",
            "194       Demais causas externas        274        76         0    350  2016\n",
            "\n",
            "[195 rows x 6 columns]\n"
          ],
          "name": "stdout"
        }
      ]
    },
    {
      "cell_type": "code",
      "metadata": {
        "colab": {
          "base_uri": "https://localhost:8080/"
        },
        "id": "RlXGq4KttRc9",
        "outputId": "3ff49a47-4bb0-4cd3-969b-641ecb0025cf"
      },
      "source": [
        "#Alterar o tipo de dados para inteiro\n",
        "for c in Causa_especifica:\n",
        "  if c not in 'Mortalidade_Geral':\n",
        "    Causa_especifica[c].astype('int64')\n",
        "Causa_especifica.dtypes"
      ],
      "execution_count": 14,
      "outputs": [
        {
          "output_type": "execute_result",
          "data": {
            "text/plain": [
              "Mortalidade_Geral    object\n",
              "Masculino             int64\n",
              "Feminino              int64\n",
              "Ignorado              int64\n",
              "Total                 int64\n",
              "Ano                   int64\n",
              "dtype: object"
            ]
          },
          "metadata": {
            "tags": []
          },
          "execution_count": 14
        }
      ]
    },
    {
      "cell_type": "code",
      "metadata": {
        "id": "LLqWcDIzgaOz"
      },
      "source": [
        "Causa_especifica.to_excel('/content/drive/MyDrive/Projetos Python/Geografia da Mortalidade /Output/Causa_especifica.xlsx')"
      ],
      "execution_count": 20,
      "outputs": []
    },
    {
      "cell_type": "markdown",
      "metadata": {
        "id": "ttsCQ7lEQeVF"
      },
      "source": [
        "## **Filtro para consulta das 5 principais incidências de mortalidade para os anos de 1996, 2006 e 2016**"
      ]
    },
    {
      "cell_type": "code",
      "metadata": {
        "id": "D6jKAagRTqtS"
      },
      "source": [
        "def Filtro(year, columns=False):\n",
        "  '''description---------------------------------------------------------------\n",
        "    Ordem(ano,columns)\n",
        "    -> Função para analisar as 5 maiores incidências de mortalidade por \n",
        "      causa específica\n",
        "      :ano: Ano a ser considerado\n",
        "      :columns: valor opcional, caso não especificado retorna a coluna total\n",
        "      :return: retorna um DataFrame com as 5 maiores incidências\n",
        "      \"\"\"\n",
        "  ---------------------------------------------------------------------------'''    \n",
        "  if columns == False:\n",
        "    columns = 'Total'\n",
        "  c = ['Masculino', 'Feminino', 'Total']\n",
        "  a = year\n",
        "  print(a)\n",
        "  df_ano = Causa_especifica.loc[Causa_especifica['Ano'] == a] #filtra por ano\n",
        "  for i, v in enumerate(c):\n",
        "    if v == columns:\n",
        "      df_v = pd.DataFrame(df_ano, columns=['Mortalidade_Geral', v]).sort_values(by=v, ascending=False) # seleção da coluna e ordenação       \n",
        "      df_v = df_v.iloc[0:5] # selecionando apenas a 5 primeiras linhas\n",
        "      df_v.index = np.arange(1,6) #renomerar index\n",
        "      return df_v"
      ],
      "execution_count": 15,
      "outputs": []
    },
    {
      "cell_type": "code",
      "metadata": {
        "colab": {
          "base_uri": "https://localhost:8080/",
          "height": 222
        },
        "id": "FGW2LbFIPVwm",
        "outputId": "189bd367-bc15-4a65-da34-44ce31bc2199"
      },
      "source": [
        "Filtro(2006, 'Total')"
      ],
      "execution_count": 16,
      "outputs": [
        {
          "output_type": "stream",
          "text": [
            "2006\n"
          ],
          "name": "stdout"
        },
        {
          "output_type": "execute_result",
          "data": {
            "text/html": [
              "<div>\n",
              "<style scoped>\n",
              "    .dataframe tbody tr th:only-of-type {\n",
              "        vertical-align: middle;\n",
              "    }\n",
              "\n",
              "    .dataframe tbody tr th {\n",
              "        vertical-align: top;\n",
              "    }\n",
              "\n",
              "    .dataframe thead th {\n",
              "        text-align: right;\n",
              "    }\n",
              "</style>\n",
              "<table border=\"1\" class=\"dataframe\">\n",
              "  <thead>\n",
              "    <tr style=\"text-align: right;\">\n",
              "      <th></th>\n",
              "      <th>Mortalidade_Geral</th>\n",
              "      <th>Total</th>\n",
              "    </tr>\n",
              "  </thead>\n",
              "  <tbody>\n",
              "    <tr>\n",
              "      <th>1</th>\n",
              "      <td>Doenças isquêmicas coração</td>\n",
              "      <td>8340</td>\n",
              "    </tr>\n",
              "    <tr>\n",
              "      <th>2</th>\n",
              "      <td>D. cerebrovasculares</td>\n",
              "      <td>5535</td>\n",
              "    </tr>\n",
              "    <tr>\n",
              "      <th>3</th>\n",
              "      <td>Pneumonias</td>\n",
              "      <td>4523</td>\n",
              "    </tr>\n",
              "    <tr>\n",
              "      <th>4</th>\n",
              "      <td>Bronquite, enfisema, asma</td>\n",
              "      <td>2575</td>\n",
              "    </tr>\n",
              "    <tr>\n",
              "      <th>5</th>\n",
              "      <td>Homicídios</td>\n",
              "      <td>2531</td>\n",
              "    </tr>\n",
              "  </tbody>\n",
              "</table>\n",
              "</div>"
            ],
            "text/plain": [
              "            Mortalidade_Geral  Total\n",
              "1  Doenças isquêmicas coração   8340\n",
              "2        D. cerebrovasculares   5535\n",
              "3                  Pneumonias   4523\n",
              "4   Bronquite, enfisema, asma   2575\n",
              "5                  Homicídios   2531"
            ]
          },
          "metadata": {
            "tags": []
          },
          "execution_count": 16
        }
      ]
    },
    {
      "cell_type": "code",
      "metadata": {
        "colab": {
          "base_uri": "https://localhost:8080/",
          "height": 222
        },
        "id": "7JhZrzRnPkkw",
        "outputId": "7304709d-8643-4f8f-c479-b06744711948"
      },
      "source": [
        "Filtro(1996, 'Total')"
      ],
      "execution_count": 17,
      "outputs": [
        {
          "output_type": "stream",
          "text": [
            "1996\n"
          ],
          "name": "stdout"
        },
        {
          "output_type": "execute_result",
          "data": {
            "text/html": [
              "<div>\n",
              "<style scoped>\n",
              "    .dataframe tbody tr th:only-of-type {\n",
              "        vertical-align: middle;\n",
              "    }\n",
              "\n",
              "    .dataframe tbody tr th {\n",
              "        vertical-align: top;\n",
              "    }\n",
              "\n",
              "    .dataframe thead th {\n",
              "        text-align: right;\n",
              "    }\n",
              "</style>\n",
              "<table border=\"1\" class=\"dataframe\">\n",
              "  <thead>\n",
              "    <tr style=\"text-align: right;\">\n",
              "      <th></th>\n",
              "      <th>Mortalidade_Geral</th>\n",
              "      <th>Total</th>\n",
              "    </tr>\n",
              "  </thead>\n",
              "  <tbody>\n",
              "    <tr>\n",
              "      <th>1</th>\n",
              "      <td>Doenças isquêmicas coração</td>\n",
              "      <td>8316</td>\n",
              "    </tr>\n",
              "    <tr>\n",
              "      <th>2</th>\n",
              "      <td>D. cerebrovasculares</td>\n",
              "      <td>5627</td>\n",
              "    </tr>\n",
              "    <tr>\n",
              "      <th>3</th>\n",
              "      <td>Homicídios</td>\n",
              "      <td>4855</td>\n",
              "    </tr>\n",
              "    <tr>\n",
              "      <th>4</th>\n",
              "      <td>Pneumonias</td>\n",
              "      <td>3548</td>\n",
              "    </tr>\n",
              "    <tr>\n",
              "      <th>5</th>\n",
              "      <td>Aids</td>\n",
              "      <td>2772</td>\n",
              "    </tr>\n",
              "  </tbody>\n",
              "</table>\n",
              "</div>"
            ],
            "text/plain": [
              "            Mortalidade_Geral  Total\n",
              "1  Doenças isquêmicas coração   8316\n",
              "2        D. cerebrovasculares   5627\n",
              "3                  Homicídios   4855\n",
              "4                  Pneumonias   3548\n",
              "5                        Aids   2772"
            ]
          },
          "metadata": {
            "tags": []
          },
          "execution_count": 17
        }
      ]
    },
    {
      "cell_type": "code",
      "metadata": {
        "colab": {
          "base_uri": "https://localhost:8080/",
          "height": 222
        },
        "id": "RqaxpCCdPpSh",
        "outputId": "b04a7d58-c9b5-4813-fd91-430cbfce7e69"
      },
      "source": [
        "Filtro(2016, 'Total')"
      ],
      "execution_count": 18,
      "outputs": [
        {
          "output_type": "stream",
          "text": [
            "2016\n"
          ],
          "name": "stdout"
        },
        {
          "output_type": "execute_result",
          "data": {
            "text/html": [
              "<div>\n",
              "<style scoped>\n",
              "    .dataframe tbody tr th:only-of-type {\n",
              "        vertical-align: middle;\n",
              "    }\n",
              "\n",
              "    .dataframe tbody tr th {\n",
              "        vertical-align: top;\n",
              "    }\n",
              "\n",
              "    .dataframe thead th {\n",
              "        text-align: right;\n",
              "    }\n",
              "</style>\n",
              "<table border=\"1\" class=\"dataframe\">\n",
              "  <thead>\n",
              "    <tr style=\"text-align: right;\">\n",
              "      <th></th>\n",
              "      <th>Mortalidade_Geral</th>\n",
              "      <th>Total</th>\n",
              "    </tr>\n",
              "  </thead>\n",
              "  <tbody>\n",
              "    <tr>\n",
              "      <th>1</th>\n",
              "      <td>Doenças isquêmicas coração</td>\n",
              "      <td>9607</td>\n",
              "    </tr>\n",
              "    <tr>\n",
              "      <th>2</th>\n",
              "      <td>Pneumonias</td>\n",
              "      <td>6509</td>\n",
              "    </tr>\n",
              "    <tr>\n",
              "      <th>3</th>\n",
              "      <td>D. cerebrovasculares</td>\n",
              "      <td>5896</td>\n",
              "    </tr>\n",
              "    <tr>\n",
              "      <th>4</th>\n",
              "      <td>Bronquite, enfisema, asma</td>\n",
              "      <td>2827</td>\n",
              "    </tr>\n",
              "    <tr>\n",
              "      <th>5</th>\n",
              "      <td>Diabetes mellitus</td>\n",
              "      <td>2392</td>\n",
              "    </tr>\n",
              "  </tbody>\n",
              "</table>\n",
              "</div>"
            ],
            "text/plain": [
              "            Mortalidade_Geral  Total\n",
              "1  Doenças isquêmicas coração   9607\n",
              "2                  Pneumonias   6509\n",
              "3        D. cerebrovasculares   5896\n",
              "4   Bronquite, enfisema, asma   2827\n",
              "5           Diabetes mellitus   2392"
            ]
          },
          "metadata": {
            "tags": []
          },
          "execution_count": 18
        }
      ]
    }
  ]
}